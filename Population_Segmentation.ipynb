{
 "cells": [
  {
   "cell_type": "markdown",
   "metadata": {},
   "source": [
    "# Population Segmentation\n",
    "\n",
    "Welcome in this notebook. In this notebook I will investigate the similarities of different counties in the US based on different features. Grouping different counties together is used for market research, pattern recognition, image processing and targeted campaigns by political parties. \n",
    "\n",
    "First I will start by importing and analyzing the data. Second, I will perform PCA analysis to reduce the dimensionality of the data. At last, I will apply the K-means algorithm to group similar datapoints together. I will also try to find the best value for the hyperparameter K (number of clusters) using the elbow and silhouette scores. "
   ]
  },
  {
   "cell_type": "markdown",
   "metadata": {},
   "source": [
    "## 1. Import the data\n",
    "First, import libraries to this SageMaker notebook."
   ]
  },
  {
   "cell_type": "code",
   "execution_count": 2,
   "metadata": {},
   "outputs": [],
   "source": [
    "#Data processing libraries\n",
    "import pandas as pd\n",
    "import numpy as np\n",
    "import os\n",
    "import io\n",
    "\n",
    "#Display libraries\n",
    "import matplotlib.pyplot as plt\n",
    "import matplotlib\n",
    "\n",
    "#To plot in this notebook\n",
    "%matplotlib inline \n",
    "\n",
    "#Sagemaker libraries\n",
    "import sagemaker\n",
    "import boto3 #Allows us to create, update and delete other AWS resources from within this notebook"
   ]
  },
  {
   "cell_type": "markdown",
   "metadata": {},
   "source": [
    "The data we need is stored in an Amazon S3 Bucket. We can load it by pointing to the specific bucket. We will interact with S3 using a boto3 client. "
   ]
  },
  {
   "cell_type": "code",
   "execution_count": 3,
   "metadata": {},
   "outputs": [],
   "source": [
    "s3_client = boto3.client(\"s3\")\n",
    "bucket_name = 'aws-ml-blog-sagemaker-census-segmentation'"
   ]
  },
  {
   "cell_type": "markdown",
   "metadata": {},
   "source": [
    "Take a look at the contents of the bucket."
   ]
  },
  {
   "cell_type": "code",
   "execution_count": 4,
   "metadata": {},
   "outputs": [
    {
     "name": "stdout",
     "output_type": "stream",
     "text": [
      "{'ResponseMetadata': {'RequestId': '7W8Q2RFSCQ6S2YCT', 'HostId': 'tTLPF/EYbgxRTT0V3Nv+RVubgbdzNqfw8Y876Ic1XfwQkkiYOxgKUpxpNf3Iu643h2R04Mt4UIo=', 'HTTPStatusCode': 200, 'HTTPHeaders': {'x-amz-id-2': 'tTLPF/EYbgxRTT0V3Nv+RVubgbdzNqfw8Y876Ic1XfwQkkiYOxgKUpxpNf3Iu643h2R04Mt4UIo=', 'x-amz-request-id': '7W8Q2RFSCQ6S2YCT', 'date': 'Fri, 21 Aug 2020 13:47:22 GMT', 'x-amz-bucket-region': 'us-east-1', 'content-type': 'application/xml', 'transfer-encoding': 'chunked', 'server': 'AmazonS3'}, 'RetryAttempts': 1}, 'IsTruncated': False, 'Marker': '', 'Contents': [{'Key': 'Census_Data_for_SageMaker.csv', 'LastModified': datetime.datetime(2018, 9, 12, 15, 13, 37, tzinfo=tzlocal()), 'ETag': '\"066d37f43f7762f1eb409b1660fe9763\"', 'Size': 613237, 'StorageClass': 'STANDARD'}], 'Name': 'aws-ml-blog-sagemaker-census-segmentation', 'Prefix': '', 'MaxKeys': 1000, 'EncodingType': 'url'}\n"
     ]
    }
   ],
   "source": [
    "objects_list = s3_client.list_objects(Bucket=bucket_name)\n",
    "print(objects_list)"
   ]
  },
  {
   "cell_type": "markdown",
   "metadata": {},
   "source": [
    "From the above response, we need the Census_Data_for_SageMaker.csv, which is the Key in Contents. Content contains all the objects that are returned with additional metadata. "
   ]
  },
  {
   "cell_type": "code",
   "execution_count": 5,
   "metadata": {},
   "outputs": [
    {
     "name": "stdout",
     "output_type": "stream",
     "text": [
      "Census_Data_for_SageMaker.csv\n"
     ]
    }
   ],
   "source": [
    "file_name = objects_list[\"Contents\"][0][\"Key\"]\n",
    "print(file_name)"
   ]
  },
  {
   "cell_type": "markdown",
   "metadata": {},
   "source": [
    "We want to retrieve the data in this object, we do that using the get_object() function."
   ]
  },
  {
   "cell_type": "code",
   "execution_count": 6,
   "metadata": {},
   "outputs": [],
   "source": [
    "data_object = s3_client.get_object(Bucket=bucket_name, Key=file_name)"
   ]
  },
  {
   "cell_type": "markdown",
   "metadata": {},
   "source": [
    "What information does the object contain?"
   ]
  },
  {
   "cell_type": "code",
   "execution_count": 7,
   "metadata": {},
   "outputs": [
    {
     "data": {
      "text/plain": [
       "{'ResponseMetadata': {'RequestId': 'A5AD5D87B6F4252C',\n",
       "  'HostId': 'cpNQanFxH1IXnfg6G6YZ0u7hhhWu7IrtwlOsEmam9Hi3pUrl9ZtvePeJR4eHo/ywKVEXOOHp/s4=',\n",
       "  'HTTPStatusCode': 200,\n",
       "  'HTTPHeaders': {'x-amz-id-2': 'cpNQanFxH1IXnfg6G6YZ0u7hhhWu7IrtwlOsEmam9Hi3pUrl9ZtvePeJR4eHo/ywKVEXOOHp/s4=',\n",
       "   'x-amz-request-id': 'A5AD5D87B6F4252C',\n",
       "   'date': 'Fri, 21 Aug 2020 13:47:23 GMT',\n",
       "   'last-modified': 'Wed, 12 Sep 2018 15:13:37 GMT',\n",
       "   'etag': '\"066d37f43f7762f1eb409b1660fe9763\"',\n",
       "   'accept-ranges': 'bytes',\n",
       "   'content-type': 'text/csv',\n",
       "   'content-length': '613237',\n",
       "   'server': 'AmazonS3'},\n",
       "  'RetryAttempts': 0},\n",
       " 'AcceptRanges': 'bytes',\n",
       " 'LastModified': datetime.datetime(2018, 9, 12, 15, 13, 37, tzinfo=tzutc()),\n",
       " 'ContentLength': 613237,\n",
       " 'ETag': '\"066d37f43f7762f1eb409b1660fe9763\"',\n",
       " 'ContentType': 'text/csv',\n",
       " 'Metadata': {},\n",
       " 'Body': <botocore.response.StreamingBody at 0x7f78f19c4198>}"
      ]
     },
     "metadata": {},
     "output_type": "display_data"
    }
   ],
   "source": [
    "display(data_object)"
   ]
  },
  {
   "cell_type": "markdown",
   "metadata": {},
   "source": [
    "The information is contained in the body. Lets read it in. "
   ]
  },
  {
   "cell_type": "code",
   "execution_count": 8,
   "metadata": {},
   "outputs": [
    {
     "name": "stdout",
     "output_type": "stream",
     "text": [
      "type(data_body) = <class 'bytes'>\n"
     ]
    }
   ],
   "source": [
    "data_body = data_object[\"Body\"].read()\n",
    "print(\"type(data_body) = {}\".format(type(data_body)))"
   ]
  },
  {
   "cell_type": "markdown",
   "metadata": {},
   "source": [
    "Read in the bytes data using io.BytesIO(fille). "
   ]
  },
  {
   "cell_type": "code",
   "execution_count": 9,
   "metadata": {},
   "outputs": [
    {
     "name": "stdout",
     "output_type": "stream",
     "text": [
      "<_io.BytesIO object at 0x7f78f19c23b8>\n"
     ]
    }
   ],
   "source": [
    "data_stream = io.BytesIO(data_body)\n",
    "print(data_stream)"
   ]
  },
  {
   "cell_type": "markdown",
   "metadata": {},
   "source": [
    "Create a dataframe with the data_stream variable."
   ]
  },
  {
   "cell_type": "code",
   "execution_count": 10,
   "metadata": {
    "scrolled": true
   },
   "outputs": [
    {
     "data": {
      "text/html": [
       "<div>\n",
       "<style scoped>\n",
       "    .dataframe tbody tr th:only-of-type {\n",
       "        vertical-align: middle;\n",
       "    }\n",
       "\n",
       "    .dataframe tbody tr th {\n",
       "        vertical-align: top;\n",
       "    }\n",
       "\n",
       "    .dataframe thead th {\n",
       "        text-align: right;\n",
       "    }\n",
       "</style>\n",
       "<table border=\"1\" class=\"dataframe\">\n",
       "  <thead>\n",
       "    <tr style=\"text-align: right;\">\n",
       "      <th></th>\n",
       "      <th>CensusId</th>\n",
       "      <th>State</th>\n",
       "      <th>County</th>\n",
       "      <th>TotalPop</th>\n",
       "      <th>Men</th>\n",
       "      <th>Women</th>\n",
       "      <th>Hispanic</th>\n",
       "      <th>White</th>\n",
       "      <th>Black</th>\n",
       "      <th>Native</th>\n",
       "      <th>...</th>\n",
       "      <th>Walk</th>\n",
       "      <th>OtherTransp</th>\n",
       "      <th>WorkAtHome</th>\n",
       "      <th>MeanCommute</th>\n",
       "      <th>Employed</th>\n",
       "      <th>PrivateWork</th>\n",
       "      <th>PublicWork</th>\n",
       "      <th>SelfEmployed</th>\n",
       "      <th>FamilyWork</th>\n",
       "      <th>Unemployment</th>\n",
       "    </tr>\n",
       "  </thead>\n",
       "  <tbody>\n",
       "    <tr>\n",
       "      <th>0</th>\n",
       "      <td>1001</td>\n",
       "      <td>Alabama</td>\n",
       "      <td>Autauga</td>\n",
       "      <td>55221</td>\n",
       "      <td>26745</td>\n",
       "      <td>28476</td>\n",
       "      <td>2.6</td>\n",
       "      <td>75.8</td>\n",
       "      <td>18.5</td>\n",
       "      <td>0.4</td>\n",
       "      <td>...</td>\n",
       "      <td>0.5</td>\n",
       "      <td>1.3</td>\n",
       "      <td>1.8</td>\n",
       "      <td>26.5</td>\n",
       "      <td>23986</td>\n",
       "      <td>73.6</td>\n",
       "      <td>20.9</td>\n",
       "      <td>5.5</td>\n",
       "      <td>0.0</td>\n",
       "      <td>7.6</td>\n",
       "    </tr>\n",
       "    <tr>\n",
       "      <th>1</th>\n",
       "      <td>1003</td>\n",
       "      <td>Alabama</td>\n",
       "      <td>Baldwin</td>\n",
       "      <td>195121</td>\n",
       "      <td>95314</td>\n",
       "      <td>99807</td>\n",
       "      <td>4.5</td>\n",
       "      <td>83.1</td>\n",
       "      <td>9.5</td>\n",
       "      <td>0.6</td>\n",
       "      <td>...</td>\n",
       "      <td>1.0</td>\n",
       "      <td>1.4</td>\n",
       "      <td>3.9</td>\n",
       "      <td>26.4</td>\n",
       "      <td>85953</td>\n",
       "      <td>81.5</td>\n",
       "      <td>12.3</td>\n",
       "      <td>5.8</td>\n",
       "      <td>0.4</td>\n",
       "      <td>7.5</td>\n",
       "    </tr>\n",
       "    <tr>\n",
       "      <th>2</th>\n",
       "      <td>1005</td>\n",
       "      <td>Alabama</td>\n",
       "      <td>Barbour</td>\n",
       "      <td>26932</td>\n",
       "      <td>14497</td>\n",
       "      <td>12435</td>\n",
       "      <td>4.6</td>\n",
       "      <td>46.2</td>\n",
       "      <td>46.7</td>\n",
       "      <td>0.2</td>\n",
       "      <td>...</td>\n",
       "      <td>1.8</td>\n",
       "      <td>1.5</td>\n",
       "      <td>1.6</td>\n",
       "      <td>24.1</td>\n",
       "      <td>8597</td>\n",
       "      <td>71.8</td>\n",
       "      <td>20.8</td>\n",
       "      <td>7.3</td>\n",
       "      <td>0.1</td>\n",
       "      <td>17.6</td>\n",
       "    </tr>\n",
       "    <tr>\n",
       "      <th>3</th>\n",
       "      <td>1007</td>\n",
       "      <td>Alabama</td>\n",
       "      <td>Bibb</td>\n",
       "      <td>22604</td>\n",
       "      <td>12073</td>\n",
       "      <td>10531</td>\n",
       "      <td>2.2</td>\n",
       "      <td>74.5</td>\n",
       "      <td>21.4</td>\n",
       "      <td>0.4</td>\n",
       "      <td>...</td>\n",
       "      <td>0.6</td>\n",
       "      <td>1.5</td>\n",
       "      <td>0.7</td>\n",
       "      <td>28.8</td>\n",
       "      <td>8294</td>\n",
       "      <td>76.8</td>\n",
       "      <td>16.1</td>\n",
       "      <td>6.7</td>\n",
       "      <td>0.4</td>\n",
       "      <td>8.3</td>\n",
       "    </tr>\n",
       "    <tr>\n",
       "      <th>4</th>\n",
       "      <td>1009</td>\n",
       "      <td>Alabama</td>\n",
       "      <td>Blount</td>\n",
       "      <td>57710</td>\n",
       "      <td>28512</td>\n",
       "      <td>29198</td>\n",
       "      <td>8.6</td>\n",
       "      <td>87.9</td>\n",
       "      <td>1.5</td>\n",
       "      <td>0.3</td>\n",
       "      <td>...</td>\n",
       "      <td>0.9</td>\n",
       "      <td>0.4</td>\n",
       "      <td>2.3</td>\n",
       "      <td>34.9</td>\n",
       "      <td>22189</td>\n",
       "      <td>82.0</td>\n",
       "      <td>13.5</td>\n",
       "      <td>4.2</td>\n",
       "      <td>0.4</td>\n",
       "      <td>7.7</td>\n",
       "    </tr>\n",
       "  </tbody>\n",
       "</table>\n",
       "<p>5 rows × 37 columns</p>\n",
       "</div>"
      ],
      "text/plain": [
       "   CensusId    State   County  TotalPop    Men  Women  Hispanic  White  Black  \\\n",
       "0      1001  Alabama  Autauga     55221  26745  28476       2.6   75.8   18.5   \n",
       "1      1003  Alabama  Baldwin    195121  95314  99807       4.5   83.1    9.5   \n",
       "2      1005  Alabama  Barbour     26932  14497  12435       4.6   46.2   46.7   \n",
       "3      1007  Alabama     Bibb     22604  12073  10531       2.2   74.5   21.4   \n",
       "4      1009  Alabama   Blount     57710  28512  29198       8.6   87.9    1.5   \n",
       "\n",
       "   Native  ...  Walk  OtherTransp  WorkAtHome  MeanCommute  Employed  \\\n",
       "0     0.4  ...   0.5          1.3         1.8         26.5     23986   \n",
       "1     0.6  ...   1.0          1.4         3.9         26.4     85953   \n",
       "2     0.2  ...   1.8          1.5         1.6         24.1      8597   \n",
       "3     0.4  ...   0.6          1.5         0.7         28.8      8294   \n",
       "4     0.3  ...   0.9          0.4         2.3         34.9     22189   \n",
       "\n",
       "   PrivateWork  PublicWork  SelfEmployed  FamilyWork  Unemployment  \n",
       "0         73.6        20.9           5.5         0.0           7.6  \n",
       "1         81.5        12.3           5.8         0.4           7.5  \n",
       "2         71.8        20.8           7.3         0.1          17.6  \n",
       "3         76.8        16.1           6.7         0.4           8.3  \n",
       "4         82.0        13.5           4.2         0.4           7.7  \n",
       "\n",
       "[5 rows x 37 columns]"
      ]
     },
     "execution_count": 10,
     "metadata": {},
     "output_type": "execute_result"
    }
   ],
   "source": [
    "counties_df = pd.read_csv(data_stream, header=0, delimiter=\",\") \n",
    "counties_df.head()"
   ]
  },
  {
   "cell_type": "markdown",
   "metadata": {},
   "source": [
    "## 2. Preprocess Data\n",
    "Now it is time to explore, clean and preprocess the data. "
   ]
  },
  {
   "cell_type": "code",
   "execution_count": 11,
   "metadata": {},
   "outputs": [
    {
     "data": {
      "text/plain": [
       "(3220, 37)"
      ]
     },
     "execution_count": 11,
     "metadata": {},
     "output_type": "execute_result"
    }
   ],
   "source": [
    "counties_df.shape"
   ]
  },
  {
   "cell_type": "code",
   "execution_count": 12,
   "metadata": {},
   "outputs": [
    {
     "name": "stdout",
     "output_type": "stream",
     "text": [
      "<class 'pandas.core.frame.DataFrame'>\n",
      "RangeIndex: 3220 entries, 0 to 3219\n",
      "Data columns (total 37 columns):\n",
      " #   Column           Non-Null Count  Dtype  \n",
      "---  ------           --------------  -----  \n",
      " 0   CensusId         3220 non-null   int64  \n",
      " 1   State            3220 non-null   object \n",
      " 2   County           3220 non-null   object \n",
      " 3   TotalPop         3220 non-null   int64  \n",
      " 4   Men              3220 non-null   int64  \n",
      " 5   Women            3220 non-null   int64  \n",
      " 6   Hispanic         3220 non-null   float64\n",
      " 7   White            3220 non-null   float64\n",
      " 8   Black            3220 non-null   float64\n",
      " 9   Native           3220 non-null   float64\n",
      " 10  Asian            3220 non-null   float64\n",
      " 11  Pacific          3220 non-null   float64\n",
      " 12  Citizen          3220 non-null   int64  \n",
      " 13  Income           3219 non-null   float64\n",
      " 14  IncomeErr        3219 non-null   float64\n",
      " 15  IncomePerCap     3220 non-null   int64  \n",
      " 16  IncomePerCapErr  3220 non-null   int64  \n",
      " 17  Poverty          3220 non-null   float64\n",
      " 18  ChildPoverty     3219 non-null   float64\n",
      " 19  Professional     3220 non-null   float64\n",
      " 20  Service          3220 non-null   float64\n",
      " 21  Office           3220 non-null   float64\n",
      " 22  Construction     3220 non-null   float64\n",
      " 23  Production       3220 non-null   float64\n",
      " 24  Drive            3220 non-null   float64\n",
      " 25  Carpool          3220 non-null   float64\n",
      " 26  Transit          3220 non-null   float64\n",
      " 27  Walk             3220 non-null   float64\n",
      " 28  OtherTransp      3220 non-null   float64\n",
      " 29  WorkAtHome       3220 non-null   float64\n",
      " 30  MeanCommute      3220 non-null   float64\n",
      " 31  Employed         3220 non-null   int64  \n",
      " 32  PrivateWork      3220 non-null   float64\n",
      " 33  PublicWork       3220 non-null   float64\n",
      " 34  SelfEmployed     3220 non-null   float64\n",
      " 35  FamilyWork       3220 non-null   float64\n",
      " 36  Unemployment     3220 non-null   float64\n",
      "dtypes: float64(27), int64(8), object(2)\n",
      "memory usage: 930.9+ KB\n"
     ]
    }
   ],
   "source": [
    "counties_df.info()"
   ]
  },
  {
   "cell_type": "code",
   "execution_count": 13,
   "metadata": {},
   "outputs": [
    {
     "data": {
      "text/html": [
       "<div>\n",
       "<style scoped>\n",
       "    .dataframe tbody tr th:only-of-type {\n",
       "        vertical-align: middle;\n",
       "    }\n",
       "\n",
       "    .dataframe tbody tr th {\n",
       "        vertical-align: top;\n",
       "    }\n",
       "\n",
       "    .dataframe thead th {\n",
       "        text-align: right;\n",
       "    }\n",
       "</style>\n",
       "<table border=\"1\" class=\"dataframe\">\n",
       "  <thead>\n",
       "    <tr style=\"text-align: right;\">\n",
       "      <th></th>\n",
       "      <th>CensusId</th>\n",
       "      <th>TotalPop</th>\n",
       "      <th>Men</th>\n",
       "      <th>Women</th>\n",
       "      <th>Hispanic</th>\n",
       "      <th>White</th>\n",
       "      <th>Black</th>\n",
       "      <th>Native</th>\n",
       "      <th>Asian</th>\n",
       "      <th>Pacific</th>\n",
       "      <th>...</th>\n",
       "      <th>Walk</th>\n",
       "      <th>OtherTransp</th>\n",
       "      <th>WorkAtHome</th>\n",
       "      <th>MeanCommute</th>\n",
       "      <th>Employed</th>\n",
       "      <th>PrivateWork</th>\n",
       "      <th>PublicWork</th>\n",
       "      <th>SelfEmployed</th>\n",
       "      <th>FamilyWork</th>\n",
       "      <th>Unemployment</th>\n",
       "    </tr>\n",
       "  </thead>\n",
       "  <tbody>\n",
       "    <tr>\n",
       "      <th>count</th>\n",
       "      <td>3220.000000</td>\n",
       "      <td>3.220000e+03</td>\n",
       "      <td>3.220000e+03</td>\n",
       "      <td>3.220000e+03</td>\n",
       "      <td>3220.000000</td>\n",
       "      <td>3220.000000</td>\n",
       "      <td>3220.000000</td>\n",
       "      <td>3220.000000</td>\n",
       "      <td>3220.000000</td>\n",
       "      <td>3220.000000</td>\n",
       "      <td>...</td>\n",
       "      <td>3220.000000</td>\n",
       "      <td>3220.000000</td>\n",
       "      <td>3220.000000</td>\n",
       "      <td>3220.000000</td>\n",
       "      <td>3.220000e+03</td>\n",
       "      <td>3220.000000</td>\n",
       "      <td>3220.000000</td>\n",
       "      <td>3220.000000</td>\n",
       "      <td>3220.000000</td>\n",
       "      <td>3220.000000</td>\n",
       "    </tr>\n",
       "    <tr>\n",
       "      <th>mean</th>\n",
       "      <td>31393.605280</td>\n",
       "      <td>9.940935e+04</td>\n",
       "      <td>4.889694e+04</td>\n",
       "      <td>5.051241e+04</td>\n",
       "      <td>11.011522</td>\n",
       "      <td>75.428789</td>\n",
       "      <td>8.665497</td>\n",
       "      <td>1.723509</td>\n",
       "      <td>1.229068</td>\n",
       "      <td>0.082733</td>\n",
       "      <td>...</td>\n",
       "      <td>3.323509</td>\n",
       "      <td>1.612733</td>\n",
       "      <td>4.631770</td>\n",
       "      <td>23.278758</td>\n",
       "      <td>4.559352e+04</td>\n",
       "      <td>74.219348</td>\n",
       "      <td>17.560870</td>\n",
       "      <td>7.931801</td>\n",
       "      <td>0.288106</td>\n",
       "      <td>8.094441</td>\n",
       "    </tr>\n",
       "    <tr>\n",
       "      <th>std</th>\n",
       "      <td>16292.078954</td>\n",
       "      <td>3.193055e+05</td>\n",
       "      <td>1.566813e+05</td>\n",
       "      <td>1.626620e+05</td>\n",
       "      <td>19.241380</td>\n",
       "      <td>22.932890</td>\n",
       "      <td>14.279122</td>\n",
       "      <td>7.253115</td>\n",
       "      <td>2.633079</td>\n",
       "      <td>0.734931</td>\n",
       "      <td>...</td>\n",
       "      <td>3.756096</td>\n",
       "      <td>1.670988</td>\n",
       "      <td>3.178772</td>\n",
       "      <td>5.600466</td>\n",
       "      <td>1.496995e+05</td>\n",
       "      <td>7.863188</td>\n",
       "      <td>6.510354</td>\n",
       "      <td>3.914974</td>\n",
       "      <td>0.455137</td>\n",
       "      <td>4.096114</td>\n",
       "    </tr>\n",
       "    <tr>\n",
       "      <th>min</th>\n",
       "      <td>1001.000000</td>\n",
       "      <td>8.500000e+01</td>\n",
       "      <td>4.200000e+01</td>\n",
       "      <td>4.300000e+01</td>\n",
       "      <td>0.000000</td>\n",
       "      <td>0.000000</td>\n",
       "      <td>0.000000</td>\n",
       "      <td>0.000000</td>\n",
       "      <td>0.000000</td>\n",
       "      <td>0.000000</td>\n",
       "      <td>...</td>\n",
       "      <td>0.000000</td>\n",
       "      <td>0.000000</td>\n",
       "      <td>0.000000</td>\n",
       "      <td>4.900000</td>\n",
       "      <td>6.200000e+01</td>\n",
       "      <td>25.000000</td>\n",
       "      <td>5.800000</td>\n",
       "      <td>0.000000</td>\n",
       "      <td>0.000000</td>\n",
       "      <td>0.000000</td>\n",
       "    </tr>\n",
       "    <tr>\n",
       "      <th>25%</th>\n",
       "      <td>19032.500000</td>\n",
       "      <td>1.121800e+04</td>\n",
       "      <td>5.637250e+03</td>\n",
       "      <td>5.572000e+03</td>\n",
       "      <td>1.900000</td>\n",
       "      <td>64.100000</td>\n",
       "      <td>0.500000</td>\n",
       "      <td>0.100000</td>\n",
       "      <td>0.200000</td>\n",
       "      <td>0.000000</td>\n",
       "      <td>...</td>\n",
       "      <td>1.400000</td>\n",
       "      <td>0.900000</td>\n",
       "      <td>2.700000</td>\n",
       "      <td>19.500000</td>\n",
       "      <td>4.550750e+03</td>\n",
       "      <td>70.500000</td>\n",
       "      <td>13.100000</td>\n",
       "      <td>5.400000</td>\n",
       "      <td>0.100000</td>\n",
       "      <td>5.500000</td>\n",
       "    </tr>\n",
       "    <tr>\n",
       "      <th>50%</th>\n",
       "      <td>30024.000000</td>\n",
       "      <td>2.603500e+04</td>\n",
       "      <td>1.293200e+04</td>\n",
       "      <td>1.305700e+04</td>\n",
       "      <td>3.900000</td>\n",
       "      <td>84.100000</td>\n",
       "      <td>1.900000</td>\n",
       "      <td>0.300000</td>\n",
       "      <td>0.500000</td>\n",
       "      <td>0.000000</td>\n",
       "      <td>...</td>\n",
       "      <td>2.400000</td>\n",
       "      <td>1.300000</td>\n",
       "      <td>3.900000</td>\n",
       "      <td>23.000000</td>\n",
       "      <td>1.050800e+04</td>\n",
       "      <td>75.700000</td>\n",
       "      <td>16.200000</td>\n",
       "      <td>6.900000</td>\n",
       "      <td>0.200000</td>\n",
       "      <td>7.600000</td>\n",
       "    </tr>\n",
       "    <tr>\n",
       "      <th>75%</th>\n",
       "      <td>46105.500000</td>\n",
       "      <td>6.643050e+04</td>\n",
       "      <td>3.299275e+04</td>\n",
       "      <td>3.348750e+04</td>\n",
       "      <td>9.825000</td>\n",
       "      <td>93.200000</td>\n",
       "      <td>9.600000</td>\n",
       "      <td>0.600000</td>\n",
       "      <td>1.200000</td>\n",
       "      <td>0.000000</td>\n",
       "      <td>...</td>\n",
       "      <td>4.000000</td>\n",
       "      <td>1.900000</td>\n",
       "      <td>5.600000</td>\n",
       "      <td>26.800000</td>\n",
       "      <td>2.863275e+04</td>\n",
       "      <td>79.700000</td>\n",
       "      <td>20.500000</td>\n",
       "      <td>9.400000</td>\n",
       "      <td>0.300000</td>\n",
       "      <td>9.900000</td>\n",
       "    </tr>\n",
       "    <tr>\n",
       "      <th>max</th>\n",
       "      <td>72153.000000</td>\n",
       "      <td>1.003839e+07</td>\n",
       "      <td>4.945351e+06</td>\n",
       "      <td>5.093037e+06</td>\n",
       "      <td>99.900000</td>\n",
       "      <td>99.800000</td>\n",
       "      <td>85.900000</td>\n",
       "      <td>92.100000</td>\n",
       "      <td>41.600000</td>\n",
       "      <td>35.300000</td>\n",
       "      <td>...</td>\n",
       "      <td>71.200000</td>\n",
       "      <td>39.100000</td>\n",
       "      <td>37.200000</td>\n",
       "      <td>44.000000</td>\n",
       "      <td>4.635465e+06</td>\n",
       "      <td>88.300000</td>\n",
       "      <td>66.200000</td>\n",
       "      <td>36.600000</td>\n",
       "      <td>9.800000</td>\n",
       "      <td>36.500000</td>\n",
       "    </tr>\n",
       "  </tbody>\n",
       "</table>\n",
       "<p>8 rows × 35 columns</p>\n",
       "</div>"
      ],
      "text/plain": [
       "           CensusId      TotalPop           Men         Women     Hispanic  \\\n",
       "count   3220.000000  3.220000e+03  3.220000e+03  3.220000e+03  3220.000000   \n",
       "mean   31393.605280  9.940935e+04  4.889694e+04  5.051241e+04    11.011522   \n",
       "std    16292.078954  3.193055e+05  1.566813e+05  1.626620e+05    19.241380   \n",
       "min     1001.000000  8.500000e+01  4.200000e+01  4.300000e+01     0.000000   \n",
       "25%    19032.500000  1.121800e+04  5.637250e+03  5.572000e+03     1.900000   \n",
       "50%    30024.000000  2.603500e+04  1.293200e+04  1.305700e+04     3.900000   \n",
       "75%    46105.500000  6.643050e+04  3.299275e+04  3.348750e+04     9.825000   \n",
       "max    72153.000000  1.003839e+07  4.945351e+06  5.093037e+06    99.900000   \n",
       "\n",
       "             White        Black       Native        Asian      Pacific  ...  \\\n",
       "count  3220.000000  3220.000000  3220.000000  3220.000000  3220.000000  ...   \n",
       "mean     75.428789     8.665497     1.723509     1.229068     0.082733  ...   \n",
       "std      22.932890    14.279122     7.253115     2.633079     0.734931  ...   \n",
       "min       0.000000     0.000000     0.000000     0.000000     0.000000  ...   \n",
       "25%      64.100000     0.500000     0.100000     0.200000     0.000000  ...   \n",
       "50%      84.100000     1.900000     0.300000     0.500000     0.000000  ...   \n",
       "75%      93.200000     9.600000     0.600000     1.200000     0.000000  ...   \n",
       "max      99.800000    85.900000    92.100000    41.600000    35.300000  ...   \n",
       "\n",
       "              Walk  OtherTransp   WorkAtHome  MeanCommute      Employed  \\\n",
       "count  3220.000000  3220.000000  3220.000000  3220.000000  3.220000e+03   \n",
       "mean      3.323509     1.612733     4.631770    23.278758  4.559352e+04   \n",
       "std       3.756096     1.670988     3.178772     5.600466  1.496995e+05   \n",
       "min       0.000000     0.000000     0.000000     4.900000  6.200000e+01   \n",
       "25%       1.400000     0.900000     2.700000    19.500000  4.550750e+03   \n",
       "50%       2.400000     1.300000     3.900000    23.000000  1.050800e+04   \n",
       "75%       4.000000     1.900000     5.600000    26.800000  2.863275e+04   \n",
       "max      71.200000    39.100000    37.200000    44.000000  4.635465e+06   \n",
       "\n",
       "       PrivateWork   PublicWork  SelfEmployed   FamilyWork  Unemployment  \n",
       "count  3220.000000  3220.000000   3220.000000  3220.000000   3220.000000  \n",
       "mean     74.219348    17.560870      7.931801     0.288106      8.094441  \n",
       "std       7.863188     6.510354      3.914974     0.455137      4.096114  \n",
       "min      25.000000     5.800000      0.000000     0.000000      0.000000  \n",
       "25%      70.500000    13.100000      5.400000     0.100000      5.500000  \n",
       "50%      75.700000    16.200000      6.900000     0.200000      7.600000  \n",
       "75%      79.700000    20.500000      9.400000     0.300000      9.900000  \n",
       "max      88.300000    66.200000     36.600000     9.800000     36.500000  \n",
       "\n",
       "[8 rows x 35 columns]"
      ]
     },
     "execution_count": 13,
     "metadata": {},
     "output_type": "execute_result"
    }
   ],
   "source": [
    "counties_df.describe()"
   ]
  },
  {
   "cell_type": "code",
   "execution_count": 14,
   "metadata": {},
   "outputs": [
    {
     "data": {
      "text/plain": [
       "CensusId           0\n",
       "State              0\n",
       "County             0\n",
       "TotalPop           0\n",
       "Men                0\n",
       "Women              0\n",
       "Hispanic           0\n",
       "White              0\n",
       "Black              0\n",
       "Native             0\n",
       "Asian              0\n",
       "Pacific            0\n",
       "Citizen            0\n",
       "Income             1\n",
       "IncomeErr          1\n",
       "IncomePerCap       0\n",
       "IncomePerCapErr    0\n",
       "Poverty            0\n",
       "ChildPoverty       1\n",
       "Professional       0\n",
       "Service            0\n",
       "Office             0\n",
       "Construction       0\n",
       "Production         0\n",
       "Drive              0\n",
       "Carpool            0\n",
       "Transit            0\n",
       "Walk               0\n",
       "OtherTransp        0\n",
       "WorkAtHome         0\n",
       "MeanCommute        0\n",
       "Employed           0\n",
       "PrivateWork        0\n",
       "PublicWork         0\n",
       "SelfEmployed       0\n",
       "FamilyWork         0\n",
       "Unemployment       0\n",
       "dtype: int64"
      ]
     },
     "execution_count": 14,
     "metadata": {},
     "output_type": "execute_result"
    }
   ],
   "source": [
    "#Check for missing values\n",
    "counties_df.isna().sum()"
   ]
  },
  {
   "cell_type": "code",
   "execution_count": 15,
   "metadata": {},
   "outputs": [],
   "source": [
    "#Drop the rows with missing values\n",
    "counties_df.dropna(axis=0, inplace=True)"
   ]
  },
  {
   "cell_type": "code",
   "execution_count": 16,
   "metadata": {},
   "outputs": [
    {
     "data": {
      "text/plain": [
       "CensusId           0\n",
       "State              0\n",
       "County             0\n",
       "TotalPop           0\n",
       "Men                0\n",
       "Women              0\n",
       "Hispanic           0\n",
       "White              0\n",
       "Black              0\n",
       "Native             0\n",
       "Asian              0\n",
       "Pacific            0\n",
       "Citizen            0\n",
       "Income             0\n",
       "IncomeErr          0\n",
       "IncomePerCap       0\n",
       "IncomePerCapErr    0\n",
       "Poverty            0\n",
       "ChildPoverty       0\n",
       "Professional       0\n",
       "Service            0\n",
       "Office             0\n",
       "Construction       0\n",
       "Production         0\n",
       "Drive              0\n",
       "Carpool            0\n",
       "Transit            0\n",
       "Walk               0\n",
       "OtherTransp        0\n",
       "WorkAtHome         0\n",
       "MeanCommute        0\n",
       "Employed           0\n",
       "PrivateWork        0\n",
       "PublicWork         0\n",
       "SelfEmployed       0\n",
       "FamilyWork         0\n",
       "Unemployment       0\n",
       "dtype: int64"
      ]
     },
     "execution_count": 16,
     "metadata": {},
     "output_type": "execute_result"
    }
   ],
   "source": [
    "#Check again for missing values\n",
    "counties_df.isna().sum()"
   ]
  },
  {
   "cell_type": "markdown",
   "metadata": {},
   "source": [
    "We are going to concatenate the \"State\" and \"County\" feature to a new features called \"state-county\" and make this column the index. This way we are left with only numerical data that we can feed to a Machine Learning model. "
   ]
  },
  {
   "cell_type": "code",
   "execution_count": 17,
   "metadata": {},
   "outputs": [
    {
     "data": {
      "text/html": [
       "<div>\n",
       "<style scoped>\n",
       "    .dataframe tbody tr th:only-of-type {\n",
       "        vertical-align: middle;\n",
       "    }\n",
       "\n",
       "    .dataframe tbody tr th {\n",
       "        vertical-align: top;\n",
       "    }\n",
       "\n",
       "    .dataframe thead th {\n",
       "        text-align: right;\n",
       "    }\n",
       "</style>\n",
       "<table border=\"1\" class=\"dataframe\">\n",
       "  <thead>\n",
       "    <tr style=\"text-align: right;\">\n",
       "      <th></th>\n",
       "      <th>CensusId</th>\n",
       "      <th>State</th>\n",
       "      <th>County</th>\n",
       "      <th>TotalPop</th>\n",
       "      <th>Men</th>\n",
       "      <th>Women</th>\n",
       "      <th>Hispanic</th>\n",
       "      <th>White</th>\n",
       "      <th>Black</th>\n",
       "      <th>Native</th>\n",
       "      <th>...</th>\n",
       "      <th>Walk</th>\n",
       "      <th>OtherTransp</th>\n",
       "      <th>WorkAtHome</th>\n",
       "      <th>MeanCommute</th>\n",
       "      <th>Employed</th>\n",
       "      <th>PrivateWork</th>\n",
       "      <th>PublicWork</th>\n",
       "      <th>SelfEmployed</th>\n",
       "      <th>FamilyWork</th>\n",
       "      <th>Unemployment</th>\n",
       "    </tr>\n",
       "  </thead>\n",
       "  <tbody>\n",
       "    <tr>\n",
       "      <th>Alabama-Autauga</th>\n",
       "      <td>1001</td>\n",
       "      <td>Alabama</td>\n",
       "      <td>Autauga</td>\n",
       "      <td>55221</td>\n",
       "      <td>26745</td>\n",
       "      <td>28476</td>\n",
       "      <td>2.6</td>\n",
       "      <td>75.8</td>\n",
       "      <td>18.5</td>\n",
       "      <td>0.4</td>\n",
       "      <td>...</td>\n",
       "      <td>0.5</td>\n",
       "      <td>1.3</td>\n",
       "      <td>1.8</td>\n",
       "      <td>26.5</td>\n",
       "      <td>23986</td>\n",
       "      <td>73.6</td>\n",
       "      <td>20.9</td>\n",
       "      <td>5.5</td>\n",
       "      <td>0.0</td>\n",
       "      <td>7.6</td>\n",
       "    </tr>\n",
       "    <tr>\n",
       "      <th>Alabama-Baldwin</th>\n",
       "      <td>1003</td>\n",
       "      <td>Alabama</td>\n",
       "      <td>Baldwin</td>\n",
       "      <td>195121</td>\n",
       "      <td>95314</td>\n",
       "      <td>99807</td>\n",
       "      <td>4.5</td>\n",
       "      <td>83.1</td>\n",
       "      <td>9.5</td>\n",
       "      <td>0.6</td>\n",
       "      <td>...</td>\n",
       "      <td>1.0</td>\n",
       "      <td>1.4</td>\n",
       "      <td>3.9</td>\n",
       "      <td>26.4</td>\n",
       "      <td>85953</td>\n",
       "      <td>81.5</td>\n",
       "      <td>12.3</td>\n",
       "      <td>5.8</td>\n",
       "      <td>0.4</td>\n",
       "      <td>7.5</td>\n",
       "    </tr>\n",
       "    <tr>\n",
       "      <th>Alabama-Barbour</th>\n",
       "      <td>1005</td>\n",
       "      <td>Alabama</td>\n",
       "      <td>Barbour</td>\n",
       "      <td>26932</td>\n",
       "      <td>14497</td>\n",
       "      <td>12435</td>\n",
       "      <td>4.6</td>\n",
       "      <td>46.2</td>\n",
       "      <td>46.7</td>\n",
       "      <td>0.2</td>\n",
       "      <td>...</td>\n",
       "      <td>1.8</td>\n",
       "      <td>1.5</td>\n",
       "      <td>1.6</td>\n",
       "      <td>24.1</td>\n",
       "      <td>8597</td>\n",
       "      <td>71.8</td>\n",
       "      <td>20.8</td>\n",
       "      <td>7.3</td>\n",
       "      <td>0.1</td>\n",
       "      <td>17.6</td>\n",
       "    </tr>\n",
       "    <tr>\n",
       "      <th>Alabama-Bibb</th>\n",
       "      <td>1007</td>\n",
       "      <td>Alabama</td>\n",
       "      <td>Bibb</td>\n",
       "      <td>22604</td>\n",
       "      <td>12073</td>\n",
       "      <td>10531</td>\n",
       "      <td>2.2</td>\n",
       "      <td>74.5</td>\n",
       "      <td>21.4</td>\n",
       "      <td>0.4</td>\n",
       "      <td>...</td>\n",
       "      <td>0.6</td>\n",
       "      <td>1.5</td>\n",
       "      <td>0.7</td>\n",
       "      <td>28.8</td>\n",
       "      <td>8294</td>\n",
       "      <td>76.8</td>\n",
       "      <td>16.1</td>\n",
       "      <td>6.7</td>\n",
       "      <td>0.4</td>\n",
       "      <td>8.3</td>\n",
       "    </tr>\n",
       "    <tr>\n",
       "      <th>Alabama-Blount</th>\n",
       "      <td>1009</td>\n",
       "      <td>Alabama</td>\n",
       "      <td>Blount</td>\n",
       "      <td>57710</td>\n",
       "      <td>28512</td>\n",
       "      <td>29198</td>\n",
       "      <td>8.6</td>\n",
       "      <td>87.9</td>\n",
       "      <td>1.5</td>\n",
       "      <td>0.3</td>\n",
       "      <td>...</td>\n",
       "      <td>0.9</td>\n",
       "      <td>0.4</td>\n",
       "      <td>2.3</td>\n",
       "      <td>34.9</td>\n",
       "      <td>22189</td>\n",
       "      <td>82.0</td>\n",
       "      <td>13.5</td>\n",
       "      <td>4.2</td>\n",
       "      <td>0.4</td>\n",
       "      <td>7.7</td>\n",
       "    </tr>\n",
       "  </tbody>\n",
       "</table>\n",
       "<p>5 rows × 37 columns</p>\n",
       "</div>"
      ],
      "text/plain": [
       "                 CensusId    State   County  TotalPop    Men  Women  Hispanic  \\\n",
       "Alabama-Autauga      1001  Alabama  Autauga     55221  26745  28476       2.6   \n",
       "Alabama-Baldwin      1003  Alabama  Baldwin    195121  95314  99807       4.5   \n",
       "Alabama-Barbour      1005  Alabama  Barbour     26932  14497  12435       4.6   \n",
       "Alabama-Bibb         1007  Alabama     Bibb     22604  12073  10531       2.2   \n",
       "Alabama-Blount       1009  Alabama   Blount     57710  28512  29198       8.6   \n",
       "\n",
       "                 White  Black  Native  ...  Walk  OtherTransp  WorkAtHome  \\\n",
       "Alabama-Autauga   75.8   18.5     0.4  ...   0.5          1.3         1.8   \n",
       "Alabama-Baldwin   83.1    9.5     0.6  ...   1.0          1.4         3.9   \n",
       "Alabama-Barbour   46.2   46.7     0.2  ...   1.8          1.5         1.6   \n",
       "Alabama-Bibb      74.5   21.4     0.4  ...   0.6          1.5         0.7   \n",
       "Alabama-Blount    87.9    1.5     0.3  ...   0.9          0.4         2.3   \n",
       "\n",
       "                 MeanCommute  Employed  PrivateWork  PublicWork  SelfEmployed  \\\n",
       "Alabama-Autauga         26.5     23986         73.6        20.9           5.5   \n",
       "Alabama-Baldwin         26.4     85953         81.5        12.3           5.8   \n",
       "Alabama-Barbour         24.1      8597         71.8        20.8           7.3   \n",
       "Alabama-Bibb            28.8      8294         76.8        16.1           6.7   \n",
       "Alabama-Blount          34.9     22189         82.0        13.5           4.2   \n",
       "\n",
       "                 FamilyWork  Unemployment  \n",
       "Alabama-Autauga         0.0           7.6  \n",
       "Alabama-Baldwin         0.4           7.5  \n",
       "Alabama-Barbour         0.1          17.6  \n",
       "Alabama-Bibb            0.4           8.3  \n",
       "Alabama-Blount          0.4           7.7  \n",
       "\n",
       "[5 rows x 37 columns]"
      ]
     },
     "execution_count": 17,
     "metadata": {},
     "output_type": "execute_result"
    }
   ],
   "source": [
    "#Concatenate the state and county columns\n",
    "counties_df.index = counties_df[\"State\"] + \"-\" + counties_df[\"County\"]\n",
    "\n",
    "counties_df.head()"
   ]
  },
  {
   "cell_type": "markdown",
   "metadata": {},
   "source": [
    "Lastly, we drop the old \"State\" and \"County\" columns. Also we drop the \"CensusId\" columns as this is unique for each row in our dataset"
   ]
  },
  {
   "cell_type": "code",
   "execution_count": 18,
   "metadata": {},
   "outputs": [],
   "source": [
    "counties_df.drop([\"State\", \"County\", \"CensusId\"], axis=1, inplace=True)"
   ]
  },
  {
   "cell_type": "markdown",
   "metadata": {},
   "source": [
    "What features do we have to work with?"
   ]
  },
  {
   "cell_type": "code",
   "execution_count": 19,
   "metadata": {},
   "outputs": [
    {
     "name": "stdout",
     "output_type": "stream",
     "text": [
      "['TotalPop' 'Men' 'Women' 'Hispanic' 'White' 'Black' 'Native' 'Asian'\n",
      " 'Pacific' 'Citizen' 'Income' 'IncomeErr' 'IncomePerCap' 'IncomePerCapErr'\n",
      " 'Poverty' 'ChildPoverty' 'Professional' 'Service' 'Office' 'Construction'\n",
      " 'Production' 'Drive' 'Carpool' 'Transit' 'Walk' 'OtherTransp'\n",
      " 'WorkAtHome' 'MeanCommute' 'Employed' 'PrivateWork' 'PublicWork'\n",
      " 'SelfEmployed' 'FamilyWork' 'Unemployment']\n"
     ]
    }
   ],
   "source": [
    "features_list = counties_df.columns.values\n",
    "print(features_list)"
   ]
  },
  {
   "cell_type": "markdown",
   "metadata": {},
   "source": [
    "## 3. Visualizing the Data"
   ]
  },
  {
   "cell_type": "markdown",
   "metadata": {},
   "source": [
    "Lets visualize how people transport to work. We look at the following features: Drive, Carpool, Transit, Walk, OtherTranp"
   ]
  },
  {
   "cell_type": "code",
   "execution_count": 20,
   "metadata": {},
   "outputs": [
    {
     "data": {
      "text/html": [
       "<div>\n",
       "<style scoped>\n",
       "    .dataframe tbody tr th:only-of-type {\n",
       "        vertical-align: middle;\n",
       "    }\n",
       "\n",
       "    .dataframe tbody tr th {\n",
       "        vertical-align: top;\n",
       "    }\n",
       "\n",
       "    .dataframe thead th {\n",
       "        text-align: right;\n",
       "    }\n",
       "</style>\n",
       "<table border=\"1\" class=\"dataframe\">\n",
       "  <thead>\n",
       "    <tr style=\"text-align: right;\">\n",
       "      <th></th>\n",
       "      <th>Drive</th>\n",
       "      <th>Carpool</th>\n",
       "      <th>Transit</th>\n",
       "      <th>Walk</th>\n",
       "      <th>OtherTransp</th>\n",
       "    </tr>\n",
       "  </thead>\n",
       "  <tbody>\n",
       "    <tr>\n",
       "      <th>Alabama-Autauga</th>\n",
       "      <td>87.5</td>\n",
       "      <td>8.8</td>\n",
       "      <td>0.1</td>\n",
       "      <td>0.5</td>\n",
       "      <td>1.3</td>\n",
       "    </tr>\n",
       "    <tr>\n",
       "      <th>Alabama-Baldwin</th>\n",
       "      <td>84.7</td>\n",
       "      <td>8.8</td>\n",
       "      <td>0.1</td>\n",
       "      <td>1.0</td>\n",
       "      <td>1.4</td>\n",
       "    </tr>\n",
       "    <tr>\n",
       "      <th>Alabama-Barbour</th>\n",
       "      <td>83.8</td>\n",
       "      <td>10.9</td>\n",
       "      <td>0.4</td>\n",
       "      <td>1.8</td>\n",
       "      <td>1.5</td>\n",
       "    </tr>\n",
       "    <tr>\n",
       "      <th>Alabama-Bibb</th>\n",
       "      <td>83.2</td>\n",
       "      <td>13.5</td>\n",
       "      <td>0.5</td>\n",
       "      <td>0.6</td>\n",
       "      <td>1.5</td>\n",
       "    </tr>\n",
       "    <tr>\n",
       "      <th>Alabama-Blount</th>\n",
       "      <td>84.9</td>\n",
       "      <td>11.2</td>\n",
       "      <td>0.4</td>\n",
       "      <td>0.9</td>\n",
       "      <td>0.4</td>\n",
       "    </tr>\n",
       "    <tr>\n",
       "      <th>...</th>\n",
       "      <td>...</td>\n",
       "      <td>...</td>\n",
       "      <td>...</td>\n",
       "      <td>...</td>\n",
       "      <td>...</td>\n",
       "    </tr>\n",
       "    <tr>\n",
       "      <th>Puerto Rico-Vega Baja</th>\n",
       "      <td>89.1</td>\n",
       "      <td>7.1</td>\n",
       "      <td>0.9</td>\n",
       "      <td>1.2</td>\n",
       "      <td>1.3</td>\n",
       "    </tr>\n",
       "    <tr>\n",
       "      <th>Puerto Rico-Vieques</th>\n",
       "      <td>69.1</td>\n",
       "      <td>17.8</td>\n",
       "      <td>1.0</td>\n",
       "      <td>10.8</td>\n",
       "      <td>0.0</td>\n",
       "    </tr>\n",
       "    <tr>\n",
       "      <th>Puerto Rico-Villalba</th>\n",
       "      <td>82.0</td>\n",
       "      <td>11.4</td>\n",
       "      <td>0.1</td>\n",
       "      <td>3.2</td>\n",
       "      <td>0.0</td>\n",
       "    </tr>\n",
       "    <tr>\n",
       "      <th>Puerto Rico-Yabucoa</th>\n",
       "      <td>86.0</td>\n",
       "      <td>7.9</td>\n",
       "      <td>0.0</td>\n",
       "      <td>2.3</td>\n",
       "      <td>2.3</td>\n",
       "    </tr>\n",
       "    <tr>\n",
       "      <th>Puerto Rico-Yauco</th>\n",
       "      <td>84.8</td>\n",
       "      <td>8.5</td>\n",
       "      <td>1.2</td>\n",
       "      <td>1.6</td>\n",
       "      <td>0.7</td>\n",
       "    </tr>\n",
       "  </tbody>\n",
       "</table>\n",
       "<p>3218 rows × 5 columns</p>\n",
       "</div>"
      ],
      "text/plain": [
       "                       Drive  Carpool  Transit  Walk  OtherTransp\n",
       "Alabama-Autauga         87.5      8.8      0.1   0.5          1.3\n",
       "Alabama-Baldwin         84.7      8.8      0.1   1.0          1.4\n",
       "Alabama-Barbour         83.8     10.9      0.4   1.8          1.5\n",
       "Alabama-Bibb            83.2     13.5      0.5   0.6          1.5\n",
       "Alabama-Blount          84.9     11.2      0.4   0.9          0.4\n",
       "...                      ...      ...      ...   ...          ...\n",
       "Puerto Rico-Vega Baja   89.1      7.1      0.9   1.2          1.3\n",
       "Puerto Rico-Vieques     69.1     17.8      1.0  10.8          0.0\n",
       "Puerto Rico-Villalba    82.0     11.4      0.1   3.2          0.0\n",
       "Puerto Rico-Yabucoa     86.0      7.9      0.0   2.3          2.3\n",
       "Puerto Rico-Yauco       84.8      8.5      1.2   1.6          0.7\n",
       "\n",
       "[3218 rows x 5 columns]"
      ]
     },
     "execution_count": 20,
     "metadata": {},
     "output_type": "execute_result"
    }
   ],
   "source": [
    "#The values are percentages of the people that go to work with a specific transportation medium. \n",
    "counties_df[[\"Drive\", \"Carpool\", \"Transit\", \"Walk\", \"OtherTransp\"]]"
   ]
  },
  {
   "cell_type": "code",
   "execution_count": 22,
   "metadata": {},
   "outputs": [
    {
     "data": {
      "image/png": "[encoded data removed]",
      "text/plain": [
       "<Figure size 432x216 with 1 Axes>"
      ]
     },
     "metadata": {
      "needs_background": "light"
     },
     "output_type": "display_data"
    },
    {
     "data": {
      "image/png": "[encoded data removed]",
      "text/plain": [
       "<Figure size 432x216 with 1 Axes>"
      ]
     },
     "metadata": {
      "needs_background": "light"
     },
     "output_type": "display_data"
    },
    {
     "data": {
      "image/png": "[encoded data removed]",
      "text/plain": [
       "<Figure size 432x216 with 1 Axes>"
      ]
     },
     "metadata": {
      "needs_background": "light"
     },
     "output_type": "display_data"
    },
    {
     "data": {
      "image/png": "[encoded data removed]",
      "text/plain": [
       "<Figure size 432x216 with 1 Axes>"
      ]
     },
     "metadata": {
      "needs_background": "light"
     },
     "output_type": "display_data"
    },
    {
     "data": {
      "image/png": "[encoded data removed]",
      "text/plain": [
       "<Figure size 432x216 with 1 Axes>"
      ]
     },
     "metadata": {
      "needs_background": "light"
     },
     "output_type": "display_data"
    }
   ],
   "source": [
    "transport_list = ['Drive', 'Carpool', 'Transit', 'Walk', 'OtherTransp']\n",
    "\n",
    "for column_name in transport_list:\n",
    "    \n",
    "    ax = plt.subplots(figsize=(6,3))\n",
    "    ax = plt.hist(counties_df[column_name], bins=100)\n",
    "    plt.xlabel(\"Percentage\")\n",
    "    plt.ylabel(\"Frequency\") #How many data point fall in a specific range?\n",
    "    plt.title(\"Histogram of \" + column_name, fontsize=12)\n",
    "    plt.show()"
   ]
  },
  {
   "cell_type": "markdown",
   "metadata": {},
   "source": [
    "Normalize the data in order to consistantly compare the values of different features. "
   ]
  },
  {
   "cell_type": "code",
   "execution_count": 23,
   "metadata": {},
   "outputs": [
    {
     "data": {
      "text/html": [
       "<div>\n",
       "<style scoped>\n",
       "    .dataframe tbody tr th:only-of-type {\n",
       "        vertical-align: middle;\n",
       "    }\n",
       "\n",
       "    .dataframe tbody tr th {\n",
       "        vertical-align: top;\n",
       "    }\n",
       "\n",
       "    .dataframe thead th {\n",
       "        text-align: right;\n",
       "    }\n",
       "</style>\n",
       "<table border=\"1\" class=\"dataframe\">\n",
       "  <thead>\n",
       "    <tr style=\"text-align: right;\">\n",
       "      <th></th>\n",
       "      <th>TotalPop</th>\n",
       "      <th>Men</th>\n",
       "      <th>Women</th>\n",
       "      <th>Hispanic</th>\n",
       "      <th>White</th>\n",
       "      <th>Black</th>\n",
       "      <th>Native</th>\n",
       "      <th>Asian</th>\n",
       "      <th>Pacific</th>\n",
       "      <th>Citizen</th>\n",
       "      <th>...</th>\n",
       "      <th>Walk</th>\n",
       "      <th>OtherTransp</th>\n",
       "      <th>WorkAtHome</th>\n",
       "      <th>MeanCommute</th>\n",
       "      <th>Employed</th>\n",
       "      <th>PrivateWork</th>\n",
       "      <th>PublicWork</th>\n",
       "      <th>SelfEmployed</th>\n",
       "      <th>FamilyWork</th>\n",
       "      <th>Unemployment</th>\n",
       "    </tr>\n",
       "  </thead>\n",
       "  <tbody>\n",
       "    <tr>\n",
       "      <th>Alabama-Autauga</th>\n",
       "      <td>0.005475</td>\n",
       "      <td>0.005381</td>\n",
       "      <td>0.005566</td>\n",
       "      <td>0.026026</td>\n",
       "      <td>0.759519</td>\n",
       "      <td>0.215367</td>\n",
       "      <td>0.004343</td>\n",
       "      <td>0.024038</td>\n",
       "      <td>0.0</td>\n",
       "      <td>0.006702</td>\n",
       "      <td>...</td>\n",
       "      <td>0.007022</td>\n",
       "      <td>0.033248</td>\n",
       "      <td>0.048387</td>\n",
       "      <td>0.552430</td>\n",
       "      <td>0.005139</td>\n",
       "      <td>0.750000</td>\n",
       "      <td>0.250000</td>\n",
       "      <td>0.150273</td>\n",
       "      <td>0.000000</td>\n",
       "      <td>0.208219</td>\n",
       "    </tr>\n",
       "    <tr>\n",
       "      <th>Alabama-Baldwin</th>\n",
       "      <td>0.019411</td>\n",
       "      <td>0.019246</td>\n",
       "      <td>0.019572</td>\n",
       "      <td>0.045045</td>\n",
       "      <td>0.832665</td>\n",
       "      <td>0.110594</td>\n",
       "      <td>0.006515</td>\n",
       "      <td>0.016827</td>\n",
       "      <td>0.0</td>\n",
       "      <td>0.024393</td>\n",
       "      <td>...</td>\n",
       "      <td>0.014045</td>\n",
       "      <td>0.035806</td>\n",
       "      <td>0.104839</td>\n",
       "      <td>0.549872</td>\n",
       "      <td>0.018507</td>\n",
       "      <td>0.884354</td>\n",
       "      <td>0.107616</td>\n",
       "      <td>0.158470</td>\n",
       "      <td>0.040816</td>\n",
       "      <td>0.205479</td>\n",
       "    </tr>\n",
       "    <tr>\n",
       "      <th>Alabama-Barbour</th>\n",
       "      <td>0.002656</td>\n",
       "      <td>0.002904</td>\n",
       "      <td>0.002416</td>\n",
       "      <td>0.046046</td>\n",
       "      <td>0.462926</td>\n",
       "      <td>0.543655</td>\n",
       "      <td>0.002172</td>\n",
       "      <td>0.009615</td>\n",
       "      <td>0.0</td>\n",
       "      <td>0.003393</td>\n",
       "      <td>...</td>\n",
       "      <td>0.025281</td>\n",
       "      <td>0.038363</td>\n",
       "      <td>0.043011</td>\n",
       "      <td>0.491049</td>\n",
       "      <td>0.001819</td>\n",
       "      <td>0.719388</td>\n",
       "      <td>0.248344</td>\n",
       "      <td>0.199454</td>\n",
       "      <td>0.010204</td>\n",
       "      <td>0.482192</td>\n",
       "    </tr>\n",
       "    <tr>\n",
       "      <th>Alabama-Bibb</th>\n",
       "      <td>0.002225</td>\n",
       "      <td>0.002414</td>\n",
       "      <td>0.002042</td>\n",
       "      <td>0.022022</td>\n",
       "      <td>0.746493</td>\n",
       "      <td>0.249127</td>\n",
       "      <td>0.004343</td>\n",
       "      <td>0.002404</td>\n",
       "      <td>0.0</td>\n",
       "      <td>0.002860</td>\n",
       "      <td>...</td>\n",
       "      <td>0.008427</td>\n",
       "      <td>0.038363</td>\n",
       "      <td>0.018817</td>\n",
       "      <td>0.611253</td>\n",
       "      <td>0.001754</td>\n",
       "      <td>0.804422</td>\n",
       "      <td>0.170530</td>\n",
       "      <td>0.183060</td>\n",
       "      <td>0.040816</td>\n",
       "      <td>0.227397</td>\n",
       "    </tr>\n",
       "    <tr>\n",
       "      <th>Alabama-Blount</th>\n",
       "      <td>0.005722</td>\n",
       "      <td>0.005738</td>\n",
       "      <td>0.005707</td>\n",
       "      <td>0.086086</td>\n",
       "      <td>0.880762</td>\n",
       "      <td>0.017462</td>\n",
       "      <td>0.003257</td>\n",
       "      <td>0.002404</td>\n",
       "      <td>0.0</td>\n",
       "      <td>0.006970</td>\n",
       "      <td>...</td>\n",
       "      <td>0.012640</td>\n",
       "      <td>0.010230</td>\n",
       "      <td>0.061828</td>\n",
       "      <td>0.767263</td>\n",
       "      <td>0.004751</td>\n",
       "      <td>0.892857</td>\n",
       "      <td>0.127483</td>\n",
       "      <td>0.114754</td>\n",
       "      <td>0.040816</td>\n",
       "      <td>0.210959</td>\n",
       "    </tr>\n",
       "  </tbody>\n",
       "</table>\n",
       "<p>5 rows × 34 columns</p>\n",
       "</div>"
      ],
      "text/plain": [
       "                 TotalPop       Men     Women  Hispanic     White     Black  \\\n",
       "Alabama-Autauga  0.005475  0.005381  0.005566  0.026026  0.759519  0.215367   \n",
       "Alabama-Baldwin  0.019411  0.019246  0.019572  0.045045  0.832665  0.110594   \n",
       "Alabama-Barbour  0.002656  0.002904  0.002416  0.046046  0.462926  0.543655   \n",
       "Alabama-Bibb     0.002225  0.002414  0.002042  0.022022  0.746493  0.249127   \n",
       "Alabama-Blount   0.005722  0.005738  0.005707  0.086086  0.880762  0.017462   \n",
       "\n",
       "                   Native     Asian  Pacific   Citizen  ...      Walk  \\\n",
       "Alabama-Autauga  0.004343  0.024038      0.0  0.006702  ...  0.007022   \n",
       "Alabama-Baldwin  0.006515  0.016827      0.0  0.024393  ...  0.014045   \n",
       "Alabama-Barbour  0.002172  0.009615      0.0  0.003393  ...  0.025281   \n",
       "Alabama-Bibb     0.004343  0.002404      0.0  0.002860  ...  0.008427   \n",
       "Alabama-Blount   0.003257  0.002404      0.0  0.006970  ...  0.012640   \n",
       "\n",
       "                 OtherTransp  WorkAtHome  MeanCommute  Employed  PrivateWork  \\\n",
       "Alabama-Autauga     0.033248    0.048387     0.552430  0.005139     0.750000   \n",
       "Alabama-Baldwin     0.035806    0.104839     0.549872  0.018507     0.884354   \n",
       "Alabama-Barbour     0.038363    0.043011     0.491049  0.001819     0.719388   \n",
       "Alabama-Bibb        0.038363    0.018817     0.611253  0.001754     0.804422   \n",
       "Alabama-Blount      0.010230    0.061828     0.767263  0.004751     0.892857   \n",
       "\n",
       "                 PublicWork  SelfEmployed  FamilyWork  Unemployment  \n",
       "Alabama-Autauga    0.250000      0.150273    0.000000      0.208219  \n",
       "Alabama-Baldwin    0.107616      0.158470    0.040816      0.205479  \n",
       "Alabama-Barbour    0.248344      0.199454    0.010204      0.482192  \n",
       "Alabama-Bibb       0.170530      0.183060    0.040816      0.227397  \n",
       "Alabama-Blount     0.127483      0.114754    0.040816      0.210959  \n",
       "\n",
       "[5 rows x 34 columns]"
      ]
     },
     "execution_count": 23,
     "metadata": {},
     "output_type": "execute_result"
    }
   ],
   "source": [
    "from sklearn.preprocessing import MinMaxScaler\n",
    "\n",
    "#Make the scaler object\n",
    "scaler = MinMaxScaler()\n",
    "\n",
    "#Fit the scaler to the data\n",
    "counties_scaled = scaler.fit_transform(counties_df)\n",
    "\n",
    "#Add the column-names to the normalized data\n",
    "counties_scaled = pd.DataFrame(counties_scaled, columns=features_list)\n",
    "\n",
    "#Add the index to the normalized data\n",
    "counties_scaled.index = counties_df.index\n",
    "\n",
    "#Look at the head of the data\n",
    "counties_scaled.head()"
   ]
  },
  {
   "cell_type": "markdown",
   "metadata": {},
   "source": [
    "## 4. Data Modeling\n",
    "In this section we are going to model the data. We will be using the K-means algorithm to cluster the data. Because our data has high dimensionality (34 features vs 3000+ samples), it is difficult for the K-means algorithm to figure out which features are most important and the clusters will become much noiser. That is why we will use PCA, a dimensionality reduction technique. "
   ]
  },
  {
   "cell_type": "markdown",
   "metadata": {},
   "source": [
    "### 4.1 Dimensionality Reduction\n",
    "First, lets get our IAM Role we created at the time we created this notebook instance (FullAccess). Also, we need an S3 bucket to store the model artifacts. "
   ]
  },
  {
   "cell_type": "code",
   "execution_count": 24,
   "metadata": {},
   "outputs": [
    {
     "name": "stdout",
     "output_type": "stream",
     "text": [
      "arn:aws:iam::513808683464:role/service-role/AmazonSageMaker-ExecutionRole-20200727T124755\n"
     ]
    }
   ],
   "source": [
    "import sagemaker\n",
    "from sagemaker import get_execution_role\n",
    "\n",
    "#Create a SageMaker Session to manage interactions with the Amazon Sagemaker APIs and any other AWS services needed. \n",
    "session = sagemaker.Session()\n",
    "\n",
    "#Get the IAM Role\n",
    "role = get_execution_role()\n",
    "print(role)"
   ]
  },
  {
   "cell_type": "code",
   "execution_count": 25,
   "metadata": {},
   "outputs": [
    {
     "name": "stdout",
     "output_type": "stream",
     "text": [
      "sagemaker-eu-central-1-513808683464\n"
     ]
    }
   ],
   "source": [
    "#Get the default bucket\n",
    "bucket_name = session.default_bucket() #Create the bucket\n",
    "print(bucket_name)"
   ]
  },
  {
   "cell_type": "markdown",
   "metadata": {},
   "source": [
    "Before we built the PCA Model, we will define the location on S3 where we want to store the model artifacts. Thereafter, we will define the PCA model using SageMakers built-in PCA Model. "
   ]
  },
  {
   "cell_type": "code",
   "execution_count": 26,
   "metadata": {},
   "outputs": [
    {
     "name": "stdout",
     "output_type": "stream",
     "text": [
      "Training artifacts will be stored in: s3://sagemaker-eu-central-1-513808683464/PCA/\n"
     ]
    }
   ],
   "source": [
    "#Define location to store model artifacts\n",
    "prefix_pca = \"PCA\"\n",
    "output_path = \"s3://{}/{}/\".format(bucket_name, prefix_pca)\n",
    "print(\"Training artifacts will be stored in: {}\".format(output_path))"
   ]
  },
  {
   "cell_type": "code",
   "execution_count": 27,
   "metadata": {},
   "outputs": [],
   "source": [
    "#Define the PCA Model\n",
    "from sagemaker import PCA\n",
    "\n",
    "#Choose amount of principal components\n",
    "N_COMPONENTS = 33\n",
    "\n",
    "#Define the model\n",
    "pca_SM = PCA(role=role,\n",
    "            train_instance_count=1,\n",
    "            train_instance_type=\"ml.c4.xlarge\",\n",
    "            num_components=N_COMPONENTS,\n",
    "            output_path=output_path,\n",
    "            sagemaker_session=session)"
   ]
  },
  {
   "cell_type": "markdown",
   "metadata": {},
   "source": [
    "Convert the data to a RecordSet object. This is what the fit method expects. To make a RecordSet object, we need to have a numpy array first.\n",
    "\n",
    "##### Note on RecordSet: \n",
    "\n",
    "The record_set function in the Amazon SageMaker PCA model converts a numpy array into a record set format that is the required format for the input data to be trained. This is a requirement for all Amazon SageMaker built-in models. The use of this data type is one of the reasons that allows training of models within Amazon SageMaker to perform faster, for larger data sets compared with other implementations of the same models, such as the sklearn implementation.\n",
    "\n",
    "In Python terms, a record is an instance of any class for which you define some attributes but no methods. Such classes, which are known as record types, can be easily written but require a lot of noisy boilerplate. (https://pythonhosted.org/pyrecord/#:~:text=In%20Python%20terms%2C%20a%20record,a%20lot%20of%20noisy%20boilerplate.)"
   ]
  },
  {
   "cell_type": "code",
   "execution_count": 28,
   "metadata": {},
   "outputs": [
    {
     "name": "stdout",
     "output_type": "stream",
     "text": [
      "(3218, 34)\n",
      "<class 'sagemaker.amazon.amazon_estimator.RecordSet'>\n",
      "(<class 'sagemaker.amazon.amazon_estimator.RecordSet'>, {'s3_data': 's3://sagemaker-eu-central-1-513808683464/sagemaker-record-sets/PCA-2020-08-21-13-48-28-904/.amazon.manifest', 'feature_dim': 34, 'num_records': 3218, 's3_data_type': 'ManifestFile', 'channel': 'train'})\n"
     ]
    }
   ],
   "source": [
    "#convert DataFrame to numpy array\n",
    "train_data_np = counties_scaled.values.astype(\"float32\")\n",
    "print(train_data_np.shape)\n",
    "\n",
    "#Convert numpy array to RecordSet format\n",
    "formatted_train_data = pca_SM.record_set(train_data_np) #a folder \"sagemaker-record-sets\" is created to S3. \n",
    "#The collection of Record objects are protobuf serialized and uploaded to new S3 locations. \n",
    "#A manifest file is generated containing the list of objects created and is also stored in S3.\n",
    "\n",
    "print(type(formatted_train_data))\n",
    "print(formatted_train_data)"
   ]
  },
  {
   "cell_type": "markdown",
   "metadata": {},
   "source": [
    "#### Train the model\n",
    "Now it is time to train the PCA model."
   ]
  },
  {
   "cell_type": "code",
   "execution_count": 29,
   "metadata": {},
   "outputs": [
    {
     "name": "stderr",
     "output_type": "stream",
     "text": [
      "'get_image_uri' method will be deprecated in favor of 'ImageURIProvider' class in SageMaker Python SDK v2.\n",
      "'s3_input' class will be renamed to 'TrainingInput' in SageMaker Python SDK v2.\n",
      "'get_image_uri' method will be deprecated in favor of 'ImageURIProvider' class in SageMaker Python SDK v2.\n"
     ]
    },
    {
     "name": "stdout",
     "output_type": "stream",
     "text": [
      "2020-08-21 13:48:33 Starting - Starting the training job...\n",
      "2020-08-21 13:48:35 Starting - Launching requested ML instances......\n",
      "2020-08-21 13:49:41 Starting - Preparing the instances for training......\n",
      "2020-08-21 13:50:59 Downloading - Downloading input data\n",
      "2020-08-21 13:50:59 Training - Downloading the training image..\u001b[34mDocker entrypoint called with argument(s): train\u001b[0m\n",
      "\u001b[34mRunning default environment configuration script\u001b[0m\n",
      "\u001b[34m[08/21/2020 13:51:15 INFO 139983836251968] Reading default configuration from /opt/amazon/lib/python2.7/site-packages/algorithm/resources/default-conf.json: {u'_num_gpus': u'auto', u'_log_level': u'info', u'subtract_mean': u'true', u'force_dense': u'true', u'epochs': 1, u'algorithm_mode': u'regular', u'extra_components': u'-1', u'_kvstore': u'dist_sync', u'_num_kv_servers': u'auto'}\u001b[0m\n",
      "\u001b[34m[08/21/2020 13:51:15 INFO 139983836251968] Reading provided configuration from /opt/ml/input/config/hyperparameters.json: {u'feature_dim': u'34', u'mini_batch_size': u'500', u'num_components': u'33'}\u001b[0m\n",
      "\u001b[34m[08/21/2020 13:51:15 INFO 139983836251968] Final configuration: {u'num_components': u'33', u'_num_gpus': u'auto', u'_log_level': u'info', u'subtract_mean': u'true', u'force_dense': u'true', u'epochs': 1, u'algorithm_mode': u'regular', u'feature_dim': u'34', u'extra_components': u'-1', u'_kvstore': u'dist_sync', u'_num_kv_servers': u'auto', u'mini_batch_size': u'500'}\u001b[0m\n",
      "\u001b[34m[08/21/2020 13:51:15 WARNING 139983836251968] Loggers have already been setup.\u001b[0m\n",
      "\u001b[34m[08/21/2020 13:51:16 INFO 139983836251968] Launching parameter server for role scheduler\u001b[0m\n",
      "\u001b[34m[08/21/2020 13:51:16 INFO 139983836251968] {'ECS_CONTAINER_METADATA_URI': 'http://169.254.170.2/v3/ff8969cf-7d5a-41ee-8cd0-89824578f90b', 'ECS_CONTAINER_METADATA_URI_V4': 'http://169.254.170.2/v4/ff8969cf-7d5a-41ee-8cd0-89824578f90b', 'PROTOCOL_BUFFERS_PYTHON_IMPLEMENTATION_VERSION': '2', 'PATH': '/opt/amazon/bin:/usr/local/nvidia/bin:/usr/local/sbin:/usr/local/bin:/usr/sbin:/usr/bin:/sbin:/bin:/opt/amazon/bin:/opt/amazon/bin', 'SAGEMAKER_HTTP_PORT': '8080', 'HOME': '/root', 'PYTHONUNBUFFERED': 'TRUE', 'CANONICAL_ENVROOT': '/opt/amazon', 'LD_LIBRARY_PATH': '/opt/amazon/lib/python2.7/site-packages/cv2/../../../../lib:/usr/local/nvidia/lib64:/opt/amazon/lib', 'LANG': 'en_US.utf8', 'DMLC_INTERFACE': 'eth0', 'SHLVL': '1', 'AWS_REGION': 'eu-central-1', 'NVIDIA_VISIBLE_DEVICES': 'void', 'TRAINING_JOB_NAME': 'pca-2020-08-21-13-48-33-537', 'PROTOCOL_BUFFERS_PYTHON_IMPLEMENTATION': 'cpp', 'ENVROOT': '/opt/amazon', 'SAGEMAKER_DATA_PATH': '/opt/ml', 'NVIDIA_DRIVER_CAPABILITIES': 'compute,utility', 'NVIDIA_REQUIRE_CUDA': 'cuda>=9.0', 'OMP_NUM_THREADS': '2', 'HOSTNAME': 'ip-10-0-182-181.eu-central-1.compute.internal', 'AWS_CONTAINER_CREDENTIALS_RELATIVE_URI': '/v2/credentials/5653d911-3013-443d-bc4b-0c1ac5bc928d', 'PWD': '/', 'TRAINING_JOB_ARN': 'arn:aws:sagemaker:eu-central-1:513808683464:training-job/pca-2020-08-21-13-48-33-537', 'AWS_EXECUTION_ENV': 'AWS_ECS_EC2'}\u001b[0m\n",
      "\u001b[34m[08/21/2020 13:51:16 INFO 139983836251968] envs={'ECS_CONTAINER_METADATA_URI': 'http://169.254.170.2/v3/ff8969cf-7d5a-41ee-8cd0-89824578f90b', 'ECS_CONTAINER_METADATA_URI_V4': 'http://169.254.170.2/v4/ff8969cf-7d5a-41ee-8cd0-89824578f90b', 'PROTOCOL_BUFFERS_PYTHON_IMPLEMENTATION_VERSION': '2', 'DMLC_NUM_WORKER': '1', 'DMLC_PS_ROOT_PORT': '9000', 'PATH': '/opt/amazon/bin:/usr/local/nvidia/bin:/usr/local/sbin:/usr/local/bin:/usr/sbin:/usr/bin:/sbin:/bin:/opt/amazon/bin:/opt/amazon/bin', 'SAGEMAKER_HTTP_PORT': '8080', 'HOME': '/root', 'PYTHONUNBUFFERED': 'TRUE', 'CANONICAL_ENVROOT': '/opt/amazon', 'LD_LIBRARY_PATH': '/opt/amazon/lib/python2.7/site-packages/cv2/../../../../lib:/usr/local/nvidia/lib64:/opt/amazon/lib', 'LANG': 'en_US.utf8', 'DMLC_INTERFACE': 'eth0', 'SHLVL': '1', 'DMLC_PS_ROOT_URI': '10.0.182.181', 'AWS_REGION': 'eu-central-1', 'NVIDIA_VISIBLE_DEVICES': 'void', 'TRAINING_JOB_NAME': 'pca-2020-08-21-13-48-33-537', 'PROTOCOL_BUFFERS_PYTHON_IMPLEMENTATION': 'cpp', 'ENVROOT': '/opt/amazon', 'SAGEMAKER_DATA_PATH': '/opt/ml', 'NVIDIA_DRIVER_CAPABILITIES': 'compute,utility', 'NVIDIA_REQUIRE_CUDA': 'cuda>=9.0', 'OMP_NUM_THREADS': '2', 'HOSTNAME': 'ip-10-0-182-181.eu-central-1.compute.internal', 'AWS_CONTAINER_CREDENTIALS_RELATIVE_URI': '/v2/credentials/5653d911-3013-443d-bc4b-0c1ac5bc928d', 'DMLC_ROLE': 'scheduler', 'PWD': '/', 'DMLC_NUM_SERVER': '1', 'TRAINING_JOB_ARN': 'arn:aws:sagemaker:eu-central-1:513808683464:training-job/pca-2020-08-21-13-48-33-537', 'AWS_EXECUTION_ENV': 'AWS_ECS_EC2'}\u001b[0m\n",
      "\u001b[34m[08/21/2020 13:51:16 INFO 139983836251968] Launching parameter server for role server\u001b[0m\n",
      "\u001b[34m[08/21/2020 13:51:16 INFO 139983836251968] {'ECS_CONTAINER_METADATA_URI': 'http://169.254.170.2/v3/ff8969cf-7d5a-41ee-8cd0-89824578f90b', 'ECS_CONTAINER_METADATA_URI_V4': 'http://169.254.170.2/v4/ff8969cf-7d5a-41ee-8cd0-89824578f90b', 'PROTOCOL_BUFFERS_PYTHON_IMPLEMENTATION_VERSION': '2', 'PATH': '/opt/amazon/bin:/usr/local/nvidia/bin:/usr/local/sbin:/usr/local/bin:/usr/sbin:/usr/bin:/sbin:/bin:/opt/amazon/bin:/opt/amazon/bin', 'SAGEMAKER_HTTP_PORT': '8080', 'HOME': '/root', 'PYTHONUNBUFFERED': 'TRUE', 'CANONICAL_ENVROOT': '/opt/amazon', 'LD_LIBRARY_PATH': '/opt/amazon/lib/python2.7/site-packages/cv2/../../../../lib:/usr/local/nvidia/lib64:/opt/amazon/lib', 'LANG': 'en_US.utf8', 'DMLC_INTERFACE': 'eth0', 'SHLVL': '1', 'AWS_REGION': 'eu-central-1', 'NVIDIA_VISIBLE_DEVICES': 'void', 'TRAINING_JOB_NAME': 'pca-2020-08-21-13-48-33-537', 'PROTOCOL_BUFFERS_PYTHON_IMPLEMENTATION': 'cpp', 'ENVROOT': '/opt/amazon', 'SAGEMAKER_DATA_PATH': '/opt/ml', 'NVIDIA_DRIVER_CAPABILITIES': 'compute,utility', 'NVIDIA_REQUIRE_CUDA': 'cuda>=9.0', 'OMP_NUM_THREADS': '2', 'HOSTNAME': 'ip-10-0-182-181.eu-central-1.compute.internal', 'AWS_CONTAINER_CREDENTIALS_RELATIVE_URI': '/v2/credentials/5653d911-3013-443d-bc4b-0c1ac5bc928d', 'PWD': '/', 'TRAINING_JOB_ARN': 'arn:aws:sagemaker:eu-central-1:513808683464:training-job/pca-2020-08-21-13-48-33-537', 'AWS_EXECUTION_ENV': 'AWS_ECS_EC2'}\u001b[0m\n",
      "\u001b[34m[08/21/2020 13:51:16 INFO 139983836251968] envs={'ECS_CONTAINER_METADATA_URI': 'http://169.254.170.2/v3/ff8969cf-7d5a-41ee-8cd0-89824578f90b', 'ECS_CONTAINER_METADATA_URI_V4': 'http://169.254.170.2/v4/ff8969cf-7d5a-41ee-8cd0-89824578f90b', 'PROTOCOL_BUFFERS_PYTHON_IMPLEMENTATION_VERSION': '2', 'DMLC_NUM_WORKER': '1', 'DMLC_PS_ROOT_PORT': '9000', 'PATH': '/opt/amazon/bin:/usr/local/nvidia/bin:/usr/local/sbin:/usr/local/bin:/usr/sbin:/usr/bin:/sbin:/bin:/opt/amazon/bin:/opt/amazon/bin', 'SAGEMAKER_HTTP_PORT': '8080', 'HOME': '/root', 'PYTHONUNBUFFERED': 'TRUE', 'CANONICAL_ENVROOT': '/opt/amazon', 'LD_LIBRARY_PATH': '/opt/amazon/lib/python2.7/site-packages/cv2/../../../../lib:/usr/local/nvidia/lib64:/opt/amazon/lib', 'LANG': 'en_US.utf8', 'DMLC_INTERFACE': 'eth0', 'SHLVL': '1', 'DMLC_PS_ROOT_URI': '10.0.182.181', 'AWS_REGION': 'eu-central-1', 'NVIDIA_VISIBLE_DEVICES': 'void', 'TRAINING_JOB_NAME': 'pca-2020-08-21-13-48-33-537', 'PROTOCOL_BUFFERS_PYTHON_IMPLEMENTATION': 'cpp', 'ENVROOT': '/opt/amazon', 'SAGEMAKER_DATA_PATH': '/opt/ml', 'NVIDIA_DRIVER_CAPABILITIES': 'compute,utility', 'NVIDIA_REQUIRE_CUDA': 'cuda>=9.0', 'OMP_NUM_THREADS': '2', 'HOSTNAME': 'ip-10-0-182-181.eu-central-1.compute.internal', 'AWS_CONTAINER_CREDENTIALS_RELATIVE_URI': '/v2/credentials/5653d911-3013-443d-bc4b-0c1ac5bc928d', 'DMLC_ROLE': 'server', 'PWD': '/', 'DMLC_NUM_SERVER': '1', 'TRAINING_JOB_ARN': 'arn:aws:sagemaker:eu-central-1:513808683464:training-job/pca-2020-08-21-13-48-33-537', 'AWS_EXECUTION_ENV': 'AWS_ECS_EC2'}\u001b[0m\n",
      "\u001b[34m[08/21/2020 13:51:16 INFO 139983836251968] Environment: {'ECS_CONTAINER_METADATA_URI': 'http://169.254.170.2/v3/ff8969cf-7d5a-41ee-8cd0-89824578f90b', 'ECS_CONTAINER_METADATA_URI_V4': 'http://169.254.170.2/v4/ff8969cf-7d5a-41ee-8cd0-89824578f90b', 'PROTOCOL_BUFFERS_PYTHON_IMPLEMENTATION_VERSION': '2', 'DMLC_PS_ROOT_PORT': '9000', 'DMLC_NUM_WORKER': '1', 'SAGEMAKER_HTTP_PORT': '8080', 'PATH': '/opt/amazon/bin:/usr/local/nvidia/bin:/usr/local/sbin:/usr/local/bin:/usr/sbin:/usr/bin:/sbin:/bin:/opt/amazon/bin:/opt/amazon/bin', 'PYTHONUNBUFFERED': 'TRUE', 'CANONICAL_ENVROOT': '/opt/amazon', 'LD_LIBRARY_PATH': '/opt/amazon/lib/python2.7/site-packages/cv2/../../../../lib:/usr/local/nvidia/lib64:/opt/amazon/lib', 'LANG': 'en_US.utf8', 'DMLC_INTERFACE': 'eth0', 'SHLVL': '1', 'DMLC_PS_ROOT_URI': '10.0.182.181', 'AWS_REGION': 'eu-central-1', 'NVIDIA_VISIBLE_DEVICES': 'void', 'TRAINING_JOB_NAME': 'pca-2020-08-21-13-48-33-537', 'HOME': '/root', 'PROTOCOL_BUFFERS_PYTHON_IMPLEMENTATION': 'cpp', 'ENVROOT': '/opt/amazon', 'SAGEMAKER_DATA_PATH': '/opt/ml', 'NVIDIA_DRIVER_CAPABILITIES': 'compute,utility', 'NVIDIA_REQUIRE_CUDA': 'cuda>=9.0', 'OMP_NUM_THREADS': '2', 'HOSTNAME': 'ip-10-0-182-181.eu-central-1.compute.internal', 'AWS_CONTAINER_CREDENTIALS_RELATIVE_URI': '/v2/credentials/5653d911-3013-443d-bc4b-0c1ac5bc928d', 'DMLC_ROLE': 'worker', 'PWD': '/', 'DMLC_NUM_SERVER': '1', 'TRAINING_JOB_ARN': 'arn:aws:sagemaker:eu-central-1:513808683464:training-job/pca-2020-08-21-13-48-33-537', 'AWS_EXECUTION_ENV': 'AWS_ECS_EC2'}\u001b[0m\n",
      "\u001b[34mProcess 60 is a shell:scheduler.\u001b[0m\n",
      "\u001b[34mProcess 69 is a shell:server.\u001b[0m\n",
      "\u001b[34mProcess 1 is a worker.\u001b[0m\n",
      "\u001b[34m[08/21/2020 13:51:16 INFO 139983836251968] Using default worker.\u001b[0m\n",
      "\u001b[34m[08/21/2020 13:51:16 INFO 139983836251968] Loaded iterator creator application/x-recordio-protobuf for content type ('application/x-recordio-protobuf', '1.0')\u001b[0m\n",
      "\u001b[34m[08/21/2020 13:51:16 INFO 139983836251968] Loaded iterator creator application/x-labeled-vector-protobuf for content type ('application/x-labeled-vector-protobuf', '1.0')\u001b[0m\n",
      "\u001b[34m[08/21/2020 13:51:16 INFO 139983836251968] Loaded iterator creator protobuf for content type ('protobuf', '1.0')\u001b[0m\n",
      "\u001b[34m[08/21/2020 13:51:16 INFO 139983836251968] Create Store: dist_sync\u001b[0m\n",
      "\u001b[34m[08/21/2020 13:51:17 INFO 139983836251968] nvidia-smi took: 0.0251770019531 secs to identify 0 gpus\u001b[0m\n",
      "\u001b[34m[08/21/2020 13:51:17 INFO 139983836251968] Number of GPUs being used: 0\u001b[0m\n",
      "\u001b[34m[08/21/2020 13:51:17 INFO 139983836251968] The default executor is <PCAExecutor on cpu(0)>.\u001b[0m\n",
      "\u001b[34m[08/21/2020 13:51:17 INFO 139983836251968] 34 feature(s) found in 'data'.\u001b[0m\n",
      "\u001b[34m[08/21/2020 13:51:17 INFO 139983836251968] <PCAExecutor on cpu(0)> is assigned to batch slice from 0 to 499.\u001b[0m\n",
      "\u001b[34m#metrics {\"Metrics\": {\"initialize.time\": {\"count\": 1, \"max\": 750.9238719940186, \"sum\": 750.9238719940186, \"min\": 750.9238719940186}}, \"EndTime\": 1598017877.457114, \"Dimensions\": {\"Host\": \"algo-1\", \"Operation\": \"training\", \"Algorithm\": \"PCA\"}, \"StartTime\": 1598017876.699822}\n",
      "\u001b[0m\n",
      "\u001b[34m#metrics {\"Metrics\": {\"Max Batches Seen Between Resets\": {\"count\": 1, \"max\": 0, \"sum\": 0.0, \"min\": 0}, \"Number of Batches Since Last Reset\": {\"count\": 1, \"max\": 0, \"sum\": 0.0, \"min\": 0}, \"Number of Records Since Last Reset\": {\"count\": 1, \"max\": 0, \"sum\": 0.0, \"min\": 0}, \"Total Batches Seen\": {\"count\": 1, \"max\": 0, \"sum\": 0.0, \"min\": 0}, \"Total Records Seen\": {\"count\": 1, \"max\": 0, \"sum\": 0.0, \"min\": 0}, \"Max Records Seen Between Resets\": {\"count\": 1, \"max\": 0, \"sum\": 0.0, \"min\": 0}, \"Reset Count\": {\"count\": 1, \"max\": 0, \"sum\": 0.0, \"min\": 0}}, \"EndTime\": 1598017877.457327, \"Dimensions\": {\"Host\": \"algo-1\", \"Meta\": \"init_train_data_iter\", \"Operation\": \"training\", \"Algorithm\": \"PCA\"}, \"StartTime\": 1598017877.457293}\n",
      "\u001b[0m\n",
      "\u001b[34m[2020-08-21 13:51:17.457] [tensorio] [info] epoch_stats={\"data_pipeline\": \"/opt/ml/input/data/train\", \"epoch\": 0, \"duration\": 756, \"num_examples\": 1, \"num_bytes\": 82000}\u001b[0m\n",
      "\u001b[34m[2020-08-21 13:51:17.494] [tensorio] [info] epoch_stats={\"data_pipeline\": \"/opt/ml/input/data/train\", \"epoch\": 1, \"duration\": 29, \"num_examples\": 7, \"num_bytes\": 527752}\u001b[0m\n",
      "\u001b[34m#metrics {\"Metrics\": {\"epochs\": {\"count\": 1, \"max\": 1, \"sum\": 1.0, \"min\": 1}, \"update.time\": {\"count\": 1, \"max\": 37.21785545349121, \"sum\": 37.21785545349121, \"min\": 37.21785545349121}}, \"EndTime\": 1598017877.494979, \"Dimensions\": {\"Host\": \"algo-1\", \"Operation\": \"training\", \"Algorithm\": \"PCA\"}, \"StartTime\": 1598017877.457217}\n",
      "\u001b[0m\n",
      "\u001b[34m[08/21/2020 13:51:17 INFO 139983836251968] #progress_metric: host=algo-1, completed 100 % of epochs\u001b[0m\n",
      "\u001b[34m#metrics {\"Metrics\": {\"Max Batches Seen Between Resets\": {\"count\": 1, \"max\": 7, \"sum\": 7.0, \"min\": 7}, \"Number of Batches Since Last Reset\": {\"count\": 1, \"max\": 7, \"sum\": 7.0, \"min\": 7}, \"Number of Records Since Last Reset\": {\"count\": 1, \"max\": 3218, \"sum\": 3218.0, \"min\": 3218}, \"Total Batches Seen\": {\"count\": 1, \"max\": 7, \"sum\": 7.0, \"min\": 7}, \"Total Records Seen\": {\"count\": 1, \"max\": 3218, \"sum\": 3218.0, \"min\": 3218}, \"Max Records Seen Between Resets\": {\"count\": 1, \"max\": 3218, \"sum\": 3218.0, \"min\": 3218}, \"Reset Count\": {\"count\": 1, \"max\": 1, \"sum\": 1.0, \"min\": 1}}, \"EndTime\": 1598017877.495309, \"Dimensions\": {\"Host\": \"algo-1\", \"Meta\": \"training_data_iter\", \"Operation\": \"training\", \"Algorithm\": \"PCA\", \"epoch\": 0}, \"StartTime\": 1598017877.45766}\n",
      "\u001b[0m\n",
      "\u001b[34m[08/21/2020 13:51:17 INFO 139983836251968] #throughput_metric: host=algo-1, train throughput=85194.9798773 records/second\u001b[0m\n",
      "\u001b[34m#metrics {\"Metrics\": {\"finalize.time\": {\"count\": 1, \"max\": 17.06695556640625, \"sum\": 17.06695556640625, \"min\": 17.06695556640625}}, \"EndTime\": 1598017877.512716, \"Dimensions\": {\"Host\": \"algo-1\", \"Operation\": \"training\", \"Algorithm\": \"PCA\"}, \"StartTime\": 1598017877.495063}\n",
      "\u001b[0m\n",
      "\u001b[34m[08/21/2020 13:51:17 INFO 139983836251968] Test data is not provided.\u001b[0m\n",
      "\u001b[34m#metrics {\"Metrics\": {\"totaltime\": {\"count\": 1, \"max\": 2001.5959739685059, \"sum\": 2001.5959739685059, \"min\": 2001.5959739685059}, \"setuptime\": {\"count\": 1, \"max\": 1062.788963317871, \"sum\": 1062.788963317871, \"min\": 1062.788963317871}}, \"EndTime\": 1598017877.517658, \"Dimensions\": {\"Host\": \"algo-1\", \"Operation\": \"training\", \"Algorithm\": \"PCA\"}, \"StartTime\": 1598017877.512773}\n",
      "\u001b[0m\n",
      "\n",
      "2020-08-21 13:51:24 Uploading - Uploading generated training model\n",
      "2020-08-21 13:51:24 Completed - Training job completed\n",
      "Training seconds: 42\n",
      "Billable seconds: 42\n",
      "CPU times: user 399 ms, sys: 27.7 ms, total: 426 ms\n",
      "Wall time: 3min 11s\n"
     ]
    }
   ],
   "source": [
    "%%time\n",
    "\n",
    "#train the PCA model on the formatted data\n",
    "pca_SM.fit(formatted_train_data)\n",
    "\n",
    "#After training, a new folder is created in the S3 bucket called \"PCA\", \n",
    "#which contains: <trainingjobname>/output/model.tar.gz. In the model.tar.gz file the model artifacts are stored. \n",
    "#The stored artifacts can be used to deploy a trained model. "
   ]
  },
  {
   "cell_type": "markdown",
   "metadata": {},
   "source": [
    "#### Accessing the PCA Attributes\n"
   ]
  },
  {
   "cell_type": "code",
   "execution_count": 30,
   "metadata": {},
   "outputs": [
    {
     "name": "stdout",
     "output_type": "stream",
     "text": [
      "PCA/pca-2020-08-21-13-48-33-537/output/model.tar.gz\n",
      "s3.ServiceResource()\n",
      "s3.Bucket(name='sagemaker-eu-central-1-513808683464')\n"
     ]
    },
    {
     "data": {
      "text/plain": [
       "2304"
      ]
     },
     "execution_count": 30,
     "metadata": {},
     "output_type": "execute_result"
    }
   ],
   "source": [
    "#Copy the job name from the SageMaker console. \n",
    "training_job_name = \"pca-2020-08-21-13-48-33-537\"\n",
    "\n",
    "#Location of the saved model in S3\n",
    "model_key = os.path.join(prefix_pca, training_job_name, \"output/model.tar.gz\") #prefix_pca=\"PCA\"\n",
    "print(model_key)\n",
    "\n",
    "#Make an S3 resource. This gives us higher level service access to S3, in contrast to a client, which gives low level access to S3\n",
    "s3 = boto3.resource(\"s3\") \n",
    "print(s3)\n",
    "\n",
    "s3_bucket = s3.Bucket(bucket_name) #A resource representing an Amazon Simple Storage Service (S3) Bucket\n",
    "print(s3_bucket)\n",
    "\n",
    "#Download the S3 object to a file\n",
    "s3_bucket.download_file(model_key, \"model.tar.gz\") #The model is saved in the working directory as \"model.tar.gz\"\n",
    "\n",
    "#Unzip the model files\n",
    "os.system(\"tar -zxvf model.tar.gz\") #Return a file called model_algo-1 in the working directory\n",
    "os.system(\"unzip model_algo-1\") #Unzip the model_algo-1 file\n"
   ]
  },
  {
   "cell_type": "markdown",
   "metadata": {},
   "source": [
    "##### Note on model_algo-1\n",
    "\n",
    "Trained Model Deserialization\n",
    "\n",
    "Amazon SageMaker models are stored as model.tar.gz in the S3 bucket specified in OutputDataConfig S3OutputPath parameter of the create_training_job call. You can specify most of these model artifacts when creating a hosting model. You can also open and review them in your notebook instance. When model.tar.gz is untarred, it contains model_algo-1, which is a serialized Apache MXNet object. (https://docs.aws.amazon.com/sagemaker/latest/dg/cdf-training.html)"
   ]
  },
  {
   "cell_type": "code",
   "execution_count": 31,
   "metadata": {},
   "outputs": [
    {
     "name": "stdout",
     "output_type": "stream",
     "text": [
      "{'s': \n",
      "[1.7896362e-02 3.0864021e-02 3.2130770e-02 3.5486195e-02 9.4831578e-02\n",
      " 1.2699370e-01 4.0288666e-01 1.4084760e+00 1.5100485e+00 1.5957943e+00\n",
      " 1.7783760e+00 2.1662524e+00 2.2966361e+00 2.3856051e+00 2.6954880e+00\n",
      " 2.8067985e+00 3.0175958e+00 3.3952675e+00 3.5731301e+00 3.6966958e+00\n",
      " 4.1890211e+00 4.3457499e+00 4.5410376e+00 5.0189657e+00 5.5786467e+00\n",
      " 5.9809699e+00 6.3925138e+00 7.6952214e+00 7.9913125e+00 1.0180052e+01\n",
      " 1.1718245e+01 1.3035975e+01 1.9592180e+01]\n",
      "<NDArray 33 @cpu(0)>, 'v': \n",
      "[[ 2.46869749e-03  2.56468095e-02  2.50773830e-03 ... -7.63925165e-02\n",
      "   1.59879066e-02  5.04589686e-03]\n",
      " [-2.80601848e-02 -6.86634064e-01 -1.96283013e-02 ... -7.59587288e-02\n",
      "   1.57304872e-02  4.95312130e-03]\n",
      " [ 3.25766727e-02  7.17300594e-01  2.40726061e-02 ... -7.68136829e-02\n",
      "   1.62378680e-02  5.13597298e-03]\n",
      " ...\n",
      " [ 1.12151138e-01 -1.17030945e-02 -2.88011521e-01 ...  1.39890045e-01\n",
      "  -3.09406728e-01 -6.34506866e-02]\n",
      " [ 2.99992133e-02 -3.13433539e-03 -7.63589665e-02 ...  4.17341813e-02\n",
      "  -7.06735924e-02 -1.42857227e-02]\n",
      " [ 7.33537527e-05  3.01008171e-04 -8.00925500e-06 ...  6.97060227e-02\n",
      "   1.20169498e-01  2.33626723e-01]]\n",
      "<NDArray 34x33 @cpu(0)>, 'mean': \n",
      "[[0.00988273 0.00986636 0.00989863 0.11017046 0.7560245  0.10094159\n",
      "  0.0186819  0.02940491 0.0064698  0.01154038 0.31539047 0.1222766\n",
      "  0.3030056  0.08220861 0.256217   0.2964254  0.28914267 0.40191284\n",
      "  0.57868284 0.2854676  0.28294644 0.82774544 0.34378946 0.01576072\n",
      "  0.04649627 0.04115358 0.12442778 0.47014    0.00980645 0.7608103\n",
      "  0.19442631 0.21674445 0.0294168  0.22177474]]\n",
      "<NDArray 1x34 @cpu(0)>}\n"
     ]
    }
   ],
   "source": [
    "import mxnet as mx\n",
    "\n",
    "#Deserialize the MXNet object\n",
    "pca_model_params = mx.ndarray.load(\"model_algo-1\")\n",
    "\n",
    "print(pca_model_params)"
   ]
  },
  {
   "cell_type": "markdown",
   "metadata": {},
   "source": [
    "The PCA model attributes consists of 3 parts: \n",
    "\n",
    "- Mean: The mean that was substracted from a component in order to center it\n",
    "- v: The Makeup of the principal components (the eigenvectors of the covariance matrix)\n",
    "- s: The singular values of the components for the PCA transformation (eigenvalues). Gives the percentage of variance captured by the principal components. "
   ]
  },
  {
   "cell_type": "code",
   "execution_count": 32,
   "metadata": {},
   "outputs": [
    {
     "data": {
      "text/html": [
       "<div>\n",
       "<style scoped>\n",
       "    .dataframe tbody tr th:only-of-type {\n",
       "        vertical-align: middle;\n",
       "    }\n",
       "\n",
       "    .dataframe tbody tr th {\n",
       "        vertical-align: top;\n",
       "    }\n",
       "\n",
       "    .dataframe thead th {\n",
       "        text-align: right;\n",
       "    }\n",
       "</style>\n",
       "<table border=\"1\" class=\"dataframe\">\n",
       "  <thead>\n",
       "    <tr style=\"text-align: right;\">\n",
       "      <th></th>\n",
       "      <th>0</th>\n",
       "    </tr>\n",
       "  </thead>\n",
       "  <tbody>\n",
       "    <tr>\n",
       "      <th>0</th>\n",
       "      <td>0.017896</td>\n",
       "    </tr>\n",
       "    <tr>\n",
       "      <th>1</th>\n",
       "      <td>0.030864</td>\n",
       "    </tr>\n",
       "    <tr>\n",
       "      <th>2</th>\n",
       "      <td>0.032131</td>\n",
       "    </tr>\n",
       "    <tr>\n",
       "      <th>3</th>\n",
       "      <td>0.035486</td>\n",
       "    </tr>\n",
       "    <tr>\n",
       "      <th>4</th>\n",
       "      <td>0.094832</td>\n",
       "    </tr>\n",
       "    <tr>\n",
       "      <th>5</th>\n",
       "      <td>0.126994</td>\n",
       "    </tr>\n",
       "    <tr>\n",
       "      <th>6</th>\n",
       "      <td>0.402887</td>\n",
       "    </tr>\n",
       "    <tr>\n",
       "      <th>7</th>\n",
       "      <td>1.408476</td>\n",
       "    </tr>\n",
       "    <tr>\n",
       "      <th>8</th>\n",
       "      <td>1.510049</td>\n",
       "    </tr>\n",
       "    <tr>\n",
       "      <th>9</th>\n",
       "      <td>1.595794</td>\n",
       "    </tr>\n",
       "    <tr>\n",
       "      <th>10</th>\n",
       "      <td>1.778376</td>\n",
       "    </tr>\n",
       "    <tr>\n",
       "      <th>11</th>\n",
       "      <td>2.166252</td>\n",
       "    </tr>\n",
       "    <tr>\n",
       "      <th>12</th>\n",
       "      <td>2.296636</td>\n",
       "    </tr>\n",
       "    <tr>\n",
       "      <th>13</th>\n",
       "      <td>2.385605</td>\n",
       "    </tr>\n",
       "    <tr>\n",
       "      <th>14</th>\n",
       "      <td>2.695488</td>\n",
       "    </tr>\n",
       "    <tr>\n",
       "      <th>15</th>\n",
       "      <td>2.806798</td>\n",
       "    </tr>\n",
       "    <tr>\n",
       "      <th>16</th>\n",
       "      <td>3.017596</td>\n",
       "    </tr>\n",
       "    <tr>\n",
       "      <th>17</th>\n",
       "      <td>3.395267</td>\n",
       "    </tr>\n",
       "    <tr>\n",
       "      <th>18</th>\n",
       "      <td>3.573130</td>\n",
       "    </tr>\n",
       "    <tr>\n",
       "      <th>19</th>\n",
       "      <td>3.696696</td>\n",
       "    </tr>\n",
       "    <tr>\n",
       "      <th>20</th>\n",
       "      <td>4.189021</td>\n",
       "    </tr>\n",
       "    <tr>\n",
       "      <th>21</th>\n",
       "      <td>4.345750</td>\n",
       "    </tr>\n",
       "    <tr>\n",
       "      <th>22</th>\n",
       "      <td>4.541038</td>\n",
       "    </tr>\n",
       "    <tr>\n",
       "      <th>23</th>\n",
       "      <td>5.018966</td>\n",
       "    </tr>\n",
       "    <tr>\n",
       "      <th>24</th>\n",
       "      <td>5.578647</td>\n",
       "    </tr>\n",
       "    <tr>\n",
       "      <th>25</th>\n",
       "      <td>5.980970</td>\n",
       "    </tr>\n",
       "    <tr>\n",
       "      <th>26</th>\n",
       "      <td>6.392514</td>\n",
       "    </tr>\n",
       "    <tr>\n",
       "      <th>27</th>\n",
       "      <td>7.695221</td>\n",
       "    </tr>\n",
       "    <tr>\n",
       "      <th>28</th>\n",
       "      <td>7.991313</td>\n",
       "    </tr>\n",
       "    <tr>\n",
       "      <th>29</th>\n",
       "      <td>10.180052</td>\n",
       "    </tr>\n",
       "    <tr>\n",
       "      <th>30</th>\n",
       "      <td>11.718245</td>\n",
       "    </tr>\n",
       "    <tr>\n",
       "      <th>31</th>\n",
       "      <td>13.035975</td>\n",
       "    </tr>\n",
       "    <tr>\n",
       "      <th>32</th>\n",
       "      <td>19.592180</td>\n",
       "    </tr>\n",
       "  </tbody>\n",
       "</table>\n",
       "</div>"
      ],
      "text/plain": [
       "            0\n",
       "0    0.017896\n",
       "1    0.030864\n",
       "2    0.032131\n",
       "3    0.035486\n",
       "4    0.094832\n",
       "5    0.126994\n",
       "6    0.402887\n",
       "7    1.408476\n",
       "8    1.510049\n",
       "9    1.595794\n",
       "10   1.778376\n",
       "11   2.166252\n",
       "12   2.296636\n",
       "13   2.385605\n",
       "14   2.695488\n",
       "15   2.806798\n",
       "16   3.017596\n",
       "17   3.395267\n",
       "18   3.573130\n",
       "19   3.696696\n",
       "20   4.189021\n",
       "21   4.345750\n",
       "22   4.541038\n",
       "23   5.018966\n",
       "24   5.578647\n",
       "25   5.980970\n",
       "26   6.392514\n",
       "27   7.695221\n",
       "28   7.991313\n",
       "29  10.180052\n",
       "30  11.718245\n",
       "31  13.035975\n",
       "32  19.592180"
      ]
     },
     "execution_count": 32,
     "metadata": {},
     "output_type": "execute_result"
    }
   ],
   "source": [
    "#Get the parameters\n",
    "\n",
    "s = pd.DataFrame(pca_model_params[\"s\"].asnumpy())\n",
    "v = pd.DataFrame(pca_model_params[\"v\"].asnumpy())\n",
    "s"
   ]
  },
  {
   "cell_type": "markdown",
   "metadata": {},
   "source": [
    "The s values give the variance contributed by the different principal components. The higher the value, the more the contribution of that specific principal component on the data. In other words, it contributes more to the variance of the data. Lets check the top 5 principal components. "
   ]
  },
  {
   "cell_type": "code",
   "execution_count": 33,
   "metadata": {},
   "outputs": [
    {
     "name": "stdout",
     "output_type": "stream",
     "text": [
      "            0\n",
      "28   7.991313\n",
      "29  10.180052\n",
      "30  11.718245\n",
      "31  13.035975\n",
      "32  19.592180\n"
     ]
    }
   ],
   "source": [
    "n_principal_components = 5\n",
    "\n",
    "#Make an index variable to capture the n_principal_components\n",
    "start_idx = N_COMPONENTS - n_principal_components\n",
    "\n",
    "#print a selection of s\n",
    "print(s.iloc[start_idx:, :])"
   ]
  },
  {
   "cell_type": "markdown",
   "metadata": {},
   "source": [
    "We want to create new training data. For this reason, we need to make sure we don't lose to much of the variance of the original data, which is 100%. We want to capture at least 80% of the total variance in the dataset. To do this, we first write a function which calculates the percentage of captured variance given the n_top_components we wish to use. "
   ]
  },
  {
   "cell_type": "code",
   "execution_count": 34,
   "metadata": {},
   "outputs": [
    {
     "data": {
      "text/plain": [
       "0.80167246"
      ]
     },
     "execution_count": 34,
     "metadata": {},
     "output_type": "execute_result"
    }
   ],
   "source": [
    "def explained_variance(s, n_top_components):\n",
    "    \n",
    "    \"\"\"\n",
    "    Calculates the explained variance given the singular values of the principal components s and the n_top_components to use\n",
    "    \n",
    "    Args\n",
    "    -------\n",
    "    s: singular values of the principal components\n",
    "    n_top_components: (int) representing the n top components for which we want to calculate the explained variance. \n",
    "    \n",
    "    Returns\n",
    "    -------\n",
    "    var[0]: the explained variance which is a percentage\n",
    "    \"\"\"\n",
    "    \n",
    "    #Change the column name to reference to it later\n",
    "    s.columns = [\"s\"] \n",
    "    \n",
    "    #Sort the rows of s to descending form\n",
    "    s = s.sort_values(\"s\", ascending=False)\n",
    "        \n",
    "    #Calculate the expected data variance covered by top n principal components      \n",
    "    var = np.square(s.iloc[:n_top_components]).sum() / np.square(s).sum()\n",
    "\n",
    "    return var[0]\n",
    "\n",
    "#For example, the top 7 principal component accounts for 80% of our data variance. \n",
    "explained_variance(s, 7)"
   ]
  },
  {
   "cell_type": "markdown",
   "metadata": {},
   "source": [
    "Each Principal Components is made up of a weighted linear combination of the original features of the dataset. We can look for ourselves how each principal component is made up. For this, we create a function called display_component which will display for a given principal component which combinations it is made up of. Lets first print out s and v. "
   ]
  },
  {
   "cell_type": "code",
   "execution_count": 35,
   "metadata": {},
   "outputs": [
    {
     "name": "stdout",
     "output_type": "stream",
     "text": [
      "            s\n",
      "0    0.017896\n",
      "1    0.030864\n",
      "2    0.032131\n",
      "3    0.035486\n",
      "4    0.094832\n",
      "5    0.126994\n",
      "6    0.402887\n",
      "7    1.408476\n",
      "8    1.510049\n",
      "9    1.595794\n",
      "10   1.778376\n",
      "11   2.166252\n",
      "12   2.296636\n",
      "13   2.385605\n",
      "14   2.695488\n",
      "15   2.806798\n",
      "16   3.017596\n",
      "17   3.395267\n",
      "18   3.573130\n",
      "19   3.696696\n",
      "20   4.189021\n",
      "21   4.345750\n",
      "22   4.541038\n",
      "23   5.018966\n",
      "24   5.578647\n",
      "25   5.980970\n",
      "26   6.392514\n",
      "27   7.695221\n",
      "28   7.991313\n",
      "29  10.180052\n",
      "30  11.718245\n",
      "31  13.035975\n",
      "32  19.592180\n",
      "          0         1         2         3         4         5         6   \\\n",
      "0   0.002469  0.025647  0.002508  0.001504 -0.323074 -0.178807 -0.001509   \n",
      "1  -0.028060 -0.686634 -0.019628 -0.041537 -0.331368 -0.241622 -0.001658   \n",
      "2   0.032577  0.717301  0.024073  0.045103 -0.315083 -0.117787 -0.001385   \n",
      "3   0.000218 -0.000916 -0.000623 -0.000381 -0.001569  0.010348 -0.495563   \n",
      "4   0.000242 -0.000709 -0.000601 -0.000256 -0.002276  0.010803 -0.501500   \n",
      "5   0.000239 -0.001190 -0.000525 -0.000278 -0.001989  0.008303 -0.429078   \n",
      "6   0.000293 -0.001541 -0.000554 -0.000270 -0.002853  0.010491 -0.494917   \n",
      "7  -0.000056  0.002450 -0.000145 -0.000281 -0.006529  0.008688 -0.236822   \n",
      "8   0.000447 -0.000107 -0.000509  0.000475  0.003596 -0.002848 -0.130125   \n",
      "9  -0.004114 -0.078060 -0.002045 -0.012714  0.146230  0.870448  0.018119   \n",
      "10 -0.000151  0.001614  0.000227  0.000089  0.003026  0.007969  0.002063   \n",
      "11  0.000171 -0.000463 -0.000364 -0.000159 -0.000496  0.002377  0.004072   \n",
      "12  0.000408 -0.000461 -0.000178  0.000548 -0.009272 -0.007633 -0.004691   \n",
      "13 -0.000377  0.000113  0.000123 -0.000193  0.002400  0.004553  0.004955   \n",
      "14  0.000092  0.000613  0.000028  0.000535 -0.003514  0.003924  0.008810   \n",
      "15 -0.000028 -0.000200  0.000053 -0.000027  0.001390 -0.001699 -0.004837   \n",
      "16  0.123769  0.034223 -0.350914 -0.463587 -0.001759 -0.007447 -0.000155   \n",
      "17  0.067934  0.019354 -0.192646 -0.254236  0.001541 -0.002218 -0.002479   \n",
      "18  0.063826  0.017758 -0.181599 -0.239916  0.001666 -0.003526 -0.003171   \n",
      "19  0.078996  0.022325 -0.223841 -0.295540  0.000591 -0.000805 -0.000339   \n",
      "20  0.113584  0.031705 -0.322665 -0.426073  0.000543 -0.000361  0.005568   \n",
      "21  0.581721 -0.029243  0.217666 -0.011651  0.004063  0.000460 -0.002792   \n",
      "22  0.194478 -0.009637  0.073009 -0.003817  0.001389  0.000663 -0.005499   \n",
      "23  0.400996 -0.027296  0.149677 -0.008851  0.000821  0.000107 -0.002659   \n",
      "24  0.463205 -0.024341  0.173324 -0.009105  0.003624 -0.002284  0.005986   \n",
      "25  0.253912 -0.011551  0.095380 -0.005463  0.002258  0.001431 -0.002514   \n",
      "26  0.242156 -0.011760  0.090238 -0.004796  0.002561 -0.000771  0.007150   \n",
      "27  0.000026 -0.000102  0.000097 -0.000006 -0.000275 -0.000242  0.001470   \n",
      "28 -0.002610  0.022448 -0.004169  0.007922  0.815404 -0.370529 -0.011540   \n",
      "29  0.180353 -0.018413 -0.462890  0.397248 -0.003861  0.002173  0.003841   \n",
      "30  0.185139 -0.018328 -0.475516  0.408078 -0.003395  0.005081 -0.002315   \n",
      "31  0.112151 -0.011703 -0.288012  0.246893 -0.000765  0.005375 -0.000001   \n",
      "32  0.029999 -0.003134 -0.076359  0.066087 -0.000882  0.000618 -0.000482   \n",
      "33  0.000073  0.000301 -0.000008  0.000111  0.001470 -0.002694  0.001590   \n",
      "\n",
      "          7         8         9   ...        23        24        25        26  \\\n",
      "0   0.032337  0.034215  0.000954  ...  0.017474 -0.059638  0.086932 -0.011967   \n",
      "1   0.031944  0.032659  0.002615  ...  0.017304 -0.059000  0.086065 -0.012463   \n",
      "2   0.032718  0.035725 -0.000658  ...  0.017640 -0.060259  0.087775 -0.011484   \n",
      "3  -0.001460  0.005473 -0.037492  ...  0.082821 -0.059665 -0.106154  0.107721   \n",
      "4   0.043600 -0.009186  0.032023  ...  0.025476 -0.103535 -0.048642  0.059254   \n",
      "5   0.026844  0.018039  0.027393  ... -0.021767 -0.174813 -0.101013  0.204929   \n",
      "6  -0.032905  0.009097  0.005804  ... -0.126655  0.336893  0.163820 -0.263071   \n",
      "7  -0.298687 -0.384994  0.122059  ...  0.098355 -0.027404  0.177549 -0.118251   \n",
      "8   0.445075  0.634196 -0.273251  ... -0.004493 -0.012551  0.023354 -0.068123   \n",
      "9   0.022948  0.045393 -0.007733  ...  0.017918 -0.064002  0.092885 -0.011510   \n",
      "10  0.520924 -0.189905  0.249002  ...  0.070982  0.132318 -0.016884 -0.159173   \n",
      "11 -0.097025  0.043191 -0.031836  ...  0.046223  0.030413 -0.237284  0.063843   \n",
      "12 -0.543951  0.430806 -0.032893  ...  0.086813 -0.044739  0.048360 -0.002790   \n",
      "13  0.248346 -0.184483  0.059588  ...  0.026916 -0.055519 -0.126072  0.101136   \n",
      "14  0.019080  0.335507  0.649707  ...  0.040115  0.016563  0.190646  0.150755   \n",
      "15  0.064186 -0.242712 -0.409225  ...  0.035108 -0.040940  0.232115  0.166416   \n",
      "16  0.055435 -0.046360 -0.104689  ...  0.088651  0.072894  0.141714  0.230838   \n",
      "17  0.005688 -0.008933  0.046310  ...  0.314035 -0.607744 -0.312341 -0.349273   \n",
      "18 -0.011148 -0.006119  0.021756  ... -0.733983 -0.031603 -0.241309  0.150182   \n",
      "19 -0.040613  0.007522  0.047552  ... -0.079587  0.013014 -0.108450 -0.062929   \n",
      "20 -0.029204  0.054564  0.041224  ...  0.184355  0.292403  0.243522 -0.083842   \n",
      "21 -0.063186 -0.000408  0.049647  ...  0.114512  0.192912 -0.409452  0.252430   \n",
      "22 -0.034684  0.013202  0.011978  ... -0.440372 -0.224015  0.121567 -0.489348   \n",
      "23  0.188177 -0.006565  0.070149  ...  0.102625 -0.090614  0.156415 -0.052615   \n",
      "24 -0.022867  0.035935 -0.334185  ...  0.018937  0.009666  0.150037 -0.089398   \n",
      "25 -0.011909 -0.056294  0.314074  ... -0.056164  0.033378  0.081947 -0.111697   \n",
      "26 -0.075633 -0.010302  0.065440  ... -0.068918 -0.186593  0.253509  0.162125   \n",
      "27 -0.042403  0.019798 -0.044166  ...  0.094548  0.001766  0.048054 -0.019110   \n",
      "28  0.021685  0.034690  0.006520  ...  0.020662 -0.058661  0.090077 -0.011868   \n",
      "29  0.010612 -0.012405 -0.017358  ...  0.037200 -0.154634  0.132575 -0.044734   \n",
      "30 -0.050103  0.021717 -0.019523  ...  0.045181  0.315766 -0.274165 -0.198682   \n",
      "31  0.064122 -0.014420  0.057669  ... -0.126790 -0.262848  0.226269  0.383669   \n",
      "32  0.007470 -0.015314  0.011190  ... -0.030416 -0.037100  0.050208  0.060490   \n",
      "33  0.026921 -0.041232 -0.064198  ... -0.074915  0.100131  0.129258 -0.100294   \n",
      "\n",
      "          27        28        29        30        31        32  \n",
      "0   0.010309 -0.016843  0.009003 -0.076393  0.015988  0.005046  \n",
      "1   0.010201 -0.016702  0.008634 -0.075959  0.015730  0.004953  \n",
      "2   0.010413 -0.016979  0.009362 -0.076814  0.016238  0.005136  \n",
      "3  -0.047817  0.102068 -0.534674 -0.322117 -0.278090  0.392619  \n",
      "4   0.203843 -0.210340 -0.160298  0.373134  0.092912 -0.601972  \n",
      "5  -0.174230  0.307641  0.622484 -0.001154  0.348801  0.207530  \n",
      "6   0.000560 -0.136468  0.124463  0.038152 -0.113913  0.038430  \n",
      "7  -0.014261 -0.026953  0.059567 -0.173816 -0.002377 -0.004536  \n",
      "8  -0.012148 -0.003319  0.011659 -0.018965 -0.014045  0.001652  \n",
      "9   0.011406 -0.022275  0.011346 -0.084550  0.019234  0.004569  \n",
      "10  0.035678  0.115583  0.075966 -0.379855 -0.042028 -0.197683  \n",
      "11 -0.002379  0.288329  0.070058  0.105013 -0.193108 -0.031813  \n",
      "12  0.011429  0.055326  0.110824 -0.308673 -0.061155 -0.196273  \n",
      "13 -0.012554  0.180364  0.057520  0.071523 -0.147237 -0.027649  \n",
      "14  0.084803 -0.186849 -0.039410  0.198423  0.041182  0.331000  \n",
      "15  0.069671 -0.140172 -0.022402  0.248638  0.103304  0.343020  \n",
      "16  0.122089 -0.183788  0.211120 -0.294284 -0.158086 -0.097242  \n",
      "17  0.048430 -0.288004  0.059096  0.077080 -0.023594  0.144442  \n",
      "18  0.057283 -0.239760 -0.059941 -0.196107  0.166088  0.029167  \n",
      "19  0.039734  0.462397 -0.120067  0.223414 -0.187764  0.015060  \n",
      "20 -0.221453  0.185837 -0.147924  0.229571  0.223104 -0.007183  \n",
      "21 -0.006771 -0.036391 -0.125353  0.027877  0.215370  0.011044  \n",
      "22  0.014846  0.253653 -0.035998  0.100924 -0.022646  0.040607  \n",
      "23  0.053173 -0.003440  0.045106 -0.104068 -0.000813  0.007401  \n",
      "24 -0.070255 -0.046131  0.063648  0.014532 -0.120834 -0.004034  \n",
      "25 -0.031285 -0.033763  0.042423 -0.012386 -0.039225  0.013728  \n",
      "26  0.083222  0.012943  0.088901  0.009739 -0.225706 -0.078116  \n",
      "27  0.828084  0.306695 -0.064773 -0.120438  0.288410  0.054965  \n",
      "28  0.010388 -0.016639  0.010629 -0.079684  0.015866  0.003422  \n",
      "29 -0.234738  0.069206 -0.259197 -0.182157  0.443172 -0.103600  \n",
      "30  0.187121 -0.138458  0.243869  0.085712 -0.232524  0.141610  \n",
      "31  0.066094  0.112135  0.009622  0.139890 -0.309407 -0.063451  \n",
      "32  0.008548  0.019906  0.015788  0.041734 -0.070674 -0.014286  \n",
      "33  0.209567 -0.142850  0.031819  0.069706  0.120169  0.233627  \n",
      "\n",
      "[34 rows x 33 columns]\n"
     ]
    }
   ],
   "source": [
    "print(s)\n",
    "print(v) \n",
    "#v has a shape of (34,33). We have 33 principal components and each principal component is made up of \n",
    "#a weighted linear combination of the original 34 features. "
   ]
  },
  {
   "cell_type": "code",
   "execution_count": 36,
   "metadata": {},
   "outputs": [],
   "source": [
    "import seaborn as sns\n",
    "\n",
    "def component_makeup(v, features_list, component_num, n_weights):\n",
    "    \n",
    "    \"\"\"\n",
    "    Calculates the makeup of each principal component. Each principal component is a weighted linear combination\n",
    "    of the features of the dataset. \n",
    "    \n",
    "    Args\n",
    "    -------\n",
    "    v            : (dataframe) containing the PCA model v parameter.\n",
    "    features_list: (array/list) containing the features of the dataset on which PCA is performend.\n",
    "    component_num: (int) which principal component to make the makeup of.\n",
    "    n_weights    : (int) top n_weights will be plotted.\n",
    "    \n",
    "    Returns\n",
    "    -------\n",
    "    Barplot with makeup of the selected principal component\n",
    "    \"\"\"\n",
    "    \n",
    "    #Get the index of the principal componennt we want to examine. \n",
    "    row_idx = N_COMPONENTS - component_num\n",
    "\n",
    "    #Get the makeup of the principal component (eigenvector)\n",
    "    v_1_row = v.iloc[:, row_idx]\n",
    "    v_1 = np.squeeze(v_1_row.values) #v_1 is an array with shape (34,) and contains the makeup of the principal component\n",
    "\n",
    "    #Match the weights to features in the counties_scaled dataframe\n",
    "    comp_makeup = pd.DataFrame(list(zip(v_1, features_list)), columns = [\"weights\", \"features\"])\n",
    "\n",
    "    #Sort by the largest absolute weights. For this, we add a extra columns with the absolute weights\n",
    "    comp_makeup[\"abs_weights\"] = comp_makeup[\"weights\"].apply(lambda x: np.abs(x))\n",
    "    sorted_comp_makeup = comp_makeup.sort_values([\"abs_weights\"], ascending=False, ignore_index=True)\n",
    "\n",
    "    #Show only the top n_weights\n",
    "    sorted_comp_makeup = sorted_comp_makeup.head(n_weights)\n",
    "\n",
    "    #Plot the component makeup with seaborn\n",
    "    ax = plt.subplots(figsize=(10,6))\n",
    "    ax=sns.barplot(data=sorted_comp_makeup,\n",
    "                   x=\"weights\",\n",
    "                   y=\"features\")\n",
    "    ax.set_title(\"PCA Component makeup, Component #{}\".format(str(component_num)))\n",
    "    plt.show()"
   ]
  },
  {
   "cell_type": "code",
   "execution_count": 37,
   "metadata": {},
   "outputs": [
    {
     "data": {
      "image/png": "[encoded data removed]",
      "text/plain": [
       "<Figure size 720x432 with 1 Axes>"
      ]
     },
     "metadata": {
      "needs_background": "light"
     },
     "output_type": "display_data"
    }
   ],
   "source": [
    "component_makeup(v, features_list, 1, 10)"
   ]
  },
  {
   "cell_type": "markdown",
   "metadata": {},
   "source": [
    "From the above plot, we can see that the first principal component is a weighted linear combination of the different features. "
   ]
  },
  {
   "cell_type": "markdown",
   "metadata": {},
   "source": [
    "#### Deploy the PCA Model\n",
    "We will deploy the PCA Model. If a model has been deployed it means that SageMaker has created a virtual machine that contains our trained model that can be accessed at an endpoint (endpoint=url). "
   ]
  },
  {
   "cell_type": "code",
   "execution_count": 44,
   "metadata": {},
   "outputs": [
    {
     "name": "stderr",
     "output_type": "stream",
     "text": [
      "Parameter image will be renamed to image_uri in SageMaker Python SDK v2.\n",
      "Using already existing model: pca-2020-08-21-13-48-33-537\n"
     ]
    },
    {
     "name": "stdout",
     "output_type": "stream",
     "text": [
      "-----------------!CPU times: user 325 ms, sys: 13 ms, total: 338 ms\n",
      "Wall time: 8min 33s\n"
     ]
    }
   ],
   "source": [
    "%%time\n",
    "\n",
    "#Deplot the model\n",
    "pca_predictor = pca_SM.deploy(initial_instance_count=1,\n",
    "                             instance_type=\"ml.t2.medium\")"
   ]
  },
  {
   "cell_type": "markdown",
   "metadata": {},
   "source": [
    "Up untill here, we found 33 principal components. Each component carries with it some of the variance of the data. What we want to do now, is transform our data using this PCA model. What happens here is that each datapoint is mapped to the principal components space. We can use our model to transform the training data. "
   ]
  },
  {
   "cell_type": "code",
   "execution_count": 45,
   "metadata": {},
   "outputs": [],
   "source": [
    "train_pca = pca_predictor.predict(train_data_np)"
   ]
  },
  {
   "cell_type": "code",
   "execution_count": 46,
   "metadata": {},
   "outputs": [
    {
     "name": "stdout",
     "output_type": "stream",
     "text": [
      "Length of train_pca = 3218\n",
      "type of elements in train_pca: <class 'record_pb2.Record'>\n",
      "label {\n",
      "  key: \"projection\"\n",
      "  value {\n",
      "    float32_tensor {\n",
      "      values: 0.0002009272575378418\n",
      "      values: 0.0002455431967973709\n",
      "      values: -0.0005782842636108398\n",
      "      values: -0.0007815659046173096\n",
      "      values: -0.00041911262087523937\n",
      "      values: -0.0005133943632245064\n",
      "      values: -0.0011316537857055664\n",
      "      values: 0.0017268601804971695\n",
      "      values: -0.005361668765544891\n",
      "      values: -0.009066537022590637\n",
      "      values: -0.008141040802001953\n",
      "      values: -0.004735097289085388\n",
      "      values: -0.00716288760304451\n",
      "      values: 0.0003725700080394745\n",
      "      values: -0.01208949089050293\n",
      "      values: 0.02134685218334198\n",
      "      values: 0.0009293854236602783\n",
      "      values: 0.002417147159576416\n",
      "      values: -0.0034637749195098877\n",
      "      values: 0.01794189214706421\n",
      "      values: -0.01639425754547119\n",
      "      values: 0.06260128319263458\n",
      "      values: 0.06637358665466309\n",
      "      values: 0.002479255199432373\n",
      "      values: 0.10011336207389832\n",
      "      values: -0.1136140376329422\n",
      "      values: 0.02589476853609085\n",
      "      values: 0.04045158624649048\n",
      "      values: -0.01082391943782568\n",
      "      values: 0.1204797774553299\n",
      "      values: -0.0883558839559555\n",
      "      values: 0.16052711009979248\n",
      "      values: -0.06027412414550781\n",
      "    }\n",
      "  }\n",
      "}\n",
      "\n"
     ]
    }
   ],
   "source": [
    "#Check train_pca\n",
    "print(\"Length of train_pca = {}\".format(len(train_pca)))\n",
    "print(\"type of elements in train_pca: {}\".format(type(train_pca[0])))\n",
    "\n",
    "#Look at one element of the list\n",
    "print(train_pca[0])\n",
    "\n",
    "#Each datapoint has its representation in the Principal Component space. E.g. the output below shows the representation of\n",
    "#the first datapoint in the PC space. "
   ]
  },
  {
   "cell_type": "markdown",
   "metadata": {},
   "source": [
    "Now, lets create a function create_transformed_df to create dimensionality-reduced data"
   ]
  },
  {
   "cell_type": "code",
   "execution_count": 47,
   "metadata": {},
   "outputs": [],
   "source": [
    "def create_transformed_df(train_pca, counties_scaled, n_top_components):\n",
    "    \n",
    "    \"\"\" \n",
    "    Creates a dataframe of datapoints with the principal components as features.\n",
    "    \n",
    "    Args\n",
    "    -------\n",
    "    train_pca       : (list) contains pca training data returned by a pca model.\n",
    "    counties_scaled : (dataframe) dataframe of normalized, original features.\n",
    "    n_top_components: (int) the number of top principal components to use.\n",
    "    \n",
    "    Returns\n",
    "    -------\n",
    "    A dataframe, indexed by State-County, with n_top_component columns. This dataframe is in the principal component space. \n",
    "    \"\"\"\n",
    "    \n",
    "    #Create an empty dataframe\n",
    "    df = pd.DataFrame()\n",
    "    \n",
    "    #Create an idx variable to get only the n_top_components\n",
    "    idx = counties_scaled.shape[1] - n_top_components - 1\n",
    "    \n",
    "    #Add to the dataframe\n",
    "    for i in train_pca:\n",
    "        data_list = list(i.label[\"projection\"].float32_tensor.values)[idx:]\n",
    "        data = pd.DataFrame([data_list]) #the brackets around list ensures we add rows to dataframe\n",
    "        df = df.append(data)\n",
    "    \n",
    "    #Set the index of the dataframe\n",
    "    df.index = counties_scaled.index\n",
    "    \n",
    "    return df.iloc[:, ::-1] #Columns in reversed order, so top component will be first column"
   ]
  },
  {
   "cell_type": "code",
   "execution_count": 48,
   "metadata": {},
   "outputs": [
    {
     "data": {
      "text/html": [
       "<div>\n",
       "<style scoped>\n",
       "    .dataframe tbody tr th:only-of-type {\n",
       "        vertical-align: middle;\n",
       "    }\n",
       "\n",
       "    .dataframe tbody tr th {\n",
       "        vertical-align: top;\n",
       "    }\n",
       "\n",
       "    .dataframe thead th {\n",
       "        text-align: right;\n",
       "    }\n",
       "</style>\n",
       "<table border=\"1\" class=\"dataframe\">\n",
       "  <thead>\n",
       "    <tr style=\"text-align: right;\">\n",
       "      <th></th>\n",
       "      <th>c_1</th>\n",
       "      <th>c_2</th>\n",
       "      <th>c_3</th>\n",
       "      <th>c_4</th>\n",
       "      <th>c_5</th>\n",
       "      <th>c_6</th>\n",
       "      <th>c_7</th>\n",
       "    </tr>\n",
       "  </thead>\n",
       "  <tbody>\n",
       "    <tr>\n",
       "      <th>Alabama-Autauga</th>\n",
       "      <td>-0.060274</td>\n",
       "      <td>0.160527</td>\n",
       "      <td>-0.088356</td>\n",
       "      <td>0.120480</td>\n",
       "      <td>-0.010824</td>\n",
       "      <td>0.040452</td>\n",
       "      <td>0.025895</td>\n",
       "    </tr>\n",
       "    <tr>\n",
       "      <th>Alabama-Baldwin</th>\n",
       "      <td>-0.149684</td>\n",
       "      <td>0.185969</td>\n",
       "      <td>-0.145743</td>\n",
       "      <td>-0.023092</td>\n",
       "      <td>-0.068677</td>\n",
       "      <td>0.051573</td>\n",
       "      <td>0.048137</td>\n",
       "    </tr>\n",
       "    <tr>\n",
       "      <th>Alabama-Barbour</th>\n",
       "      <td>0.506202</td>\n",
       "      <td>0.296662</td>\n",
       "      <td>0.146258</td>\n",
       "      <td>0.297829</td>\n",
       "      <td>0.093111</td>\n",
       "      <td>-0.065244</td>\n",
       "      <td>0.107730</td>\n",
       "    </tr>\n",
       "    <tr>\n",
       "      <th>Alabama-Bibb</th>\n",
       "      <td>0.069224</td>\n",
       "      <td>0.190861</td>\n",
       "      <td>0.224402</td>\n",
       "      <td>0.011757</td>\n",
       "      <td>0.283526</td>\n",
       "      <td>0.017874</td>\n",
       "      <td>-0.092053</td>\n",
       "    </tr>\n",
       "    <tr>\n",
       "      <th>Alabama-Blount</th>\n",
       "      <td>-0.091030</td>\n",
       "      <td>0.254403</td>\n",
       "      <td>0.022714</td>\n",
       "      <td>-0.193824</td>\n",
       "      <td>0.100738</td>\n",
       "      <td>0.209945</td>\n",
       "      <td>-0.005099</td>\n",
       "    </tr>\n",
       "  </tbody>\n",
       "</table>\n",
       "</div>"
      ],
      "text/plain": [
       "                      c_1       c_2       c_3       c_4       c_5       c_6  \\\n",
       "Alabama-Autauga -0.060274  0.160527 -0.088356  0.120480 -0.010824  0.040452   \n",
       "Alabama-Baldwin -0.149684  0.185969 -0.145743 -0.023092 -0.068677  0.051573   \n",
       "Alabama-Barbour  0.506202  0.296662  0.146258  0.297829  0.093111 -0.065244   \n",
       "Alabama-Bibb     0.069224  0.190861  0.224402  0.011757  0.283526  0.017874   \n",
       "Alabama-Blount  -0.091030  0.254403  0.022714 -0.193824  0.100738  0.209945   \n",
       "\n",
       "                      c_7  \n",
       "Alabama-Autauga  0.025895  \n",
       "Alabama-Baldwin  0.048137  \n",
       "Alabama-Barbour  0.107730  \n",
       "Alabama-Bibb    -0.092053  \n",
       "Alabama-Blount  -0.005099  "
      ]
     },
     "execution_count": 48,
     "metadata": {},
     "output_type": "execute_result"
    }
   ],
   "source": [
    "#Create the transformed dataframe with top 7 components (this captured around 80% of the variance as we saw earlier)\n",
    "counties_transformed = create_transformed_df(train_pca, counties_scaled, 7)\n",
    "\n",
    "#Change the column names\n",
    "counties_transformed.columns = [\"c_1\", \"c_2\",\"c_3\",\"c_4\",\"c_5\",\"c_6\",\"c_7\"] #principal components 1,2,3,4,5,6,7\n",
    "\n",
    "#Look at the transformed dataset\n",
    "counties_transformed.head()"
   ]
  },
  {
   "cell_type": "markdown",
   "metadata": {},
   "source": [
    "At this point, we have transformed our data. We went from data with 34 features to more compact data with 7 features using Principal Component Analysis. The lower dimensional data is still able to capture about 80% of the variance of the original data. Now, we can delete our PCA endpoint. "
   ]
  },
  {
   "cell_type": "code",
   "execution_count": 49,
   "metadata": {},
   "outputs": [
    {
     "name": "stdout",
     "output_type": "stream",
     "text": [
      "Endpoint with name pca-2020-08-21-13-48-33-537 is deleted\n"
     ]
    }
   ],
   "source": [
    "#Delete the endpoint\n",
    "pca_predictor.delete_endpoint()\n",
    "print(\"Endpoint with name {} is deleted\".format(pca_predictor.endpoint))"
   ]
  },
  {
   "cell_type": "markdown",
   "metadata": {},
   "source": [
    "Now that we have our training code ready, we can save it locally. If it already exists, import it to the notebook. This point of the notebook works like a checkpoint, if all the PCA analysis is done, we can continue from here to cluster the data with K-means. "
   ]
  },
  {
   "cell_type": "code",
   "execution_count": 50,
   "metadata": {},
   "outputs": [
    {
     "name": "stdout",
     "output_type": "stream",
     "text": [
      "train_data_for_kmeans.csv is saved in this working directory\n"
     ]
    }
   ],
   "source": [
    "import os\n",
    "import pandas as pd\n",
    "\n",
    "kmeans_file = \"train_data_for_kmeans.csv\"\n",
    "\n",
    "#If the file exists, import it\n",
    "if os.path.isfile(kmeans_file):\n",
    "    counties_transformed = pd.read_csv(kmeans_file, header=None)\n",
    "    counties_transformed.columns = [\"c_1\", \"c_2\",\"c_3\",\"c_4\",\"c_5\",\"c_6\",\"c_7\"]\n",
    "    print(\"{} is imported as counties_transformed.\".format(kmeans_file))\n",
    "    print()\n",
    "    print(counties_transformed.head())\n",
    "\n",
    "#If the file doesn't exists, create it and save it in the working directory. \n",
    "else:\n",
    "    counties_transformed.to_csv(kmeans_file, header=False, index=False)\n",
    "    print(\"{} is saved in this working directory\".format(kmeans_file))"
   ]
  },
  {
   "cell_type": "markdown",
   "metadata": {},
   "source": [
    "### 4.2 Population Segmentation with K-means\n",
    "Now that our data is reduced from 34 dimensions to 7 dimensions, we are better prepared to actually cluster the data with K-means. First, create a K-means Estimator object.\n",
    "\n",
    "#### 4.2.1 K-means model with k=5"
   ]
  },
  {
   "cell_type": "code",
   "execution_count": 51,
   "metadata": {},
   "outputs": [],
   "source": [
    "from sagemaker import KMeans\n",
    "\n",
    "#Folder in S3 in which to store the training outputs\n",
    "prefix_kmeans = \"kmeans\"\n",
    "\n",
    "#Define K-means Estimator \n",
    "kmeans_estimator = KMeans(role=role,\n",
    "                         train_instance_count=1,\n",
    "                         train_instance_type=\"ml.c4.xlarge\",\n",
    "                         k=5,\n",
    "                         sagemaker_session=session,\n",
    "                         output_path=\"s3://{}/{}/\".format(bucket_name, prefix_kmeans))"
   ]
  },
  {
   "cell_type": "markdown",
   "metadata": {},
   "source": [
    "Convert the training data to RecordSet. The inbuilt SageMaker algorithms expect a RecordSet object as training data. "
   ]
  },
  {
   "cell_type": "code",
   "execution_count": 52,
   "metadata": {},
   "outputs": [],
   "source": [
    "#First, convert the dataframe to an array, because the function we will use to create a RecordSet expects an array as input\n",
    "counties_transformed_arr = np.array(counties_transformed, dtype=\"float32\")\n",
    "#Change the type of the arrays from float64 to float32. This is what the K-means Estimator expects. \n",
    "\n",
    "#Create the RecordSet object\n",
    "counties_transformed_rec = kmeans_estimator.record_set(counties_transformed_arr)"
   ]
  },
  {
   "cell_type": "markdown",
   "metadata": {},
   "source": [
    "Now, we can fit the model to the data."
   ]
  },
  {
   "cell_type": "code",
   "execution_count": 53,
   "metadata": {},
   "outputs": [
    {
     "name": "stderr",
     "output_type": "stream",
     "text": [
      "'get_image_uri' method will be deprecated in favor of 'ImageURIProvider' class in SageMaker Python SDK v2.\n",
      "'s3_input' class will be renamed to 'TrainingInput' in SageMaker Python SDK v2.\n",
      "'get_image_uri' method will be deprecated in favor of 'ImageURIProvider' class in SageMaker Python SDK v2.\n"
     ]
    },
    {
     "name": "stdout",
     "output_type": "stream",
     "text": [
      "2020-08-21 14:28:24 Starting - Starting the training job...\n",
      "2020-08-21 14:28:26 Starting - Launching requested ML instances......\n",
      "2020-08-21 14:29:49 Starting - Preparing the instances for training.........\n",
      "2020-08-21 14:31:23 Downloading - Downloading input data\n",
      "2020-08-21 14:31:23 Training - Downloading the training image...\n",
      "2020-08-21 14:31:48 Uploading - Uploading generated training model\n",
      "2020-08-21 14:31:48 Completed - Training job completed\n",
      "\u001b[34mDocker entrypoint called with argument(s): train\u001b[0m\n",
      "\u001b[34mRunning default environment configuration script\u001b[0m\n",
      "\u001b[34m[08/21/2020 14:31:40 INFO 139944806233920] Reading default configuration from /opt/amazon/lib/python2.7/site-packages/algorithm/resources/default-input.json: {u'_enable_profiler': u'false', u'_tuning_objective_metric': u'', u'_num_gpus': u'auto', u'local_lloyd_num_trials': u'auto', u'_log_level': u'info', u'_kvstore': u'auto', u'local_lloyd_init_method': u'kmeans++', u'force_dense': u'true', u'epochs': u'1', u'init_method': u'random', u'local_lloyd_tol': u'0.0001', u'local_lloyd_max_iter': u'300', u'_disable_wait_to_read': u'false', u'extra_center_factor': u'auto', u'eval_metrics': u'[\"msd\"]', u'_num_kv_servers': u'1', u'mini_batch_size': u'5000', u'half_life_time_size': u'0', u'_num_slices': u'1'}\u001b[0m\n",
      "\u001b[34m[08/21/2020 14:31:40 INFO 139944806233920] Reading provided configuration from /opt/ml/input/config/hyperparameters.json: {u'feature_dim': u'7', u'k': u'5', u'force_dense': u'True'}\u001b[0m\n",
      "\u001b[34m[08/21/2020 14:31:40 INFO 139944806233920] Final configuration: {u'_tuning_objective_metric': u'', u'extra_center_factor': u'auto', u'local_lloyd_init_method': u'kmeans++', u'force_dense': u'True', u'epochs': u'1', u'feature_dim': u'7', u'local_lloyd_tol': u'0.0001', u'_disable_wait_to_read': u'false', u'eval_metrics': u'[\"msd\"]', u'_num_kv_servers': u'1', u'mini_batch_size': u'5000', u'_enable_profiler': u'false', u'_num_gpus': u'auto', u'local_lloyd_num_trials': u'auto', u'_log_level': u'info', u'init_method': u'random', u'half_life_time_size': u'0', u'local_lloyd_max_iter': u'300', u'_kvstore': u'auto', u'k': u'5', u'_num_slices': u'1'}\u001b[0m\n",
      "\u001b[34m[08/21/2020 14:31:40 WARNING 139944806233920] Loggers have already been setup.\u001b[0m\n",
      "\u001b[34mProcess 1 is a worker.\u001b[0m\n",
      "\u001b[34m[08/21/2020 14:31:40 INFO 139944806233920] Using default worker.\u001b[0m\n",
      "\u001b[34m[08/21/2020 14:31:40 INFO 139944806233920] Loaded iterator creator application/x-recordio-protobuf for content type ('application/x-recordio-protobuf', '1.0')\u001b[0m\n",
      "\u001b[34m[08/21/2020 14:31:40 INFO 139944806233920] Create Store: local\u001b[0m\n",
      "\u001b[34m[08/21/2020 14:31:40 INFO 139944806233920] nvidia-smi took: 0.025221824646 secs to identify 0 gpus\u001b[0m\n",
      "\u001b[34m[08/21/2020 14:31:40 INFO 139944806233920] Number of GPUs being used: 0\u001b[0m\n",
      "\u001b[34m[08/21/2020 14:31:40 INFO 139944806233920] Setting up with params: {u'_tuning_objective_metric': u'', u'extra_center_factor': u'auto', u'local_lloyd_init_method': u'kmeans++', u'force_dense': u'True', u'epochs': u'1', u'feature_dim': u'7', u'local_lloyd_tol': u'0.0001', u'_disable_wait_to_read': u'false', u'eval_metrics': u'[\"msd\"]', u'_num_kv_servers': u'1', u'mini_batch_size': u'5000', u'_enable_profiler': u'false', u'_num_gpus': u'auto', u'local_lloyd_num_trials': u'auto', u'_log_level': u'info', u'init_method': u'random', u'half_life_time_size': u'0', u'local_lloyd_max_iter': u'300', u'_kvstore': u'auto', u'k': u'5', u'_num_slices': u'1'}\u001b[0m\n",
      "\u001b[34m[08/21/2020 14:31:40 INFO 139944806233920] 'extra_center_factor' was set to 'auto', evaluated to 10.\u001b[0m\n",
      "\u001b[34m[08/21/2020 14:31:40 INFO 139944806233920] Number of GPUs being used: 0\u001b[0m\n",
      "\u001b[34m[08/21/2020 14:31:40 INFO 139944806233920] number of center slices 1\u001b[0m\n",
      "\u001b[34m[08/21/2020 14:31:40 WARNING 139944806233920] Batch size 5000 is bigger than the first batch data. Effective batch size used to initialize is 3218\u001b[0m\n",
      "\u001b[34m#metrics {\"Metrics\": {\"Max Batches Seen Between Resets\": {\"count\": 1, \"max\": 1, \"sum\": 1.0, \"min\": 1}, \"Number of Batches Since Last Reset\": {\"count\": 1, \"max\": 1, \"sum\": 1.0, \"min\": 1}, \"Number of Records Since Last Reset\": {\"count\": 1, \"max\": 3218, \"sum\": 3218.0, \"min\": 3218}, \"Total Batches Seen\": {\"count\": 1, \"max\": 1, \"sum\": 1.0, \"min\": 1}, \"Total Records Seen\": {\"count\": 1, \"max\": 3218, \"sum\": 3218.0, \"min\": 3218}, \"Max Records Seen Between Resets\": {\"count\": 1, \"max\": 3218, \"sum\": 3218.0, \"min\": 3218}, \"Reset Count\": {\"count\": 1, \"max\": 0, \"sum\": 0.0, \"min\": 0}}, \"EndTime\": 1598020300.184659, \"Dimensions\": {\"Host\": \"algo-1\", \"Meta\": \"init_train_data_iter\", \"Operation\": \"training\", \"Algorithm\": \"AWS/KMeansWebscale\"}, \"StartTime\": 1598020300.184624}\n",
      "\u001b[0m\n",
      "\u001b[34m[2020-08-21 14:31:40.184] [tensorio] [info] epoch_stats={\"data_pipeline\": \"/opt/ml/input/data/train\", \"epoch\": 0, \"duration\": 36, \"num_examples\": 1, \"num_bytes\": 167336}\u001b[0m\n",
      "\u001b[34m[2020-08-21 14:31:40.242] [tensorio] [info] epoch_stats={\"data_pipeline\": \"/opt/ml/input/data/train\", \"epoch\": 1, \"duration\": 57, \"num_examples\": 1, \"num_bytes\": 167336}\u001b[0m\n",
      "\u001b[34m[08/21/2020 14:31:40 INFO 139944806233920] processed a total of 3218 examples\u001b[0m\n",
      "\u001b[34m[08/21/2020 14:31:40 INFO 139944806233920] #progress_metric: host=algo-1, completed 100 % of epochs\u001b[0m\n",
      "\u001b[34m#metrics {\"Metrics\": {\"Max Batches Seen Between Resets\": {\"count\": 1, \"max\": 1, \"sum\": 1.0, \"min\": 1}, \"Number of Batches Since Last Reset\": {\"count\": 1, \"max\": 1, \"sum\": 1.0, \"min\": 1}, \"Number of Records Since Last Reset\": {\"count\": 1, \"max\": 3218, \"sum\": 3218.0, \"min\": 3218}, \"Total Batches Seen\": {\"count\": 1, \"max\": 2, \"sum\": 2.0, \"min\": 2}, \"Total Records Seen\": {\"count\": 1, \"max\": 6436, \"sum\": 6436.0, \"min\": 6436}, \"Max Records Seen Between Resets\": {\"count\": 1, \"max\": 3218, \"sum\": 3218.0, \"min\": 3218}, \"Reset Count\": {\"count\": 1, \"max\": 1, \"sum\": 1.0, \"min\": 1}}, \"EndTime\": 1598020300.243112, \"Dimensions\": {\"Host\": \"algo-1\", \"Meta\": \"training_data_iter\", \"Operation\": \"training\", \"Algorithm\": \"AWS/KMeansWebscale\", \"epoch\": 0}, \"StartTime\": 1598020300.184953}\n",
      "\u001b[0m\n",
      "\u001b[34m[08/21/2020 14:31:40 INFO 139944806233920] #throughput_metric: host=algo-1, train throughput=55190.6928528 records/second\u001b[0m\n",
      "\u001b[34m[08/21/2020 14:31:40 WARNING 139944806233920] wait_for_all_workers will not sync workers since the kv store is not running distributed\u001b[0m\n",
      "\u001b[34m[08/21/2020 14:31:40 INFO 139944806233920] shrinking 50 centers into 5\u001b[0m\n",
      "\u001b[34m[08/21/2020 14:31:40 INFO 139944806233920] local kmeans attempt #0. Current mean square distance 0.104407\u001b[0m\n",
      "\u001b[34m[08/21/2020 14:31:40 INFO 139944806233920] local kmeans attempt #1. Current mean square distance 0.093358\u001b[0m\n",
      "\u001b[34m[08/21/2020 14:31:40 INFO 139944806233920] local kmeans attempt #2. Current mean square distance 0.087136\u001b[0m\n",
      "\u001b[34m[08/21/2020 14:31:40 INFO 139944806233920] local kmeans attempt #3. Current mean square distance 0.087653\u001b[0m\n",
      "\u001b[34m[08/21/2020 14:31:40 INFO 139944806233920] local kmeans attempt #4. Current mean square distance 0.088832\u001b[0m\n",
      "\u001b[34m[08/21/2020 14:31:40 INFO 139944806233920] local kmeans attempt #5. Current mean square distance 0.093806\u001b[0m\n",
      "\u001b[34m[08/21/2020 14:31:40 INFO 139944806233920] local kmeans attempt #6. Current mean square distance 0.088539\u001b[0m\n",
      "\u001b[34m[08/21/2020 14:31:40 INFO 139944806233920] local kmeans attempt #7. Current mean square distance 0.088428\u001b[0m\n",
      "\u001b[34m[08/21/2020 14:31:40 INFO 139944806233920] local kmeans attempt #8. Current mean square distance 0.098568\u001b[0m\n",
      "\u001b[34m[08/21/2020 14:31:40 INFO 139944806233920] local kmeans attempt #9. Current mean square distance 0.091652\u001b[0m\n",
      "\u001b[34m[08/21/2020 14:31:40 INFO 139944806233920] finished shrinking process. Mean Square Distance = 0\u001b[0m\n",
      "\u001b[34m[08/21/2020 14:31:40 INFO 139944806233920] #quality_metric: host=algo-1, train msd <loss>=0.087135784328\u001b[0m\n",
      "\u001b[34m[08/21/2020 14:31:40 INFO 139944806233920] compute all data-center distances: inner product took: 32.2853%, (0.020802 secs)\u001b[0m\n",
      "\u001b[34m[08/21/2020 14:31:40 INFO 139944806233920] collect from kv store took: 11.2879%, (0.007273 secs)\u001b[0m\n",
      "\u001b[34m[08/21/2020 14:31:40 INFO 139944806233920] gradient: cluster center took: 11.1747%, (0.007200 secs)\u001b[0m\n",
      "\u001b[34m[08/21/2020 14:31:40 INFO 139944806233920] splitting centers key-value pair took: 11.1470%, (0.007182 secs)\u001b[0m\n",
      "\u001b[34m[08/21/2020 14:31:40 INFO 139944806233920] compute all data-center distances: point norm took: 9.6709%, (0.006231 secs)\u001b[0m\n",
      "\u001b[34m[08/21/2020 14:31:40 INFO 139944806233920] gradient: one_hot took: 8.4479%, (0.005443 secs)\u001b[0m\n",
      "\u001b[34m[08/21/2020 14:31:40 INFO 139944806233920] batch data loading with context took: 6.7343%, (0.004339 secs)\u001b[0m\n",
      "\u001b[34m[08/21/2020 14:31:40 INFO 139944806233920] predict compute msd took: 6.2877%, (0.004051 secs)\u001b[0m\n",
      "\u001b[34m[08/21/2020 14:31:40 INFO 139944806233920] gradient: cluster size  took: 1.4217%, (0.000916 secs)\u001b[0m\n",
      "\u001b[34m[08/21/2020 14:31:40 INFO 139944806233920] update state and report convergance took: 0.8970%, (0.000578 secs)\u001b[0m\n",
      "\u001b[34m[08/21/2020 14:31:40 INFO 139944806233920] update set-up time took: 0.3445%, (0.000222 secs)\u001b[0m\n",
      "\u001b[34m[08/21/2020 14:31:40 INFO 139944806233920] compute all data-center distances: center norm took: 0.2561%, (0.000165 secs)\u001b[0m\n",
      "\u001b[34m[08/21/2020 14:31:40 INFO 139944806233920] predict minus dist took: 0.0451%, (0.000029 secs)\u001b[0m\n",
      "\u001b[34m[08/21/2020 14:31:40 INFO 139944806233920] TOTAL took: 0.0644311904907\u001b[0m\n",
      "\u001b[34m[08/21/2020 14:31:40 INFO 139944806233920] Number of GPUs being used: 0\u001b[0m\n",
      "\u001b[34m#metrics {\"Metrics\": {\"finalize.time\": {\"count\": 1, \"max\": 255.9528350830078, \"sum\": 255.9528350830078, \"min\": 255.9528350830078}, \"initialize.time\": {\"count\": 1, \"max\": 30.419111251831055, \"sum\": 30.419111251831055, \"min\": 30.419111251831055}, \"model.serialize.time\": {\"count\": 1, \"max\": 0.14781951904296875, \"sum\": 0.14781951904296875, \"min\": 0.14781951904296875}, \"update.time\": {\"count\": 1, \"max\": 57.96313285827637, \"sum\": 57.96313285827637, \"min\": 57.96313285827637}, \"epochs\": {\"count\": 1, \"max\": 1, \"sum\": 1.0, \"min\": 1}, \"state.serialize.time\": {\"count\": 1, \"max\": 1.9578933715820312, \"sum\": 1.9578933715820312, \"min\": 1.9578933715820312}, \"_shrink.time\": {\"count\": 1, \"max\": 254.00090217590332, \"sum\": 254.00090217590332, \"min\": 254.00090217590332}}, \"EndTime\": 1598020300.501675, \"Dimensions\": {\"Host\": \"algo-1\", \"Operation\": \"training\", \"Algorithm\": \"AWS/KMeansWebscale\"}, \"StartTime\": 1598020300.147653}\n",
      "\u001b[0m\n",
      "\u001b[34m[08/21/2020 14:31:40 INFO 139944806233920] Test data is not provided.\u001b[0m\n",
      "\u001b[34m#metrics {\"Metrics\": {\"totaltime\": {\"count\": 1, \"max\": 433.3670139312744, \"sum\": 433.3670139312744, \"min\": 433.3670139312744}, \"setuptime\": {\"count\": 1, \"max\": 16.256093978881836, \"sum\": 16.256093978881836, \"min\": 16.256093978881836}}, \"EndTime\": 1598020300.502059, \"Dimensions\": {\"Host\": \"algo-1\", \"Operation\": \"training\", \"Algorithm\": \"AWS/KMeansWebscale\"}, \"StartTime\": 1598020300.501773}\n",
      "\u001b[0m\n",
      "Training seconds: 38\n",
      "Billable seconds: 38\n",
      "CPU times: user 460 ms, sys: 36.4 ms, total: 496 ms\n",
      "Wall time: 3min 41s\n"
     ]
    }
   ],
   "source": [
    "%%time\n",
    "\n",
    "#Fit the model to the data\n",
    "kmeans_estimator.fit(counties_transformed_rec)"
   ]
  },
  {
   "cell_type": "markdown",
   "metadata": {},
   "source": [
    "As before, we deploy the model."
   ]
  },
  {
   "cell_type": "code",
   "execution_count": 54,
   "metadata": {},
   "outputs": [
    {
     "name": "stderr",
     "output_type": "stream",
     "text": [
      "Parameter image will be renamed to image_uri in SageMaker Python SDK v2.\n"
     ]
    },
    {
     "name": "stdout",
     "output_type": "stream",
     "text": [
      "-----------------!CPU times: user 306 ms, sys: 16.8 ms, total: 323 ms\n",
      "Wall time: 8min 32s\n"
     ]
    }
   ],
   "source": [
    "%%time\n",
    "\n",
    "#Deploy the model\n",
    "kmeans_predictor = kmeans_estimator.deploy(initial_instance_count=1,\n",
    "                                           instance_type=\"ml.t2.medium\")"
   ]
  },
  {
   "cell_type": "markdown",
   "metadata": {},
   "source": [
    "Our model is trained and deployed, lets pass in our training data to obtain the cluster labels for each datapoint."
   ]
  },
  {
   "cell_type": "code",
   "execution_count": 55,
   "metadata": {},
   "outputs": [],
   "source": [
    "cluster_info = kmeans_predictor.predict(counties_transformed_arr)"
   ]
  },
  {
   "cell_type": "markdown",
   "metadata": {},
   "source": [
    "Lets inspect the variable cluster_info."
   ]
  },
  {
   "cell_type": "code",
   "execution_count": 56,
   "metadata": {},
   "outputs": [
    {
     "name": "stdout",
     "output_type": "stream",
     "text": [
      "type(cluster_info) = <class 'list'>\n",
      "\n",
      "len(cluster_info) = 3218\n",
      "\n",
      "cluster_info[0] = \n",
      "label {\n",
      "  key: \"closest_cluster\"\n",
      "  value {\n",
      "    float32_tensor {\n",
      "      values: 0.0\n",
      "    }\n",
      "  }\n",
      "}\n",
      "label {\n",
      "  key: \"distance_to_cluster\"\n",
      "  value {\n",
      "    float32_tensor {\n",
      "      values: 0.2543531358242035\n",
      "    }\n",
      "  }\n",
      "}\n",
      "\n",
      "\n",
      "type(cluster_info[0]) = <class 'record_pb2.Record'>\n"
     ]
    }
   ],
   "source": [
    "#Lets look at the type\n",
    "print(\"type(cluster_info) = {}\".format(type(cluster_info)))\n",
    "\n",
    "#Lets print the length\n",
    "print(\"\\nlen(cluster_info) = {}\".format(len(cluster_info)))\n",
    "\n",
    "#Lets look at one element of cluster_info\n",
    "print(\"\\ncluster_info[0] = \\n{}\".format(cluster_info[0]))\n",
    "\n",
    "#Lets look at the type of the elements in cluster_info\n",
    "print(\"\\ntype(cluster_info[0]) = {}\".format(type(cluster_info[0])))"
   ]
  },
  {
   "cell_type": "markdown",
   "metadata": {},
   "source": [
    "We can see that we have a list of 3218 elements, which corresponds to our datapoints. Each element is a record-type containing the clusters for each datapoint and also the distance to the clusters of each datapoint (Euclidian distances). Lets create a DataFrame with the clusters and distance-to-cluster data. "
   ]
  },
  {
   "cell_type": "code",
   "execution_count": 57,
   "metadata": {},
   "outputs": [
    {
     "name": "stdout",
     "output_type": "stream",
     "text": [
      "0.0\n",
      "0.2543531358242035\n"
     ]
    }
   ],
   "source": [
    "#Lets see first how to parse the information out of the Record type object\n",
    "print(cluster_info[0].label[\"closest_cluster\"].float32_tensor.values[0])\n",
    "print(cluster_info[0].label[\"distance_to_cluster\"].float32_tensor.values[0])"
   ]
  },
  {
   "cell_type": "markdown",
   "metadata": {},
   "source": [
    "Create a function which makes a dataframe of the cluster_info data. Later, we can add these columns to the counties_transformed dataframe. "
   ]
  },
  {
   "cell_type": "code",
   "execution_count": 58,
   "metadata": {},
   "outputs": [],
   "source": [
    "def create_cluster_df(cluster_info, counties_transformed):\n",
    "    \n",
    "    \"\"\"\n",
    "    Creates a dataframe of the RecordSet object which is returned from the predict method.\n",
    "    \n",
    "    Args\n",
    "    -------\n",
    "    cluster_info        : (RecordSet object) Output of the predict method on the data.\n",
    "    counties_transformed: (dataframe) containing the training data for kmeans.\n",
    "    \n",
    "    Returns\n",
    "    -------\n",
    "    df: (dataframe) concatenation of counties_transformed and the cluster labels and distances of each datapoint to corresponding cluster centers. \n",
    "    \"\"\"\n",
    "    \n",
    "    #Loop over clusters for each datapoint\n",
    "    clusters = [i.label[\"closest_cluster\"].float32_tensor.values[0] for i in cluster_info]\n",
    "    \n",
    "    #Loop over distance_to_cluster for each datapoint\n",
    "    distance_to_clusters = [i.label[\"distance_to_cluster\"].float32_tensor.values[0] for i in cluster_info]\n",
    "    \n",
    "    #Create the dataframe\n",
    "    df = pd.DataFrame(list(zip(clusters, distance_to_clusters)), columns=[\"clusters\", \"distance_to_clusters\"])\n",
    "    \n",
    "    #Use counties_transformed to set the index\n",
    "    df.index = counties_transformed.index\n",
    "    \n",
    "    return df"
   ]
  },
  {
   "cell_type": "code",
   "execution_count": 59,
   "metadata": {},
   "outputs": [
    {
     "data": {
      "text/html": [
       "<div>\n",
       "<style scoped>\n",
       "    .dataframe tbody tr th:only-of-type {\n",
       "        vertical-align: middle;\n",
       "    }\n",
       "\n",
       "    .dataframe tbody tr th {\n",
       "        vertical-align: top;\n",
       "    }\n",
       "\n",
       "    .dataframe thead th {\n",
       "        text-align: right;\n",
       "    }\n",
       "</style>\n",
       "<table border=\"1\" class=\"dataframe\">\n",
       "  <thead>\n",
       "    <tr style=\"text-align: right;\">\n",
       "      <th></th>\n",
       "      <th>clusters</th>\n",
       "      <th>distance_to_clusters</th>\n",
       "    </tr>\n",
       "  </thead>\n",
       "  <tbody>\n",
       "    <tr>\n",
       "      <th>Alabama-Autauga</th>\n",
       "      <td>0.0</td>\n",
       "      <td>0.254353</td>\n",
       "    </tr>\n",
       "    <tr>\n",
       "      <th>Alabama-Baldwin</th>\n",
       "      <td>0.0</td>\n",
       "      <td>0.228943</td>\n",
       "    </tr>\n",
       "    <tr>\n",
       "      <th>Alabama-Barbour</th>\n",
       "      <td>3.0</td>\n",
       "      <td>0.174905</td>\n",
       "    </tr>\n",
       "    <tr>\n",
       "      <th>Alabama-Bibb</th>\n",
       "      <td>4.0</td>\n",
       "      <td>0.411677</td>\n",
       "    </tr>\n",
       "    <tr>\n",
       "      <th>Alabama-Blount</th>\n",
       "      <td>4.0</td>\n",
       "      <td>0.332199</td>\n",
       "    </tr>\n",
       "  </tbody>\n",
       "</table>\n",
       "</div>"
      ],
      "text/plain": [
       "                 clusters  distance_to_clusters\n",
       "Alabama-Autauga       0.0              0.254353\n",
       "Alabama-Baldwin       0.0              0.228943\n",
       "Alabama-Barbour       3.0              0.174905\n",
       "Alabama-Bibb          4.0              0.411677\n",
       "Alabama-Blount        4.0              0.332199"
      ]
     },
     "execution_count": 59,
     "metadata": {},
     "output_type": "execute_result"
    }
   ],
   "source": [
    "clusters_df = create_cluster_df(cluster_info, counties_transformed)\n",
    "clusters_df.head()"
   ]
  },
  {
   "cell_type": "markdown",
   "metadata": {},
   "source": [
    "#### Delete the endpoint\n",
    "We have the result from our K-means Estimator. We can delete the endpoint. "
   ]
  },
  {
   "cell_type": "code",
   "execution_count": 60,
   "metadata": {},
   "outputs": [
    {
     "name": "stdout",
     "output_type": "stream",
     "text": [
      "Endpoint with name kmeans-2020-08-21-14-28-24-048 is deleted\n"
     ]
    }
   ],
   "source": [
    "#Delete the endpoint\n",
    "kmeans_predictor.delete_endpoint()\n",
    "print(\"Endpoint with name {} is deleted\".format(kmeans_predictor.endpoint))"
   ]
  },
  {
   "cell_type": "markdown",
   "metadata": {},
   "source": [
    "We have two dataframes now, counties_transformed and clusters_df. Lets concatenate them. "
   ]
  },
  {
   "cell_type": "code",
   "execution_count": 61,
   "metadata": {},
   "outputs": [
    {
     "data": {
      "text/html": [
       "<div>\n",
       "<style scoped>\n",
       "    .dataframe tbody tr th:only-of-type {\n",
       "        vertical-align: middle;\n",
       "    }\n",
       "\n",
       "    .dataframe tbody tr th {\n",
       "        vertical-align: top;\n",
       "    }\n",
       "\n",
       "    .dataframe thead th {\n",
       "        text-align: right;\n",
       "    }\n",
       "</style>\n",
       "<table border=\"1\" class=\"dataframe\">\n",
       "  <thead>\n",
       "    <tr style=\"text-align: right;\">\n",
       "      <th></th>\n",
       "      <th>c_1</th>\n",
       "      <th>c_2</th>\n",
       "      <th>c_3</th>\n",
       "      <th>c_4</th>\n",
       "      <th>c_5</th>\n",
       "      <th>c_6</th>\n",
       "      <th>c_7</th>\n",
       "      <th>clusters</th>\n",
       "      <th>distance_to_clusters</th>\n",
       "    </tr>\n",
       "  </thead>\n",
       "  <tbody>\n",
       "    <tr>\n",
       "      <th>Alabama-Autauga</th>\n",
       "      <td>-0.060274</td>\n",
       "      <td>0.160527</td>\n",
       "      <td>-0.088356</td>\n",
       "      <td>0.120480</td>\n",
       "      <td>-0.010824</td>\n",
       "      <td>0.040452</td>\n",
       "      <td>0.025895</td>\n",
       "      <td>0.0</td>\n",
       "      <td>0.254353</td>\n",
       "    </tr>\n",
       "    <tr>\n",
       "      <th>Alabama-Baldwin</th>\n",
       "      <td>-0.149684</td>\n",
       "      <td>0.185969</td>\n",
       "      <td>-0.145743</td>\n",
       "      <td>-0.023092</td>\n",
       "      <td>-0.068677</td>\n",
       "      <td>0.051573</td>\n",
       "      <td>0.048137</td>\n",
       "      <td>0.0</td>\n",
       "      <td>0.228943</td>\n",
       "    </tr>\n",
       "    <tr>\n",
       "      <th>Alabama-Barbour</th>\n",
       "      <td>0.506202</td>\n",
       "      <td>0.296662</td>\n",
       "      <td>0.146258</td>\n",
       "      <td>0.297829</td>\n",
       "      <td>0.093111</td>\n",
       "      <td>-0.065244</td>\n",
       "      <td>0.107730</td>\n",
       "      <td>3.0</td>\n",
       "      <td>0.174905</td>\n",
       "    </tr>\n",
       "    <tr>\n",
       "      <th>Alabama-Bibb</th>\n",
       "      <td>0.069224</td>\n",
       "      <td>0.190861</td>\n",
       "      <td>0.224402</td>\n",
       "      <td>0.011757</td>\n",
       "      <td>0.283526</td>\n",
       "      <td>0.017874</td>\n",
       "      <td>-0.092053</td>\n",
       "      <td>4.0</td>\n",
       "      <td>0.411677</td>\n",
       "    </tr>\n",
       "    <tr>\n",
       "      <th>Alabama-Blount</th>\n",
       "      <td>-0.091030</td>\n",
       "      <td>0.254403</td>\n",
       "      <td>0.022714</td>\n",
       "      <td>-0.193824</td>\n",
       "      <td>0.100738</td>\n",
       "      <td>0.209945</td>\n",
       "      <td>-0.005099</td>\n",
       "      <td>4.0</td>\n",
       "      <td>0.332199</td>\n",
       "    </tr>\n",
       "  </tbody>\n",
       "</table>\n",
       "</div>"
      ],
      "text/plain": [
       "                      c_1       c_2       c_3       c_4       c_5       c_6  \\\n",
       "Alabama-Autauga -0.060274  0.160527 -0.088356  0.120480 -0.010824  0.040452   \n",
       "Alabama-Baldwin -0.149684  0.185969 -0.145743 -0.023092 -0.068677  0.051573   \n",
       "Alabama-Barbour  0.506202  0.296662  0.146258  0.297829  0.093111 -0.065244   \n",
       "Alabama-Bibb     0.069224  0.190861  0.224402  0.011757  0.283526  0.017874   \n",
       "Alabama-Blount  -0.091030  0.254403  0.022714 -0.193824  0.100738  0.209945   \n",
       "\n",
       "                      c_7  clusters  distance_to_clusters  \n",
       "Alabama-Autauga  0.025895       0.0              0.254353  \n",
       "Alabama-Baldwin  0.048137       0.0              0.228943  \n",
       "Alabama-Barbour  0.107730       3.0              0.174905  \n",
       "Alabama-Bibb    -0.092053       4.0              0.411677  \n",
       "Alabama-Blount  -0.005099       4.0              0.332199  "
      ]
     },
     "execution_count": 61,
     "metadata": {},
     "output_type": "execute_result"
    }
   ],
   "source": [
    "counties_kmeans = pd.concat([counties_transformed, clusters_df], axis=1)\n",
    "counties_kmeans.head()"
   ]
  },
  {
   "cell_type": "markdown",
   "metadata": {},
   "source": [
    "How many datapoints are in each cluster, lets find out."
   ]
  },
  {
   "cell_type": "code",
   "execution_count": 62,
   "metadata": {},
   "outputs": [
    {
     "data": {
      "text/plain": [
       "4.0    1500\n",
       "0.0     584\n",
       "1.0     559\n",
       "3.0     411\n",
       "2.0     164\n",
       "Name: clusters, dtype: int64"
      ]
     },
     "execution_count": 62,
     "metadata": {},
     "output_type": "execute_result"
    },
    {
     "data": {
      "image/png": "[encoded data removed]",
      "text/plain": [
       "<Figure size 864x432 with 1 Axes>"
      ]
     },
     "metadata": {
      "needs_background": "light"
     },
     "output_type": "display_data"
    }
   ],
   "source": [
    "import seaborn as sns\n",
    "\n",
    "#Visualize the amount of datapoints per cluster\n",
    "ax = plt.subplots(figsize=(12,6))\n",
    "ax = sns.countplot(data=counties_kmeans, x=\"clusters\")\n",
    "plt.plot()\n",
    "\n",
    "#Count the clusters\n",
    "count_clusters_df = counties_kmeans[\"clusters\"].value_counts()\n",
    "count_clusters_df.columns = [\"count of clusters\"]\n",
    "count_clusters_df\n"
   ]
  },
  {
   "cell_type": "markdown",
   "metadata": {},
   "source": [
    "From the figure above we can see that the data is not evenly clustered. This means that we probably chose a low value for the hyperparameter k. We will perform a hyperparameter tuning job and use both the elbow and silhouette method to find the optimal value for k. \n",
    "\n",
    "#### 4.2.2 Hyperparameter tuning K\n",
    "\n",
    "The first idea was to use the low level API (boto3) to create a hyperparameter tuning job. But from the SageMaker documentation, K is not a tunable parameter. Therefore, I will write a for loop to train different K-means models. "
   ]
  },
  {
   "cell_type": "code",
   "execution_count": 63,
   "metadata": {},
   "outputs": [],
   "source": [
    "#First we need to store the data that we will use for training in S3. \n",
    "#The data we used for training was counties_transformed. \n",
    "\n",
    "#counties_transformed was already saved in this working directory as \"train_data_for_kmeans.csv\"\n",
    "train_location = session.upload_data(\"train_data_for_kmeans.csv\", bucket=bucket_name, key_prefix=\"kmeans_train_data\")\n"
   ]
  },
  {
   "cell_type": "code",
   "execution_count": null,
   "metadata": {},
   "outputs": [
    {
     "name": "stderr",
     "output_type": "stream",
     "text": [
      "'get_image_uri' method will be deprecated in favor of 'ImageURIProvider' class in SageMaker Python SDK v2.\n"
     ]
    },
    {
     "name": "stdout",
     "output_type": "stream",
     "text": [
      "Starting training job with k=2\n",
      "Training artifacts will be uploaded to: s3://sagemaker-eu-central-1-513808683464/kmeans_tuning_job/output/kmeans-lowlevel2020-08-21-15-34-23\n",
      "InProgress\n"
     ]
    },
    {
     "name": "stderr",
     "output_type": "stream",
     "text": [
      "'get_image_uri' method will be deprecated in favor of 'ImageURIProvider' class in SageMaker Python SDK v2.\n"
     ]
    },
    {
     "name": "stdout",
     "output_type": "stream",
     "text": [
      "Training job ended with status Completed\n",
      "Starting training job with k=3\n",
      "Training artifacts will be uploaded to: s3://sagemaker-eu-central-1-513808683464/kmeans_tuning_job/output/kmeans-lowlevel2020-08-21-15-34-23\n",
      "InProgress\n"
     ]
    },
    {
     "name": "stderr",
     "output_type": "stream",
     "text": [
      "'get_image_uri' method will be deprecated in favor of 'ImageURIProvider' class in SageMaker Python SDK v2.\n"
     ]
    },
    {
     "name": "stdout",
     "output_type": "stream",
     "text": [
      "Training job ended with status Completed\n",
      "Starting training job with k=4\n",
      "Training artifacts will be uploaded to: s3://sagemaker-eu-central-1-513808683464/kmeans_tuning_job/output/kmeans-lowlevel2020-08-21-15-34-23\n",
      "InProgress\n"
     ]
    },
    {
     "name": "stderr",
     "output_type": "stream",
     "text": [
      "'get_image_uri' method will be deprecated in favor of 'ImageURIProvider' class in SageMaker Python SDK v2.\n"
     ]
    },
    {
     "name": "stdout",
     "output_type": "stream",
     "text": [
      "Training job ended with status Completed\n",
      "Starting training job with k=5\n",
      "Training artifacts will be uploaded to: s3://sagemaker-eu-central-1-513808683464/kmeans_tuning_job/output/kmeans-lowlevel2020-08-21-15-34-23\n",
      "InProgress\n"
     ]
    },
    {
     "name": "stderr",
     "output_type": "stream",
     "text": [
      "'get_image_uri' method will be deprecated in favor of 'ImageURIProvider' class in SageMaker Python SDK v2.\n"
     ]
    },
    {
     "name": "stdout",
     "output_type": "stream",
     "text": [
      "Training job ended with status Completed\n",
      "Starting training job with k=6\n",
      "Training artifacts will be uploaded to: s3://sagemaker-eu-central-1-513808683464/kmeans_tuning_job/output/kmeans-lowlevel2020-08-21-15-34-23\n",
      "InProgress\n"
     ]
    },
    {
     "name": "stderr",
     "output_type": "stream",
     "text": [
      "'get_image_uri' method will be deprecated in favor of 'ImageURIProvider' class in SageMaker Python SDK v2.\n"
     ]
    },
    {
     "name": "stdout",
     "output_type": "stream",
     "text": [
      "Training job ended with status Completed\n",
      "Starting training job with k=7\n",
      "Training artifacts will be uploaded to: s3://sagemaker-eu-central-1-513808683464/kmeans_tuning_job/output/kmeans-lowlevel2020-08-21-15-34-23\n",
      "InProgress\n"
     ]
    },
    {
     "name": "stderr",
     "output_type": "stream",
     "text": [
      "'get_image_uri' method will be deprecated in favor of 'ImageURIProvider' class in SageMaker Python SDK v2.\n"
     ]
    },
    {
     "name": "stdout",
     "output_type": "stream",
     "text": [
      "Training job ended with status Completed\n",
      "Starting training job with k=8\n",
      "Training artifacts will be uploaded to: s3://sagemaker-eu-central-1-513808683464/kmeans_tuning_job/output/kmeans-lowlevel2020-08-21-15-34-23\n",
      "InProgress\n"
     ]
    },
    {
     "name": "stderr",
     "output_type": "stream",
     "text": [
      "'get_image_uri' method will be deprecated in favor of 'ImageURIProvider' class in SageMaker Python SDK v2.\n"
     ]
    },
    {
     "name": "stdout",
     "output_type": "stream",
     "text": [
      "Training job ended with status Completed\n",
      "Starting training job with k=9\n",
      "Training artifacts will be uploaded to: s3://sagemaker-eu-central-1-513808683464/kmeans_tuning_job/output/kmeans-lowlevel2020-08-21-15-34-23\n",
      "InProgress\n"
     ]
    },
    {
     "name": "stderr",
     "output_type": "stream",
     "text": [
      "'get_image_uri' method will be deprecated in favor of 'ImageURIProvider' class in SageMaker Python SDK v2.\n"
     ]
    },
    {
     "name": "stdout",
     "output_type": "stream",
     "text": [
      "Training job ended with status Completed\n",
      "Starting training job with k=10\n",
      "Training artifacts will be uploaded to: s3://sagemaker-eu-central-1-513808683464/kmeans_tuning_job/output/kmeans-lowlevel2020-08-21-15-34-23\n",
      "InProgress\n",
      "Training job ended with status Completed\n"
     ]
    }
   ],
   "source": [
    "#The hyperparameter K is not tunable with A Hyperparamer Tuning Job. We will tune this model by training a \n",
    "#few models with a for loop. Using the help of the blogpost below.\n",
    "#https://aws.amazon.com/blogs/machine-learning/k-means-clustering-with-amazon-sagemaker/\n",
    "#Import the required libraries\n",
    "from time import strftime\n",
    "from datetime import datetime\n",
    "from sagemaker.amazon.amazon_estimator import get_image_uri\n",
    "\n",
    "#Range of hyperparameter K\n",
    "K = range(2,11)\n",
    "\n",
    "#Define the time to set a unique name for our training job\n",
    "now = datetime.now()\n",
    "output_time = now.strftime(\"%Y-%m-%d-%H-%M-%S\")\n",
    "\n",
    "#Set some training job parameters\n",
    "INSTANCE_COUNT = 1\n",
    "run_parallel_jobs = False\n",
    "output_folder = \"kmeans-lowlevel\" + output_time\n",
    "\n",
    "#Make a list to store the job names\n",
    "job_names = []\n",
    "\n",
    "#Start the for loop \n",
    "for k in K:\n",
    "    \n",
    "    print(\"Starting training job with k=\" + str(k))\n",
    "    \n",
    "    #Place to store the model artifacts in S3\n",
    "    output_location = \"s3://{}/kmeans_tuning_job/output/{}\".format(bucket_name, output_folder)\n",
    "    \n",
    "    print(\"Training artifacts will be uploaded to: {}\".format(output_location))\n",
    "    \n",
    "    #The name of the job. This is unique for all training jobs\n",
    "    job_name = output_folder + \"k\" + str(k)\n",
    "    \n",
    "    #Set all training job parameters\n",
    "    training_parameters = {}\n",
    "\n",
    "    training_parameters[\"TrainingJobName\"] = job_name\n",
    "\n",
    "    training_parameters[\"HyperParameters\"] = {\"k\": str(k), \"feature_dim\": \"7\"}\n",
    "    \n",
    "    training_parameters[\"RoleArn\"] = role\n",
    "\n",
    "    training_parameters[\"AlgorithmSpecification\"] = {\"TrainingImage\": get_image_uri(session.boto_region_name, \"kmeans\"),\n",
    "                                                     \"TrainingInputMode\": \"File\"}\n",
    "    training_parameters[\"ResourceConfig\"] = {\n",
    "                \"InstanceType\": \"ml.c4.xlarge\",\n",
    "                \"InstanceCount\": 1,\n",
    "                \"VolumeSizeInGB\": 50\n",
    "                }\n",
    "\n",
    "    training_parameters[\"InputDataConfig\"] = [{\n",
    "\n",
    "                \"ChannelName\": \"train\",\n",
    "\n",
    "                \"DataSource\": {\n",
    "                    \"S3DataSource\": {\n",
    "                        \"S3DataType\": \"S3Prefix\",\n",
    "                        \"S3Uri\": train_location,\n",
    "                        \"S3DataDistributionType\": \"FullyReplicated\"\n",
    "                    }\n",
    "                },\n",
    "\n",
    "                \"ContentType\": \"text/csv;label_size=0\",\n",
    "                \"CompressionType\": \"None\"\n",
    "            }]\n",
    "\n",
    "    training_parameters[\"OutputDataConfig\"] = {\n",
    "\n",
    "                \"S3OutputPath\": output_location\n",
    "            }\n",
    "\n",
    "    training_parameters[\"StoppingCondition\"] = {\n",
    "\n",
    "                \"MaxRuntimeInSeconds\": 60 * 60 \n",
    "            }\n",
    "    \n",
    "    #Start the training job\n",
    "    session.sagemaker_client.create_training_job(**training_parameters)\n",
    "    \n",
    "    #Check the status of the training job\n",
    "    status = session.sagemaker_client.describe_training_job(TrainingJobName=job_name)[\"TrainingJobStatus\"]\n",
    "    print(status)\n",
    "    \n",
    "    #Add a waiter, to wait for the training jobs to complete before proceeding with the code\n",
    "    if not run_parallel_jobs:\n",
    "        try:\n",
    "            session.sagemaker_client.get_waiter(\"training_job_completed_or_stopped\").wait(TrainingJobName=job_name)\n",
    "        finally: #The finally block, if specified, will be executed regardless if the try block raises an error or not.\n",
    "            status = session.sagemaker_client.describe_training_job(TrainingJobName=job_name)[\"TrainingJobStatus\"]\n",
    "            print(\"Training job ended with status {}\".format(status))\n",
    "            \n",
    "            #If the training job fails, get the error message and stop the program with an exception\n",
    "            if status == \"Failed\":\n",
    "                message = session.sagemaker_client.describe_training_job(TrainingJobName=job_name)[\"FailureReason\"]\n",
    "                print(\"Training job failed with the following error: \\n{}\".format(message))\n",
    "                raise Exception(\"Training job failed\")\n",
    "    \n",
    "    #Append the job name to a list\n",
    "    job_names.append(job_name)\n",
    "                                                                                  "
   ]
  },
  {
   "cell_type": "markdown",
   "metadata": {},
   "source": [
    "##### Note on Waiters:\n",
    "\n",
    "A number of requests in AWS using boto3 are not instant. Common examples of boto3 requests are deploying a new server or RDS instance. For some long running requests, we are ok to initiate the request and then check for completion at some later time. But in many cases, we want to wait for the request to complete before we move on to the subsequent parts of the script that may rely on a long running process to have been completed. \n",
    "\n",
    "(https://www.2ndwatch.com/blog/use-waiters-boto3-write/)"
   ]
  },
  {
   "cell_type": "markdown",
   "metadata": {},
   "source": [
    "Lets see some of the model attributes for k=10. Again, a model.tar.gz file is created for every training job in which the model artifacts are stored. "
   ]
  },
  {
   "cell_type": "code",
   "execution_count": 70,
   "metadata": {},
   "outputs": [
    {
     "name": "stdout",
     "output_type": "stream",
     "text": [
      "kmeans_tuning_job/output/kmeans-lowlevel2020-08-21-15-34-23/kmeans-lowlevel2020-08-21-15-34-23k10/output/model.tar.gz\n"
     ]
    },
    {
     "data": {
      "text/plain": [
       "2304"
      ]
     },
     "execution_count": 70,
     "metadata": {},
     "output_type": "execute_result"
    }
   ],
   "source": [
    "#Continue from here with job names extracted from S3, so that we don't have to run the training jobs again\n",
    "job_names = session.list_s3_files(bucket=bucket_name, key_prefix=\"kmeans_tuning_job/output/kmeans-lowlevel2020-08-21-15-34-23\") #If ran again, this name changes because of the timestamp used. \n",
    "print(job_names[0])\n",
    "\n",
    "\n",
    "#Extract model attributes for k=10 which is at job_names[0] by first downloading the model artifacts\n",
    "session.download_data(path=os.getcwd(), bucket=bucket_name, key_prefix=job_names[0]) #The model is saved in the working directory as model.tar.gz\n",
    "\n",
    "#Unzip the model files\n",
    "os.system(\"tar -zxvf model.tar.gz\") #Return a file called model_algo-1 in the working directory\n",
    "os.system(\"unzip model_algo-1\") #unzip the model_algo-1 file, which is a serialized Apache MXNet object"
   ]
  },
  {
   "cell_type": "code",
   "execution_count": 71,
   "metadata": {},
   "outputs": [
    {
     "data": {
      "text/html": [
       "<div>\n",
       "<style scoped>\n",
       "    .dataframe tbody tr th:only-of-type {\n",
       "        vertical-align: middle;\n",
       "    }\n",
       "\n",
       "    .dataframe tbody tr th {\n",
       "        vertical-align: top;\n",
       "    }\n",
       "\n",
       "    .dataframe thead th {\n",
       "        text-align: right;\n",
       "    }\n",
       "</style>\n",
       "<table border=\"1\" class=\"dataframe\">\n",
       "  <thead>\n",
       "    <tr style=\"text-align: right;\">\n",
       "      <th></th>\n",
       "      <th>0</th>\n",
       "      <th>1</th>\n",
       "      <th>2</th>\n",
       "      <th>3</th>\n",
       "      <th>4</th>\n",
       "      <th>5</th>\n",
       "      <th>6</th>\n",
       "    </tr>\n",
       "  </thead>\n",
       "  <tbody>\n",
       "    <tr>\n",
       "      <th>0</th>\n",
       "      <td>0.445345</td>\n",
       "      <td>0.264957</td>\n",
       "      <td>0.090921</td>\n",
       "      <td>0.314283</td>\n",
       "      <td>0.098158</td>\n",
       "      <td>-0.081464</td>\n",
       "      <td>0.043802</td>\n",
       "    </tr>\n",
       "    <tr>\n",
       "      <th>1</th>\n",
       "      <td>-0.222936</td>\n",
       "      <td>0.011169</td>\n",
       "      <td>-0.010715</td>\n",
       "      <td>-0.050437</td>\n",
       "      <td>-0.033151</td>\n",
       "      <td>-0.026727</td>\n",
       "      <td>-0.005344</td>\n",
       "    </tr>\n",
       "    <tr>\n",
       "      <th>2</th>\n",
       "      <td>1.235274</td>\n",
       "      <td>-0.238009</td>\n",
       "      <td>-0.198334</td>\n",
       "      <td>-0.406169</td>\n",
       "      <td>-0.088117</td>\n",
       "      <td>0.094525</td>\n",
       "      <td>0.128143</td>\n",
       "    </tr>\n",
       "    <tr>\n",
       "      <th>3</th>\n",
       "      <td>-0.262765</td>\n",
       "      <td>-0.446216</td>\n",
       "      <td>0.098176</td>\n",
       "      <td>0.120398</td>\n",
       "      <td>0.058127</td>\n",
       "      <td>-0.006205</td>\n",
       "      <td>0.107199</td>\n",
       "    </tr>\n",
       "    <tr>\n",
       "      <th>4</th>\n",
       "      <td>0.412507</td>\n",
       "      <td>-0.473528</td>\n",
       "      <td>0.123244</td>\n",
       "      <td>0.276057</td>\n",
       "      <td>-0.237998</td>\n",
       "      <td>0.032375</td>\n",
       "      <td>-0.219940</td>\n",
       "    </tr>\n",
       "    <tr>\n",
       "      <th>5</th>\n",
       "      <td>0.131584</td>\n",
       "      <td>0.058238</td>\n",
       "      <td>0.088543</td>\n",
       "      <td>0.070982</td>\n",
       "      <td>0.033205</td>\n",
       "      <td>0.035305</td>\n",
       "      <td>-0.012479</td>\n",
       "    </tr>\n",
       "    <tr>\n",
       "      <th>6</th>\n",
       "      <td>0.300139</td>\n",
       "      <td>-0.226364</td>\n",
       "      <td>-0.089888</td>\n",
       "      <td>-0.203609</td>\n",
       "      <td>0.177989</td>\n",
       "      <td>-0.139562</td>\n",
       "      <td>-0.062443</td>\n",
       "    </tr>\n",
       "    <tr>\n",
       "      <th>7</th>\n",
       "      <td>-0.216059</td>\n",
       "      <td>-0.008706</td>\n",
       "      <td>-0.488760</td>\n",
       "      <td>0.123918</td>\n",
       "      <td>-0.013529</td>\n",
       "      <td>0.106144</td>\n",
       "      <td>-0.022106</td>\n",
       "    </tr>\n",
       "    <tr>\n",
       "      <th>8</th>\n",
       "      <td>-0.073651</td>\n",
       "      <td>0.145301</td>\n",
       "      <td>0.170523</td>\n",
       "      <td>-0.103118</td>\n",
       "      <td>-0.028352</td>\n",
       "      <td>0.055767</td>\n",
       "      <td>-0.015613</td>\n",
       "    </tr>\n",
       "    <tr>\n",
       "      <th>9</th>\n",
       "      <td>0.058493</td>\n",
       "      <td>0.105750</td>\n",
       "      <td>-0.257428</td>\n",
       "      <td>0.080292</td>\n",
       "      <td>-0.022160</td>\n",
       "      <td>0.021542</td>\n",
       "      <td>0.000688</td>\n",
       "    </tr>\n",
       "  </tbody>\n",
       "</table>\n",
       "</div>"
      ],
      "text/plain": [
       "          0         1         2         3         4         5         6\n",
       "0  0.445345  0.264957  0.090921  0.314283  0.098158 -0.081464  0.043802\n",
       "1 -0.222936  0.011169 -0.010715 -0.050437 -0.033151 -0.026727 -0.005344\n",
       "2  1.235274 -0.238009 -0.198334 -0.406169 -0.088117  0.094525  0.128143\n",
       "3 -0.262765 -0.446216  0.098176  0.120398  0.058127 -0.006205  0.107199\n",
       "4  0.412507 -0.473528  0.123244  0.276057 -0.237998  0.032375 -0.219940\n",
       "5  0.131584  0.058238  0.088543  0.070982  0.033205  0.035305 -0.012479\n",
       "6  0.300139 -0.226364 -0.089888 -0.203609  0.177989 -0.139562 -0.062443\n",
       "7 -0.216059 -0.008706 -0.488760  0.123918 -0.013529  0.106144 -0.022106\n",
       "8 -0.073651  0.145301  0.170523 -0.103118 -0.028352  0.055767 -0.015613\n",
       "9  0.058493  0.105750 -0.257428  0.080292 -0.022160  0.021542  0.000688"
      ]
     },
     "execution_count": 71,
     "metadata": {},
     "output_type": "execute_result"
    }
   ],
   "source": [
    "#Extract the information from the model_algo-1 file\n",
    "import mxnet as mx\n",
    "\n",
    "#Load the data\n",
    "kmeans_model_params = mx.ndarray.load(\"model_algo-1\")\n",
    "#print(kmeans_model_params)\n",
    "\n",
    "#Put the data in a DataFrame\n",
    "kmeans_model_params_df = pd.DataFrame(kmeans_model_params[0].asnumpy())\n",
    "\n",
    "kmeans_model_params_df\n",
    "\n",
    "#The rows of kmeans_model_params_df correspond to the cluster centroids and the features are the component space created with PCA earlier. \n"
   ]
  },
  {
   "cell_type": "markdown",
   "metadata": {},
   "source": [
    "Above we can see the location of the resulting 10 cluster centroids (because k=10). These cluster centroids are in the PCA transformed component space which has 7 dimensions as we saw before. \n",
    "\n",
    "Now we need to find the best value for K, using the elbow and silhouette method. We could use a Batch Transform job for each trained model and obtain to which cluster each datapoint belongs and the distance to that cluster. With this information we could plot the elbow and silhouette graph. But that is a very heavy job considering we have 9 models trained. That is why we will use Sklearn and some basic distance operations using cdist of the scipy.spatial.distance library to determine to which cluster each datapoint belongs and what the distance is. \n",
    "\n",
    "In the current working directory there is a file called utils. We will use the function plot_elbow_silhouette(). \n",
    "\n",
    "We will use a for loop to import the model artifacts files for each K and store the inertias and silhouette scores. "
   ]
  },
  {
   "cell_type": "code",
   "execution_count": 72,
   "metadata": {},
   "outputs": [
    {
     "name": "stdout",
     "output_type": "stream",
     "text": [
      "Jobname = \n",
      "kmeans_tuning_job/output/kmeans-lowlevel2020-08-21-15-34-23/kmeans-lowlevel2020-08-21-15-34-23k10/output/model.tar.gz\n",
      "\n",
      "Input data shape: (3218, 7)\n",
      "\n",
      "Cluster centers data shape: (10, 7)\n",
      "\n",
      "K = 10\n",
      "\n",
      "distance = \n",
      "[[0.60275806 0.29999133 1.46495157 ... 0.46890422 0.34596167 0.22006348]\n",
      " [0.75873727 0.25525354 1.50200012 ... 0.4387825  0.34579014 0.27973497]\n",
      " [0.11143143 0.88841978 1.22088584 ... 1.05166894 0.75172941 0.69242519]\n",
      " ...\n",
      " [1.40855183 1.76189812 0.32673134 ... 1.86606767 1.6391196  1.57841288]\n",
      " [1.37982321 1.73066861 0.2601483  ... 1.81084998 1.6094468  1.52636218]\n",
      " [1.36202247 1.69674913 0.19895276 ... 1.76311115 1.5894019  1.48341739]]\n",
      "\n",
      "min_distance = \n",
      "[0.22006348 0.25525354 0.11143143 ... 0.32673134 0.2601483  0.19895276]\n",
      "\n",
      "Inertia = 314.41769888455497\n",
      "\n",
      "Clusters = \n",
      "[9 1 0 ... 2 2 2]\n",
      "\n",
      "For k = 10 , The average silhouette_score is : 0.18907399475574493\n",
      "\n",
      "----------------------------------------------------------------------------------------------\n",
      "\n",
      "Jobname = \n",
      "kmeans_tuning_job/output/kmeans-lowlevel2020-08-21-15-34-23/kmeans-lowlevel2020-08-21-15-34-23k2/output/model.tar.gz\n",
      "\n",
      "Input data shape: (3218, 7)\n",
      "\n",
      "Cluster centers data shape: (2, 7)\n",
      "\n",
      "K = 2\n",
      "\n",
      "distance = \n",
      "[[0.5497424  0.26146309]\n",
      " [0.6641468  0.26712069]\n",
      " [0.40740042 0.81359636]\n",
      " ...\n",
      " [1.18900938 1.68233457]\n",
      " [1.15503336 1.65366384]\n",
      " [1.13134161 1.62337753]]\n",
      "\n",
      "min_distance = \n",
      "[0.26146309 0.26712069 0.40740042 ... 1.18900938 1.15503336 1.13134161]\n",
      "\n",
      "Inertia = 717.0964499464866\n",
      "\n",
      "Clusters = \n",
      "[1 1 0 ... 0 0 0]\n",
      "\n",
      "For k = 2 , The average silhouette_score is : 0.34929487109184265\n",
      "\n",
      "----------------------------------------------------------------------------------------------\n",
      "\n",
      "Jobname = \n",
      "kmeans_tuning_job/output/kmeans-lowlevel2020-08-21-15-34-23/kmeans-lowlevel2020-08-21-15-34-23k3/output/model.tar.gz\n",
      "\n",
      "Input data shape: (3218, 7)\n",
      "\n",
      "Cluster centers data shape: (3, 7)\n",
      "\n",
      "K = 3\n",
      "\n",
      "distance = \n",
      "[[0.50566872 0.20640863 0.65293588]\n",
      " [0.56347246 0.19064997 0.78233793]\n",
      " [0.85796324 0.7845729  0.26730326]\n",
      " ...\n",
      " [1.55585046 1.67380519 1.163978  ]\n",
      " [1.547244   1.63817101 1.13555391]\n",
      " [1.52187358 1.60634909 1.11937951]]\n",
      "\n",
      "min_distance = \n",
      "[0.20640863 0.19064997 0.26730326 ... 1.163978   1.13555391 1.11937951]\n",
      "\n",
      "Inertia = 647.8807059335684\n",
      "\n",
      "Clusters = \n",
      "[1 1 2 ... 2 2 2]\n",
      "\n",
      "For k = 3 , The average silhouette_score is : 0.23927637934684753\n",
      "\n",
      "----------------------------------------------------------------------------------------------\n",
      "\n",
      "Jobname = \n",
      "kmeans_tuning_job/output/kmeans-lowlevel2020-08-21-15-34-23/kmeans-lowlevel2020-08-21-15-34-23k4/output/model.tar.gz\n",
      "\n",
      "Input data shape: (3218, 7)\n",
      "\n",
      "Cluster centers data shape: (4, 7)\n",
      "\n",
      "K = 4\n",
      "\n",
      "distance = \n",
      "[[0.27189872 0.66420039 0.5399375  0.35470757]\n",
      " [0.26048169 0.72350754 0.65952497 0.32090033]\n",
      " [0.79821343 1.02899643 0.38309772 0.94462546]\n",
      " ...\n",
      " [1.67441756 1.73855041 1.20382638 1.77444909]\n",
      " [1.64399056 1.74180999 1.1762451  1.72131221]\n",
      " [1.61382449 1.72180159 1.15709731 1.67671193]]\n",
      "\n",
      "min_distance = \n",
      "[0.27189872 0.26048169 0.38309772 ... 1.20382638 1.1762451  1.15709731]\n",
      "\n",
      "Inertia = 577.1922713573499\n",
      "\n",
      "Clusters = \n",
      "[0 0 2 ... 2 2 2]\n",
      "\n",
      "For k = 4 , The average silhouette_score is : 0.23228728771209717\n",
      "\n",
      "----------------------------------------------------------------------------------------------\n",
      "\n",
      "Jobname = \n",
      "kmeans_tuning_job/output/kmeans-lowlevel2020-08-21-15-34-23/kmeans-lowlevel2020-08-21-15-34-23k5/output/model.tar.gz\n",
      "\n",
      "Input data shape: (3218, 7)\n",
      "\n",
      "Cluster centers data shape: (5, 7)\n",
      "\n",
      "K = 5\n",
      "\n",
      "distance = \n",
      "[[1.52215196 0.20659132 0.47487752 0.50455443 0.68853124]\n",
      " [1.55945171 0.17896115 0.62775373 0.53957223 0.75813542]\n",
      " [1.26240634 0.7933549  0.21523226 0.9608375  0.77655074]\n",
      " ...\n",
      " [0.27545205 1.6861069  1.41639991 1.74626355 1.20154026]\n",
      " [0.1995748  1.64900423 1.38651675 1.73846462 1.18529448]\n",
      " [0.13307353 1.61705502 1.3661405  1.714253   1.1573132 ]]\n",
      "\n",
      "min_distance = \n",
      "[0.20659132 0.17896115 0.21523226 ... 0.27545205 0.1995748  0.13307353]\n",
      "\n",
      "Inertia = 464.88559681378325\n",
      "\n",
      "Clusters = \n",
      "[1 1 2 ... 0 0 0]\n",
      "\n",
      "For k = 5 , The average silhouette_score is : 0.24967221915721893\n",
      "\n",
      "----------------------------------------------------------------------------------------------\n",
      "\n",
      "Jobname = \n",
      "kmeans_tuning_job/output/kmeans-lowlevel2020-08-21-15-34-23/kmeans-lowlevel2020-08-21-15-34-23k6/output/model.tar.gz\n",
      "\n",
      "Input data shape: (3218, 7)\n",
      "\n",
      "Cluster centers data shape: (6, 7)\n",
      "\n",
      "K = 6\n",
      "\n",
      "distance = \n",
      "[[0.48321513 0.31125054 0.66464102 1.45222117 0.56946967 0.20756234]\n",
      " [0.63916287 0.31727441 0.73525343 1.48968018 0.60393702 0.16024652]\n",
      " [0.21200746 0.75745156 0.76321368 1.21145964 1.01479832 0.84744397]\n",
      " ...\n",
      " [1.42030907 1.63848812 1.21416748 0.33411874 1.78574033 1.73482767]\n",
      " [1.39202874 1.60920014 1.19390831 0.27671001 1.78201275 1.69323589]\n",
      " [1.37433517 1.58711066 1.16743491 0.21726759 1.75735015 1.65296019]]\n",
      "\n",
      "min_distance = \n",
      "[0.20756234 0.16024652 0.21200746 ... 0.33411874 0.27671001 0.21726759]\n",
      "\n",
      "Inertia = 404.98567374810125\n",
      "\n",
      "Clusters = \n",
      "[5 5 0 ... 3 3 3]\n",
      "\n",
      "For k = 6 , The average silhouette_score is : 0.22302879393100739\n",
      "\n",
      "----------------------------------------------------------------------------------------------\n",
      "\n",
      "Jobname = \n",
      "kmeans_tuning_job/output/kmeans-lowlevel2020-08-21-15-34-23/kmeans-lowlevel2020-08-21-15-34-23k7/output/model.tar.gz\n",
      "\n",
      "Input data shape: (3218, 7)\n",
      "\n",
      "Cluster centers data shape: (7, 7)\n",
      "\n",
      "K = 7\n",
      "\n",
      "distance = \n",
      "[[0.28159063 0.47191234 0.70066421 ... 0.27602837 1.54405506 0.96581872]\n",
      " [0.27191458 0.62730622 0.74528852 ... 0.26094638 1.58030336 1.08048528]\n",
      " [0.86627584 0.22063358 0.80877338 ... 0.79359809 1.2814675  0.92814213]\n",
      " ...\n",
      " [1.71665759 1.42596813 1.22079727 ... 1.67834169 0.26433246 1.31183538]\n",
      " [1.66521247 1.39728274 1.20441856 ... 1.64665774 0.18686141 1.301795  ]\n",
      " [1.61959506 1.37910029 1.17058709 ... 1.61898861 0.11777432 1.30037095]]\n",
      "\n",
      "min_distance = \n",
      "[0.27602837 0.26094638 0.22063358 ... 0.26433246 0.18686141 0.11777432]\n",
      "\n",
      "Inertia = 371.8111006649859\n",
      "\n",
      "Clusters = \n",
      "[4 4 1 ... 5 5 5]\n",
      "\n",
      "For k = 7 , The average silhouette_score is : 0.275064617395401\n",
      "\n",
      "----------------------------------------------------------------------------------------------\n",
      "\n",
      "Jobname = \n",
      "kmeans_tuning_job/output/kmeans-lowlevel2020-08-21-15-34-23/kmeans-lowlevel2020-08-21-15-34-23k8/output/model.tar.gz\n",
      "\n",
      "Input data shape: (3218, 7)\n",
      "\n",
      "Cluster centers data shape: (8, 7)\n",
      "\n",
      "K = 8\n",
      "\n",
      "distance = \n",
      "[[0.257338   0.76203803 0.51389528 ... 0.35534017 0.33656258 0.64173141]\n",
      " [0.2767982  0.80518155 0.67002623 ... 0.31284519 0.29571254 0.6846488 ]\n",
      " [0.72842678 0.81722901 0.17536501 ... 0.92048052 0.93005142 1.04905489]\n",
      " ...\n",
      " [1.61985742 1.13854317 1.42986862 ... 1.78554996 1.75647433 1.78058351]\n",
      " [1.58745585 1.12376427 1.40029196 ... 1.75871369 1.70282489 1.78339216]\n",
      " [1.5633944  1.0924686  1.38046645 ... 1.7233959  1.65618939 1.76117655]]\n",
      "\n",
      "min_distance = \n",
      "[0.257338   0.2767982  0.17536501 ... 0.25915055 0.18620995 0.120335  ]\n",
      "\n",
      "Inertia = 346.304459348991\n",
      "\n",
      "Clusters = \n",
      "[0 0 2 ... 4 4 4]\n",
      "\n",
      "For k = 8 , The average silhouette_score is : 0.19670630991458893\n",
      "\n",
      "----------------------------------------------------------------------------------------------\n",
      "\n",
      "Jobname = \n",
      "kmeans_tuning_job/output/kmeans-lowlevel2020-08-21-15-34-23/kmeans-lowlevel2020-08-21-15-34-23k9/output/model.tar.gz\n",
      "\n",
      "Input data shape: (3218, 7)\n",
      "\n",
      "Cluster centers data shape: (9, 7)\n",
      "\n",
      "K = 9\n",
      "\n",
      "distance = \n",
      "[[0.55625477 0.30348452 1.42557135 ... 0.59281418 0.28474832 0.28756735]\n",
      " [0.60089845 0.26013314 1.46498465 ... 0.62395636 0.43474927 0.2420595 ]\n",
      " [0.75765967 0.91775497 1.18963451 ... 1.03147057 0.41057891 0.85029906]\n",
      " ...\n",
      " [1.32318299 1.7742079  0.35314793 ... 1.7923716  1.49388439 1.73791708]\n",
      " [1.30057762 1.72150125 0.30193373 ... 1.79159745 1.46039953 1.70517033]\n",
      " [1.26936242 1.67557616 0.25096246 ... 1.76648728 1.43466375 1.67240159]]\n",
      "\n",
      "min_distance = \n",
      "[0.28474832 0.2420595  0.11222572 ... 0.35314793 0.30193373 0.25096246]\n",
      "\n",
      "Inertia = 325.4387906195981\n",
      "\n",
      "Clusters = \n",
      "[7 8 5 ... 2 2 2]\n",
      "\n",
      "For k = 9 , The average silhouette_score is : 0.19868703186511993\n",
      "\n",
      "----------------------------------------------------------------------------------------------\n",
      "\n"
     ]
    }
   ],
   "source": [
    "from utils import inertia_silhouette_score\n",
    "\n",
    "#print(job_names) #job_names corresponding K values: [10, 2, 3, 4, 5, 6, 7, 8, 9]\n",
    "\n",
    "#Set the values of K\n",
    "K = [10, 2, 3, 4, 5, 6, 7, 8, 9]\n",
    "\n",
    "#Initialize list\n",
    "inertias = []\n",
    "silhouette_scores = []\n",
    "\n",
    "for i in range(9):\n",
    "    \n",
    "    #Get the job name\n",
    "    job_name = job_names[i]\n",
    "    print(\"Jobname = \\n{}\".format(job_name))\n",
    "    \n",
    "    #Extract model attributes for the specific job by first downloading the model artifacts\n",
    "    session.download_data(path=\".\", bucket=bucket_name, key_prefix=job_name) #The model is saved in the working directory as model.tar.gz\n",
    "\n",
    "    #Unzip the model files\n",
    "    os.system(\"tar -zxvf model.tar.gz\") #Return a file called model_algo-1 in the working directory\n",
    "    os.system(\"unzip model_algo-1\") #unzip the model_algo-1 file, which is a serialized Apache MXNet object\n",
    "    \n",
    "    #Load the data\n",
    "    cluster_centers = mx.ndarray.load(\"model_algo-1\")\n",
    "    \n",
    "    #Convert the data to a numpy array\n",
    "    cluster_centers = np.array(cluster_centers[0].asnumpy())\n",
    "    \n",
    "    #Check the shapes of the data\n",
    "    print(\"\\nInput data shape: {}\".format(counties_transformed.shape))\n",
    "    print(\"\\nCluster centers data shape: {}\".format(cluster_centers.shape))\n",
    "\n",
    "    #Calculate the inertia and silhouette scores\n",
    "    inertia, silhouette = inertia_silhouette_score(X=counties_transformed_arr, K=K[i], cluster_centers=cluster_centers)\n",
    "    \n",
    "    #Append the score to lists\n",
    "    inertias.append(inertia)\n",
    "    silhouette_scores.append(silhouette)\n",
    "    "
   ]
  },
  {
   "cell_type": "markdown",
   "metadata": {},
   "source": [
    "Lets plot the elbow and silhouette graph now that we got the list of inertias and silhouette scores for different K's. "
   ]
  },
  {
   "cell_type": "code",
   "execution_count": 73,
   "metadata": {},
   "outputs": [
    {
     "name": "stdout",
     "output_type": "stream",
     "text": [
      "[(2, 3, 4, 5, 6, 7, 8, 9, 10), (0.34929487, 0.23927638, 0.23228729, 0.24967222, 0.2230288, 0.27506462, 0.19670631, 0.19868703, 0.189074), (717.0964499464866, 647.8807059335684, 577.1922713573499, 464.88559681378325, 404.98567374810125, 371.8111006649859, 346.304459348991, 325.4387906195981, 314.41769888455497)]\n"
     ]
    },
    {
     "data": {
      "image/png": "[encoded data removed]",
      "text/plain": [
       "<Figure size 432x288 with 1 Axes>"
      ]
     },
     "metadata": {
      "needs_background": "light"
     },
     "output_type": "display_data"
    },
    {
     "data": {
      "image/png": "[encoded data removed]",
      "text/plain": [
       "<Figure size 432x288 with 1 Axes>"
      ]
     },
     "metadata": {
      "needs_background": "light"
     },
     "output_type": "display_data"
    }
   ],
   "source": [
    "#Lets first order our K values. \n",
    "data = list(zip(K, silhouette_scores, inertias))\n",
    "data = sorted(data)\n",
    "data = list(zip(*data))\n",
    "print(data)\n",
    "\n",
    "#Extract the different lists for K, inertias and silhouette scores\n",
    "K = list(data[0])\n",
    "silhouette_scores=list(data[1])\n",
    "inertias = list(data[2])\n",
    "\n",
    "#Plot the silhouette graph\n",
    "plt.plot(K, silhouette_scores, \"bx-\")\n",
    "plt.title(\"Silhouette graph\")\n",
    "plt.xlabel(\"K\")\n",
    "plt.ylabel(\"Silhouette score\")\n",
    "plt.show()\n",
    "\n",
    "plt.plot(K, inertias, \"bx-\")\n",
    "plt.title(\"Elbow graph\")\n",
    "plt.xlabel(\"K\")\n",
    "plt.ylabel(\"Inertia\")\n",
    "plt.show()\n",
    "\n"
   ]
  },
  {
   "cell_type": "markdown",
   "metadata": {},
   "source": [
    "The results are a bit weird. The elbow graph doesn't really have an elbow and the silhouette graph goes up and down. This maybe means that k-means isn't the best algorithm to use for this data. The underlying assumptions of K-means probably don't held up in this case. K-means works best with isotropic gaussian data. Let see how the 7 dimensional input data looks like. The input data was counties_transformed.  "
   ]
  },
  {
   "cell_type": "code",
   "execution_count": 80,
   "metadata": {},
   "outputs": [
    {
     "data": {
      "image/png": "[encoded data removed]",
      "text/plain": [
       "<Figure size 432x288 with 1 Axes>"
      ]
     },
     "metadata": {
      "needs_background": "light"
     },
     "output_type": "display_data"
    },
    {
     "data": {
      "image/png": "[encoded data removed]",
      "text/plain": [
       "<Figure size 432x288 with 1 Axes>"
      ]
     },
     "metadata": {
      "needs_background": "light"
     },
     "output_type": "display_data"
    },
    {
     "data": {
      "image/png": "[encoded data removed]",
      "text/plain": [
       "<Figure size 432x288 with 1 Axes>"
      ]
     },
     "metadata": {
      "needs_background": "light"
     },
     "output_type": "display_data"
    },
    {
     "data": {
      "image/png": "[encoded data removed]",
      "text/plain": [
       "<Figure size 432x288 with 1 Axes>"
      ]
     },
     "metadata": {
      "needs_background": "light"
     },
     "output_type": "display_data"
    },
    {
     "data": {
      "image/png": "[encoded data removed]",
      "text/plain": [
       "<Figure size 432x288 with 1 Axes>"
      ]
     },
     "metadata": {
      "needs_background": "light"
     },
     "output_type": "display_data"
    },
    {
     "data": {
      "image/png": "[encoded data removed]",
      "text/plain": [
       "<Figure size 432x288 with 1 Axes>"
      ]
     },
     "metadata": {
      "needs_background": "light"
     },
     "output_type": "display_data"
    },
    {
     "data": {
      "image/png": "[encoded data removed]",
      "text/plain": [
       "<Figure size 432x288 with 1 Axes>"
      ]
     },
     "metadata": {
      "needs_background": "light"
     },
     "output_type": "display_data"
    }
   ],
   "source": [
    "import seaborn as sns\n",
    "for i in list(counties_transformed.columns): \n",
    "    sns.distplot(counties_transformed[i])\n",
    "    plt.show()"
   ]
  },
  {
   "cell_type": "markdown",
   "metadata": {},
   "source": [
    "We can see that the data has a Gaussian distribution. Some assumptions of K-means are:\n",
    "- The data should have a Gaussian Distribution\n",
    "- The data should be isotropic (circular, spherical or hyperspherical)\n",
    "- The clusters should all have even sizes\n",
    "\n",
    "For now, I will stick with k=7, as this has a low inertia and high silhouette score. Lets create a model with the k=7 model attributes so that we can make inference on the dataset, this will gives us the cluster assignments for each datapoint. "
   ]
  },
  {
   "cell_type": "code",
   "execution_count": 85,
   "metadata": {},
   "outputs": [
    {
     "name": "stderr",
     "output_type": "stream",
     "text": [
      "Parameter image will be renamed to image_uri in SageMaker Python SDK v2.\n"
     ]
    },
    {
     "name": "stdout",
     "output_type": "stream",
     "text": [
      "kmeans_tuning_job/output/kmeans-lowlevel2020-08-21-15-34-23/kmeans-lowlevel2020-08-21-15-34-23k7/output/model.tar.gz\n"
     ]
    }
   ],
   "source": [
    "#Name of the job with k=7\n",
    "job_name = job_names[6]\n",
    "print(job_name)\n",
    "\n",
    "#Create the model\n",
    "from sagemaker import KMeansModel\n",
    "kmeans_7 = KMeansModel(model_data=\"s3://{}/{}\".format(bucket_name, job_name),\n",
    "                       role=role,\n",
    "                       sagemaker_session=session)"
   ]
  },
  {
   "cell_type": "markdown",
   "metadata": {},
   "source": [
    "Deploy the k-means model to make predictions."
   ]
  },
  {
   "cell_type": "code",
   "execution_count": 86,
   "metadata": {},
   "outputs": [
    {
     "name": "stdout",
     "output_type": "stream",
     "text": [
      "-----------------!CPU times: user 286 ms, sys: 20.2 ms, total: 306 ms\n",
      "Wall time: 8min 32s\n"
     ]
    }
   ],
   "source": [
    "%%time\n",
    "\n",
    "#Deploy the model\n",
    "kmeans_7_predictor = kmeans_7.deploy(initial_instance_count=1,\n",
    "                                     instance_type=\"ml.t2.medium\")"
   ]
  },
  {
   "cell_type": "markdown",
   "metadata": {},
   "source": [
    "Now we can make predictions on our counties_transformed data."
   ]
  },
  {
   "cell_type": "code",
   "execution_count": 90,
   "metadata": {},
   "outputs": [],
   "source": [
    "pred = kmeans_7_predictor.predict(counties_transformed_arr)"
   ]
  },
  {
   "cell_type": "markdown",
   "metadata": {},
   "source": [
    "As before we need to parse the information from the result of the predict function. We did this earlier with the create_cluster_df function. Lets do it again. "
   ]
  },
  {
   "cell_type": "code",
   "execution_count": 95,
   "metadata": {},
   "outputs": [
    {
     "data": {
      "text/html": [
       "<div>\n",
       "<style scoped>\n",
       "    .dataframe tbody tr th:only-of-type {\n",
       "        vertical-align: middle;\n",
       "    }\n",
       "\n",
       "    .dataframe tbody tr th {\n",
       "        vertical-align: top;\n",
       "    }\n",
       "\n",
       "    .dataframe thead th {\n",
       "        text-align: right;\n",
       "    }\n",
       "</style>\n",
       "<table border=\"1\" class=\"dataframe\">\n",
       "  <thead>\n",
       "    <tr style=\"text-align: right;\">\n",
       "      <th></th>\n",
       "      <th>clusters</th>\n",
       "      <th>distance_to_clusters</th>\n",
       "    </tr>\n",
       "  </thead>\n",
       "  <tbody>\n",
       "    <tr>\n",
       "      <th>Alabama-Autauga</th>\n",
       "      <td>4.0</td>\n",
       "      <td>0.276028</td>\n",
       "    </tr>\n",
       "    <tr>\n",
       "      <th>Alabama-Baldwin</th>\n",
       "      <td>4.0</td>\n",
       "      <td>0.260946</td>\n",
       "    </tr>\n",
       "    <tr>\n",
       "      <th>Alabama-Barbour</th>\n",
       "      <td>1.0</td>\n",
       "      <td>0.220634</td>\n",
       "    </tr>\n",
       "    <tr>\n",
       "      <th>Alabama-Bibb</th>\n",
       "      <td>4.0</td>\n",
       "      <td>0.436597</td>\n",
       "    </tr>\n",
       "    <tr>\n",
       "      <th>Alabama-Blount</th>\n",
       "      <td>4.0</td>\n",
       "      <td>0.330038</td>\n",
       "    </tr>\n",
       "  </tbody>\n",
       "</table>\n",
       "</div>"
      ],
      "text/plain": [
       "                 clusters  distance_to_clusters\n",
       "Alabama-Autauga       4.0              0.276028\n",
       "Alabama-Baldwin       4.0              0.260946\n",
       "Alabama-Barbour       1.0              0.220634\n",
       "Alabama-Bibb          4.0              0.436597\n",
       "Alabama-Blount        4.0              0.330038"
      ]
     },
     "execution_count": 95,
     "metadata": {},
     "output_type": "execute_result"
    }
   ],
   "source": [
    "counties_kmeans = create_cluster_df(pred, counties_transformed)\n",
    "counties_kmeans.head()"
   ]
  },
  {
   "cell_type": "markdown",
   "metadata": {},
   "source": [
    "Plot the cluster data: "
   ]
  },
  {
   "cell_type": "code",
   "execution_count": 96,
   "metadata": {},
   "outputs": [
    {
     "data": {
      "text/plain": [
       "4.0    1536\n",
       "0.0     457\n",
       "3.0     434\n",
       "1.0     432\n",
       "2.0     208\n",
       "5.0      91\n",
       "6.0      60\n",
       "Name: clusters, dtype: int64"
      ]
     },
     "execution_count": 96,
     "metadata": {},
     "output_type": "execute_result"
    },
    {
     "data": {
      "image/png": "[encoded data removed]",
      "text/plain": [
       "<Figure size 864x432 with 1 Axes>"
      ]
     },
     "metadata": {
      "needs_background": "light"
     },
     "output_type": "display_data"
    }
   ],
   "source": [
    "#Visualize the amount of datapoints per cluster\n",
    "ax = plt.subplots(figsize=(12,6))\n",
    "ax = sns.countplot(data=counties_kmeans, x=\"clusters\")\n",
    "plt.plot()\n",
    "\n",
    "#Count the clusters\n",
    "count_clusters_df = counties_kmeans[\"clusters\"].value_counts()\n",
    "count_clusters_df.columns = [\"count of clusters\"]\n",
    "count_clusters_df"
   ]
  },
  {
   "cell_type": "markdown",
   "metadata": {},
   "source": [
    "Again, we see that a lot of datapoints belong to the same cluster, which could be because of the K-means algorithm and its assumptions. \n",
    "\n",
    "Now we know which counties belong to the same cluster. These counties have some similarities. Lets see which counties are in the same cluster."
   ]
  },
  {
   "cell_type": "code",
   "execution_count": 98,
   "metadata": {},
   "outputs": [
    {
     "data": {
      "text/html": [
       "<div>\n",
       "<style scoped>\n",
       "    .dataframe tbody tr th:only-of-type {\n",
       "        vertical-align: middle;\n",
       "    }\n",
       "\n",
       "    .dataframe tbody tr th {\n",
       "        vertical-align: top;\n",
       "    }\n",
       "\n",
       "    .dataframe thead th {\n",
       "        text-align: right;\n",
       "    }\n",
       "</style>\n",
       "<table border=\"1\" class=\"dataframe\">\n",
       "  <thead>\n",
       "    <tr style=\"text-align: right;\">\n",
       "      <th></th>\n",
       "      <th>clusters</th>\n",
       "      <th>distance_to_clusters</th>\n",
       "    </tr>\n",
       "  </thead>\n",
       "  <tbody>\n",
       "    <tr>\n",
       "      <th>Alabama-Elmore</th>\n",
       "      <td>0.0</td>\n",
       "      <td>0.301107</td>\n",
       "    </tr>\n",
       "    <tr>\n",
       "      <th>Alabama-Lee</th>\n",
       "      <td>0.0</td>\n",
       "      <td>0.350816</td>\n",
       "    </tr>\n",
       "    <tr>\n",
       "      <th>Alabama-Madison</th>\n",
       "      <td>0.0</td>\n",
       "      <td>0.255404</td>\n",
       "    </tr>\n",
       "    <tr>\n",
       "      <th>Alabama-Shelby</th>\n",
       "      <td>0.0</td>\n",
       "      <td>0.253417</td>\n",
       "    </tr>\n",
       "    <tr>\n",
       "      <th>Alaska-Anchorage Municipality</th>\n",
       "      <td>0.0</td>\n",
       "      <td>0.298365</td>\n",
       "    </tr>\n",
       "    <tr>\n",
       "      <th>...</th>\n",
       "      <td>...</td>\n",
       "      <td>...</td>\n",
       "    </tr>\n",
       "    <tr>\n",
       "      <th>Wisconsin-St. Croix</th>\n",
       "      <td>0.0</td>\n",
       "      <td>0.379673</td>\n",
       "    </tr>\n",
       "    <tr>\n",
       "      <th>Wisconsin-Washington</th>\n",
       "      <td>0.0</td>\n",
       "      <td>0.445425</td>\n",
       "    </tr>\n",
       "    <tr>\n",
       "      <th>Wisconsin-Waukesha</th>\n",
       "      <td>0.0</td>\n",
       "      <td>0.448990</td>\n",
       "    </tr>\n",
       "    <tr>\n",
       "      <th>Wyoming-Laramie</th>\n",
       "      <td>0.0</td>\n",
       "      <td>0.324123</td>\n",
       "    </tr>\n",
       "    <tr>\n",
       "      <th>Wyoming-Teton</th>\n",
       "      <td>0.0</td>\n",
       "      <td>0.497805</td>\n",
       "    </tr>\n",
       "  </tbody>\n",
       "</table>\n",
       "<p>457 rows × 2 columns</p>\n",
       "</div>"
      ],
      "text/plain": [
       "                               clusters  distance_to_clusters\n",
       "Alabama-Elmore                      0.0              0.301107\n",
       "Alabama-Lee                         0.0              0.350816\n",
       "Alabama-Madison                     0.0              0.255404\n",
       "Alabama-Shelby                      0.0              0.253417\n",
       "Alaska-Anchorage Municipality       0.0              0.298365\n",
       "...                                 ...                   ...\n",
       "Wisconsin-St. Croix                 0.0              0.379673\n",
       "Wisconsin-Washington                0.0              0.445425\n",
       "Wisconsin-Waukesha                  0.0              0.448990\n",
       "Wyoming-Laramie                     0.0              0.324123\n",
       "Wyoming-Teton                       0.0              0.497805\n",
       "\n",
       "[457 rows x 2 columns]"
      ]
     },
     "execution_count": 98,
     "metadata": {},
     "output_type": "execute_result"
    }
   ],
   "source": [
    "#Cluster 0\n",
    "counties_kmeans[counties_kmeans[\"clusters\"] == 0]"
   ]
  },
  {
   "cell_type": "code",
   "execution_count": 99,
   "metadata": {},
   "outputs": [
    {
     "data": {
      "text/html": [
       "<div>\n",
       "<style scoped>\n",
       "    .dataframe tbody tr th:only-of-type {\n",
       "        vertical-align: middle;\n",
       "    }\n",
       "\n",
       "    .dataframe tbody tr th {\n",
       "        vertical-align: top;\n",
       "    }\n",
       "\n",
       "    .dataframe thead th {\n",
       "        text-align: right;\n",
       "    }\n",
       "</style>\n",
       "<table border=\"1\" class=\"dataframe\">\n",
       "  <thead>\n",
       "    <tr style=\"text-align: right;\">\n",
       "      <th></th>\n",
       "      <th>clusters</th>\n",
       "      <th>distance_to_clusters</th>\n",
       "    </tr>\n",
       "  </thead>\n",
       "  <tbody>\n",
       "    <tr>\n",
       "      <th>Alabama-Barbour</th>\n",
       "      <td>1.0</td>\n",
       "      <td>0.220634</td>\n",
       "    </tr>\n",
       "    <tr>\n",
       "      <th>Alabama-Bullock</th>\n",
       "      <td>1.0</td>\n",
       "      <td>0.625193</td>\n",
       "    </tr>\n",
       "    <tr>\n",
       "      <th>Alabama-Butler</th>\n",
       "      <td>1.0</td>\n",
       "      <td>0.163451</td>\n",
       "    </tr>\n",
       "    <tr>\n",
       "      <th>Alabama-Calhoun</th>\n",
       "      <td>1.0</td>\n",
       "      <td>0.315917</td>\n",
       "    </tr>\n",
       "    <tr>\n",
       "      <th>Alabama-Chambers</th>\n",
       "      <td>1.0</td>\n",
       "      <td>0.305626</td>\n",
       "    </tr>\n",
       "    <tr>\n",
       "      <th>...</th>\n",
       "      <td>...</td>\n",
       "      <td>...</td>\n",
       "    </tr>\n",
       "    <tr>\n",
       "      <th>Virginia-Portsmouth city</th>\n",
       "      <td>1.0</td>\n",
       "      <td>0.298388</td>\n",
       "    </tr>\n",
       "    <tr>\n",
       "      <th>Virginia-Richmond city</th>\n",
       "      <td>1.0</td>\n",
       "      <td>0.404026</td>\n",
       "    </tr>\n",
       "    <tr>\n",
       "      <th>Virginia-Roanoke city</th>\n",
       "      <td>1.0</td>\n",
       "      <td>0.354695</td>\n",
       "    </tr>\n",
       "    <tr>\n",
       "      <th>West Virginia-McDowell</th>\n",
       "      <td>1.0</td>\n",
       "      <td>0.610363</td>\n",
       "    </tr>\n",
       "    <tr>\n",
       "      <th>Wisconsin-Milwaukee</th>\n",
       "      <td>1.0</td>\n",
       "      <td>0.431350</td>\n",
       "    </tr>\n",
       "  </tbody>\n",
       "</table>\n",
       "<p>432 rows × 2 columns</p>\n",
       "</div>"
      ],
      "text/plain": [
       "                          clusters  distance_to_clusters\n",
       "Alabama-Barbour                1.0              0.220634\n",
       "Alabama-Bullock                1.0              0.625193\n",
       "Alabama-Butler                 1.0              0.163451\n",
       "Alabama-Calhoun                1.0              0.315917\n",
       "Alabama-Chambers               1.0              0.305626\n",
       "...                            ...                   ...\n",
       "Virginia-Portsmouth city       1.0              0.298388\n",
       "Virginia-Richmond city         1.0              0.404026\n",
       "Virginia-Roanoke city          1.0              0.354695\n",
       "West Virginia-McDowell         1.0              0.610363\n",
       "Wisconsin-Milwaukee            1.0              0.431350\n",
       "\n",
       "[432 rows x 2 columns]"
      ]
     },
     "execution_count": 99,
     "metadata": {},
     "output_type": "execute_result"
    }
   ],
   "source": [
    "#Cluster 1\n",
    "counties_kmeans[counties_kmeans[\"clusters\"] == 1]"
   ]
  },
  {
   "cell_type": "markdown",
   "metadata": {},
   "source": [
    "This is the end of the notebook. In short we did the following:\n",
    "1. Import the data\n",
    "2. Clean and prepare the data\n",
    "3. Perform PCA to reduce the dimensionality\n",
    "4. Train a K-means model (k=5) to see how everything works\n",
    "5. Perform hyperparameter optimization to find the best value for k\n",
    "6. Create a model with best k\n",
    "7. Look at natural groupings: which counties belong to the same cluster\n",
    "\n",
    "## END Notes\n",
    "Other good clustering algorithms that could be used are **Gaussian Mixture Models** and **DBSCAN**. I give a brief overview of these algorithms: \n",
    "- **Gaussian Mixture Models (GMM)**: GMM's assume that there are a certain number of Gaussian distributions, and each of these distributions represent a cluster. Hence, a GMM tends to group the data points belonging to a single distribution together.  GMM's are probabilistic models and use the soft clustering approach for distributing the points in different clusters. \n",
    "\n",
    "- **DBSCAN**: DBSCAN stand for **D**ensity **B**ased **S**patial **C**lustering of **A**pplications with **N**oise. It is able to find arbitrary shaped clusters and clusters with noise (e.i. outliers). The main idea behind DBSCAN is that a datapoint belongs to a cluster if it is close to many points from that cluster."
   ]
  },
  {
   "cell_type": "markdown",
   "metadata": {},
   "source": [
    "## Helper functions"
   ]
  },
  {
   "cell_type": "code",
   "execution_count": null,
   "metadata": {},
   "outputs": [],
   "source": [
    "#Use to get the methods and attributes of a class\n",
    "#dir(session)"
   ]
  },
  {
   "cell_type": "code",
   "execution_count": null,
   "metadata": {},
   "outputs": [],
   "source": [
    "#Get information about an object\n",
    "#help(session)"
   ]
  }
 ],
 "metadata": {
  "kernelspec": {
   "display_name": "conda_mxnet_p36",
   "language": "python",
   "name": "conda_mxnet_p36"
  },
  "language_info": {
   "codemirror_mode": {
    "name": "ipython",
    "version": 3
   },
   "file_extension": ".py",
   "mimetype": "text/x-python",
   "name": "python",
   "nbconvert_exporter": "python",
   "pygments_lexer": "ipython3",
   "version": "3.6.10"
  }
 },
 "nbformat": 4,
 "nbformat_minor": 4
}
